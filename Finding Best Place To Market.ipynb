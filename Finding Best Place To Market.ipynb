{
 "cells": [
  {
   "cell_type": "markdown",
   "metadata": {},
   "source": [
    "# Top 2 Products to Advertise Web and Mobile Development and other Online Courses"
   ]
  },
  {
   "cell_type": "markdown",
   "metadata": {},
   "source": [
    "Online Courses of Computer Related Activities is being use alot today. There are many companies that offer them but not all of them can stand at the top, therefore advertising can give a boost of popularity to the company.\n",
    "\n",
    "The goal of the project is find out the two best markets to advertise a product in.\n"
   ]
  },
  {
   "cell_type": "code",
   "execution_count": 1,
   "metadata": {},
   "outputs": [],
   "source": [
    "import pandas as pd\n",
    "import matplotlib.patches as mpatches\n",
    "import matplotlib.pyplot as plt\n",
    "import numpy as np\n",
    "import seaborn as sns\n",
    "%matplotlib inline"
   ]
  },
  {
   "cell_type": "code",
   "execution_count": 2,
   "metadata": {},
   "outputs": [],
   "source": [
    "survey_data = pd.read_csv('2017-fCC-New-Coders-Survey-Data.csv',low_memory=False)"
   ]
  },
  {
   "cell_type": "code",
   "execution_count": 3,
   "metadata": {},
   "outputs": [
    {
     "data": {
      "text/html": [
       "<div>\n",
       "<style scoped>\n",
       "    .dataframe tbody tr th:only-of-type {\n",
       "        vertical-align: middle;\n",
       "    }\n",
       "\n",
       "    .dataframe tbody tr th {\n",
       "        vertical-align: top;\n",
       "    }\n",
       "\n",
       "    .dataframe thead th {\n",
       "        text-align: right;\n",
       "    }\n",
       "</style>\n",
       "<table border=\"1\" class=\"dataframe\">\n",
       "  <thead>\n",
       "    <tr style=\"text-align: right;\">\n",
       "      <th></th>\n",
       "      <th>Age</th>\n",
       "      <th>AttendedBootcamp</th>\n",
       "      <th>BootcampFinish</th>\n",
       "      <th>BootcampLoanYesNo</th>\n",
       "      <th>BootcampName</th>\n",
       "      <th>BootcampRecommend</th>\n",
       "      <th>ChildrenNumber</th>\n",
       "      <th>CityPopulation</th>\n",
       "      <th>CodeEventConferences</th>\n",
       "      <th>CodeEventDjangoGirls</th>\n",
       "      <th>...</th>\n",
       "      <th>YouTubeFCC</th>\n",
       "      <th>YouTubeFunFunFunction</th>\n",
       "      <th>YouTubeGoogleDev</th>\n",
       "      <th>YouTubeLearnCode</th>\n",
       "      <th>YouTubeLevelUpTuts</th>\n",
       "      <th>YouTubeMIT</th>\n",
       "      <th>YouTubeMozillaHacks</th>\n",
       "      <th>YouTubeOther</th>\n",
       "      <th>YouTubeSimplilearn</th>\n",
       "      <th>YouTubeTheNewBoston</th>\n",
       "    </tr>\n",
       "  </thead>\n",
       "  <tbody>\n",
       "    <tr>\n",
       "      <th>0</th>\n",
       "      <td>27.0</td>\n",
       "      <td>0.0</td>\n",
       "      <td>NaN</td>\n",
       "      <td>NaN</td>\n",
       "      <td>NaN</td>\n",
       "      <td>NaN</td>\n",
       "      <td>NaN</td>\n",
       "      <td>more than 1 million</td>\n",
       "      <td>NaN</td>\n",
       "      <td>NaN</td>\n",
       "      <td>...</td>\n",
       "      <td>NaN</td>\n",
       "      <td>NaN</td>\n",
       "      <td>NaN</td>\n",
       "      <td>NaN</td>\n",
       "      <td>NaN</td>\n",
       "      <td>NaN</td>\n",
       "      <td>NaN</td>\n",
       "      <td>NaN</td>\n",
       "      <td>NaN</td>\n",
       "      <td>NaN</td>\n",
       "    </tr>\n",
       "    <tr>\n",
       "      <th>1</th>\n",
       "      <td>34.0</td>\n",
       "      <td>0.0</td>\n",
       "      <td>NaN</td>\n",
       "      <td>NaN</td>\n",
       "      <td>NaN</td>\n",
       "      <td>NaN</td>\n",
       "      <td>NaN</td>\n",
       "      <td>less than 100,000</td>\n",
       "      <td>NaN</td>\n",
       "      <td>NaN</td>\n",
       "      <td>...</td>\n",
       "      <td>1.0</td>\n",
       "      <td>NaN</td>\n",
       "      <td>NaN</td>\n",
       "      <td>NaN</td>\n",
       "      <td>NaN</td>\n",
       "      <td>NaN</td>\n",
       "      <td>NaN</td>\n",
       "      <td>NaN</td>\n",
       "      <td>NaN</td>\n",
       "      <td>NaN</td>\n",
       "    </tr>\n",
       "    <tr>\n",
       "      <th>2</th>\n",
       "      <td>21.0</td>\n",
       "      <td>0.0</td>\n",
       "      <td>NaN</td>\n",
       "      <td>NaN</td>\n",
       "      <td>NaN</td>\n",
       "      <td>NaN</td>\n",
       "      <td>NaN</td>\n",
       "      <td>more than 1 million</td>\n",
       "      <td>NaN</td>\n",
       "      <td>NaN</td>\n",
       "      <td>...</td>\n",
       "      <td>NaN</td>\n",
       "      <td>NaN</td>\n",
       "      <td>NaN</td>\n",
       "      <td>1.0</td>\n",
       "      <td>1.0</td>\n",
       "      <td>NaN</td>\n",
       "      <td>NaN</td>\n",
       "      <td>NaN</td>\n",
       "      <td>NaN</td>\n",
       "      <td>NaN</td>\n",
       "    </tr>\n",
       "    <tr>\n",
       "      <th>3</th>\n",
       "      <td>26.0</td>\n",
       "      <td>0.0</td>\n",
       "      <td>NaN</td>\n",
       "      <td>NaN</td>\n",
       "      <td>NaN</td>\n",
       "      <td>NaN</td>\n",
       "      <td>NaN</td>\n",
       "      <td>between 100,000 and 1 million</td>\n",
       "      <td>NaN</td>\n",
       "      <td>NaN</td>\n",
       "      <td>...</td>\n",
       "      <td>1.0</td>\n",
       "      <td>1.0</td>\n",
       "      <td>NaN</td>\n",
       "      <td>NaN</td>\n",
       "      <td>1.0</td>\n",
       "      <td>NaN</td>\n",
       "      <td>NaN</td>\n",
       "      <td>NaN</td>\n",
       "      <td>NaN</td>\n",
       "      <td>NaN</td>\n",
       "    </tr>\n",
       "    <tr>\n",
       "      <th>4</th>\n",
       "      <td>20.0</td>\n",
       "      <td>0.0</td>\n",
       "      <td>NaN</td>\n",
       "      <td>NaN</td>\n",
       "      <td>NaN</td>\n",
       "      <td>NaN</td>\n",
       "      <td>NaN</td>\n",
       "      <td>between 100,000 and 1 million</td>\n",
       "      <td>NaN</td>\n",
       "      <td>NaN</td>\n",
       "      <td>...</td>\n",
       "      <td>NaN</td>\n",
       "      <td>NaN</td>\n",
       "      <td>NaN</td>\n",
       "      <td>NaN</td>\n",
       "      <td>NaN</td>\n",
       "      <td>NaN</td>\n",
       "      <td>NaN</td>\n",
       "      <td>NaN</td>\n",
       "      <td>NaN</td>\n",
       "      <td>NaN</td>\n",
       "    </tr>\n",
       "  </tbody>\n",
       "</table>\n",
       "<p>5 rows × 136 columns</p>\n",
       "</div>"
      ],
      "text/plain": [
       "    Age  AttendedBootcamp  BootcampFinish  BootcampLoanYesNo BootcampName  \\\n",
       "0  27.0               0.0             NaN                NaN          NaN   \n",
       "1  34.0               0.0             NaN                NaN          NaN   \n",
       "2  21.0               0.0             NaN                NaN          NaN   \n",
       "3  26.0               0.0             NaN                NaN          NaN   \n",
       "4  20.0               0.0             NaN                NaN          NaN   \n",
       "\n",
       "   BootcampRecommend  ChildrenNumber                 CityPopulation  \\\n",
       "0                NaN             NaN            more than 1 million   \n",
       "1                NaN             NaN              less than 100,000   \n",
       "2                NaN             NaN            more than 1 million   \n",
       "3                NaN             NaN  between 100,000 and 1 million   \n",
       "4                NaN             NaN  between 100,000 and 1 million   \n",
       "\n",
       "   CodeEventConferences  CodeEventDjangoGirls         ...           \\\n",
       "0                   NaN                   NaN         ...            \n",
       "1                   NaN                   NaN         ...            \n",
       "2                   NaN                   NaN         ...            \n",
       "3                   NaN                   NaN         ...            \n",
       "4                   NaN                   NaN         ...            \n",
       "\n",
       "   YouTubeFCC  YouTubeFunFunFunction  YouTubeGoogleDev  YouTubeLearnCode  \\\n",
       "0         NaN                    NaN               NaN               NaN   \n",
       "1         1.0                    NaN               NaN               NaN   \n",
       "2         NaN                    NaN               NaN               1.0   \n",
       "3         1.0                    1.0               NaN               NaN   \n",
       "4         NaN                    NaN               NaN               NaN   \n",
       "\n",
       "   YouTubeLevelUpTuts  YouTubeMIT  YouTubeMozillaHacks YouTubeOther  \\\n",
       "0                 NaN         NaN                  NaN          NaN   \n",
       "1                 NaN         NaN                  NaN          NaN   \n",
       "2                 1.0         NaN                  NaN          NaN   \n",
       "3                 1.0         NaN                  NaN          NaN   \n",
       "4                 NaN         NaN                  NaN          NaN   \n",
       "\n",
       "   YouTubeSimplilearn  YouTubeTheNewBoston  \n",
       "0                 NaN                  NaN  \n",
       "1                 NaN                  NaN  \n",
       "2                 NaN                  NaN  \n",
       "3                 NaN                  NaN  \n",
       "4                 NaN                  NaN  \n",
       "\n",
       "[5 rows x 136 columns]"
      ]
     },
     "execution_count": 3,
     "metadata": {},
     "output_type": "execute_result"
    }
   ],
   "source": [
    "survey_data.head()"
   ]
  },
  {
   "cell_type": "code",
   "execution_count": 4,
   "metadata": {},
   "outputs": [
    {
     "data": {
      "text/html": [
       "<div>\n",
       "<style scoped>\n",
       "    .dataframe tbody tr th:only-of-type {\n",
       "        vertical-align: middle;\n",
       "    }\n",
       "\n",
       "    .dataframe tbody tr th {\n",
       "        vertical-align: top;\n",
       "    }\n",
       "\n",
       "    .dataframe thead th {\n",
       "        text-align: right;\n",
       "    }\n",
       "</style>\n",
       "<table border=\"1\" class=\"dataframe\">\n",
       "  <thead>\n",
       "    <tr style=\"text-align: right;\">\n",
       "      <th></th>\n",
       "      <th>CodeEventOther</th>\n",
       "      <th>JobInterestOther</th>\n",
       "    </tr>\n",
       "  </thead>\n",
       "  <tbody>\n",
       "    <tr>\n",
       "      <th>0</th>\n",
       "      <td>NaN</td>\n",
       "      <td>NaN</td>\n",
       "    </tr>\n",
       "    <tr>\n",
       "      <th>1</th>\n",
       "      <td>NaN</td>\n",
       "      <td>NaN</td>\n",
       "    </tr>\n",
       "    <tr>\n",
       "      <th>2</th>\n",
       "      <td>NaN</td>\n",
       "      <td>NaN</td>\n",
       "    </tr>\n",
       "    <tr>\n",
       "      <th>3</th>\n",
       "      <td>NaN</td>\n",
       "      <td>NaN</td>\n",
       "    </tr>\n",
       "    <tr>\n",
       "      <th>4</th>\n",
       "      <td>NaN</td>\n",
       "      <td>NaN</td>\n",
       "    </tr>\n",
       "    <tr>\n",
       "      <th>5</th>\n",
       "      <td>NaN</td>\n",
       "      <td>NaN</td>\n",
       "    </tr>\n",
       "    <tr>\n",
       "      <th>6</th>\n",
       "      <td>NaN</td>\n",
       "      <td>NaN</td>\n",
       "    </tr>\n",
       "    <tr>\n",
       "      <th>7</th>\n",
       "      <td>NaN</td>\n",
       "      <td>NaN</td>\n",
       "    </tr>\n",
       "    <tr>\n",
       "      <th>8</th>\n",
       "      <td>NaN</td>\n",
       "      <td>NaN</td>\n",
       "    </tr>\n",
       "    <tr>\n",
       "      <th>9</th>\n",
       "      <td>NaN</td>\n",
       "      <td>NaN</td>\n",
       "    </tr>\n",
       "    <tr>\n",
       "      <th>10</th>\n",
       "      <td>NaN</td>\n",
       "      <td>NaN</td>\n",
       "    </tr>\n",
       "    <tr>\n",
       "      <th>11</th>\n",
       "      <td>NaN</td>\n",
       "      <td>NaN</td>\n",
       "    </tr>\n",
       "    <tr>\n",
       "      <th>12</th>\n",
       "      <td>NaN</td>\n",
       "      <td>NaN</td>\n",
       "    </tr>\n",
       "    <tr>\n",
       "      <th>13</th>\n",
       "      <td>NaN</td>\n",
       "      <td>NaN</td>\n",
       "    </tr>\n",
       "    <tr>\n",
       "      <th>14</th>\n",
       "      <td>NaN</td>\n",
       "      <td>NaN</td>\n",
       "    </tr>\n",
       "    <tr>\n",
       "      <th>15</th>\n",
       "      <td>NaN</td>\n",
       "      <td>NaN</td>\n",
       "    </tr>\n",
       "    <tr>\n",
       "      <th>16</th>\n",
       "      <td>NaN</td>\n",
       "      <td>NaN</td>\n",
       "    </tr>\n",
       "    <tr>\n",
       "      <th>17</th>\n",
       "      <td>NaN</td>\n",
       "      <td>NaN</td>\n",
       "    </tr>\n",
       "    <tr>\n",
       "      <th>18</th>\n",
       "      <td>NaN</td>\n",
       "      <td>NaN</td>\n",
       "    </tr>\n",
       "    <tr>\n",
       "      <th>19</th>\n",
       "      <td>NaN</td>\n",
       "      <td>NaN</td>\n",
       "    </tr>\n",
       "    <tr>\n",
       "      <th>20</th>\n",
       "      <td>NaN</td>\n",
       "      <td>NaN</td>\n",
       "    </tr>\n",
       "    <tr>\n",
       "      <th>21</th>\n",
       "      <td>NaN</td>\n",
       "      <td>NaN</td>\n",
       "    </tr>\n",
       "    <tr>\n",
       "      <th>22</th>\n",
       "      <td>NaN</td>\n",
       "      <td>NaN</td>\n",
       "    </tr>\n",
       "    <tr>\n",
       "      <th>23</th>\n",
       "      <td>NaN</td>\n",
       "      <td>NaN</td>\n",
       "    </tr>\n",
       "    <tr>\n",
       "      <th>24</th>\n",
       "      <td>NaN</td>\n",
       "      <td>NaN</td>\n",
       "    </tr>\n",
       "    <tr>\n",
       "      <th>25</th>\n",
       "      <td>NaN</td>\n",
       "      <td>NaN</td>\n",
       "    </tr>\n",
       "    <tr>\n",
       "      <th>26</th>\n",
       "      <td>NaN</td>\n",
       "      <td>NaN</td>\n",
       "    </tr>\n",
       "    <tr>\n",
       "      <th>27</th>\n",
       "      <td>NaN</td>\n",
       "      <td>NaN</td>\n",
       "    </tr>\n",
       "    <tr>\n",
       "      <th>28</th>\n",
       "      <td>NaN</td>\n",
       "      <td>NaN</td>\n",
       "    </tr>\n",
       "    <tr>\n",
       "      <th>29</th>\n",
       "      <td>NaN</td>\n",
       "      <td>NaN</td>\n",
       "    </tr>\n",
       "    <tr>\n",
       "      <th>...</th>\n",
       "      <td>...</td>\n",
       "      <td>...</td>\n",
       "    </tr>\n",
       "    <tr>\n",
       "      <th>18145</th>\n",
       "      <td>NaN</td>\n",
       "      <td>NaN</td>\n",
       "    </tr>\n",
       "    <tr>\n",
       "      <th>18146</th>\n",
       "      <td>NaN</td>\n",
       "      <td>NaN</td>\n",
       "    </tr>\n",
       "    <tr>\n",
       "      <th>18147</th>\n",
       "      <td>NaN</td>\n",
       "      <td>NaN</td>\n",
       "    </tr>\n",
       "    <tr>\n",
       "      <th>18148</th>\n",
       "      <td>NaN</td>\n",
       "      <td>NaN</td>\n",
       "    </tr>\n",
       "    <tr>\n",
       "      <th>18149</th>\n",
       "      <td>NaN</td>\n",
       "      <td>NaN</td>\n",
       "    </tr>\n",
       "    <tr>\n",
       "      <th>18150</th>\n",
       "      <td>NaN</td>\n",
       "      <td>NaN</td>\n",
       "    </tr>\n",
       "    <tr>\n",
       "      <th>18151</th>\n",
       "      <td>NaN</td>\n",
       "      <td>NaN</td>\n",
       "    </tr>\n",
       "    <tr>\n",
       "      <th>18152</th>\n",
       "      <td>NaN</td>\n",
       "      <td>NaN</td>\n",
       "    </tr>\n",
       "    <tr>\n",
       "      <th>18153</th>\n",
       "      <td>NaN</td>\n",
       "      <td>NaN</td>\n",
       "    </tr>\n",
       "    <tr>\n",
       "      <th>18154</th>\n",
       "      <td>NaN</td>\n",
       "      <td>NaN</td>\n",
       "    </tr>\n",
       "    <tr>\n",
       "      <th>18155</th>\n",
       "      <td>NaN</td>\n",
       "      <td>NaN</td>\n",
       "    </tr>\n",
       "    <tr>\n",
       "      <th>18156</th>\n",
       "      <td>NaN</td>\n",
       "      <td>NaN</td>\n",
       "    </tr>\n",
       "    <tr>\n",
       "      <th>18157</th>\n",
       "      <td>NaN</td>\n",
       "      <td>NaN</td>\n",
       "    </tr>\n",
       "    <tr>\n",
       "      <th>18158</th>\n",
       "      <td>Google Code Camp</td>\n",
       "      <td>NaN</td>\n",
       "    </tr>\n",
       "    <tr>\n",
       "      <th>18159</th>\n",
       "      <td>WSD - WebStandardsDays</td>\n",
       "      <td>NaN</td>\n",
       "    </tr>\n",
       "    <tr>\n",
       "      <th>18160</th>\n",
       "      <td>A Class At Community College</td>\n",
       "      <td>NaN</td>\n",
       "    </tr>\n",
       "    <tr>\n",
       "      <th>18161</th>\n",
       "      <td>Matf</td>\n",
       "      <td>NaN</td>\n",
       "    </tr>\n",
       "    <tr>\n",
       "      <th>18162</th>\n",
       "      <td>NaN</td>\n",
       "      <td>NaN</td>\n",
       "    </tr>\n",
       "    <tr>\n",
       "      <th>18163</th>\n",
       "      <td>NaN</td>\n",
       "      <td>NaN</td>\n",
       "    </tr>\n",
       "    <tr>\n",
       "      <th>18164</th>\n",
       "      <td>NaN</td>\n",
       "      <td>NaN</td>\n",
       "    </tr>\n",
       "    <tr>\n",
       "      <th>18165</th>\n",
       "      <td>Internet</td>\n",
       "      <td>NaN</td>\n",
       "    </tr>\n",
       "    <tr>\n",
       "      <th>18166</th>\n",
       "      <td>EPAM Trainings</td>\n",
       "      <td>NaN</td>\n",
       "    </tr>\n",
       "    <tr>\n",
       "      <th>18167</th>\n",
       "      <td>NaN</td>\n",
       "      <td>NaN</td>\n",
       "    </tr>\n",
       "    <tr>\n",
       "      <th>18168</th>\n",
       "      <td>NaN</td>\n",
       "      <td>NaN</td>\n",
       "    </tr>\n",
       "    <tr>\n",
       "      <th>18169</th>\n",
       "      <td>NaN</td>\n",
       "      <td>NaN</td>\n",
       "    </tr>\n",
       "    <tr>\n",
       "      <th>18170</th>\n",
       "      <td>NaN</td>\n",
       "      <td>NaN</td>\n",
       "    </tr>\n",
       "    <tr>\n",
       "      <th>18171</th>\n",
       "      <td>NaN</td>\n",
       "      <td>IT Specialist</td>\n",
       "    </tr>\n",
       "    <tr>\n",
       "      <th>18172</th>\n",
       "      <td>NaN</td>\n",
       "      <td>NaN</td>\n",
       "    </tr>\n",
       "    <tr>\n",
       "      <th>18173</th>\n",
       "      <td>NaN</td>\n",
       "      <td>NaN</td>\n",
       "    </tr>\n",
       "    <tr>\n",
       "      <th>18174</th>\n",
       "      <td>NaN</td>\n",
       "      <td>NaN</td>\n",
       "    </tr>\n",
       "  </tbody>\n",
       "</table>\n",
       "<p>18175 rows × 2 columns</p>\n",
       "</div>"
      ],
      "text/plain": [
       "                     CodeEventOther JobInterestOther\n",
       "0                               NaN              NaN\n",
       "1                               NaN              NaN\n",
       "2                               NaN              NaN\n",
       "3                               NaN              NaN\n",
       "4                               NaN              NaN\n",
       "5                               NaN              NaN\n",
       "6                               NaN              NaN\n",
       "7                               NaN              NaN\n",
       "8                               NaN              NaN\n",
       "9                               NaN              NaN\n",
       "10                              NaN              NaN\n",
       "11                              NaN              NaN\n",
       "12                              NaN              NaN\n",
       "13                              NaN              NaN\n",
       "14                              NaN              NaN\n",
       "15                              NaN              NaN\n",
       "16                              NaN              NaN\n",
       "17                              NaN              NaN\n",
       "18                              NaN              NaN\n",
       "19                              NaN              NaN\n",
       "20                              NaN              NaN\n",
       "21                              NaN              NaN\n",
       "22                              NaN              NaN\n",
       "23                              NaN              NaN\n",
       "24                              NaN              NaN\n",
       "25                              NaN              NaN\n",
       "26                              NaN              NaN\n",
       "27                              NaN              NaN\n",
       "28                              NaN              NaN\n",
       "29                              NaN              NaN\n",
       "...                             ...              ...\n",
       "18145                           NaN              NaN\n",
       "18146                           NaN              NaN\n",
       "18147                           NaN              NaN\n",
       "18148                           NaN              NaN\n",
       "18149                           NaN              NaN\n",
       "18150                           NaN              NaN\n",
       "18151                           NaN              NaN\n",
       "18152                           NaN              NaN\n",
       "18153                           NaN              NaN\n",
       "18154                           NaN              NaN\n",
       "18155                           NaN              NaN\n",
       "18156                           NaN              NaN\n",
       "18157                           NaN              NaN\n",
       "18158              Google Code Camp              NaN\n",
       "18159        WSD - WebStandardsDays              NaN\n",
       "18160  A Class At Community College              NaN\n",
       "18161                          Matf              NaN\n",
       "18162                           NaN              NaN\n",
       "18163                           NaN              NaN\n",
       "18164                           NaN              NaN\n",
       "18165                      Internet              NaN\n",
       "18166                EPAM Trainings              NaN\n",
       "18167                           NaN              NaN\n",
       "18168                           NaN              NaN\n",
       "18169                           NaN              NaN\n",
       "18170                           NaN              NaN\n",
       "18171                           NaN    IT Specialist\n",
       "18172                           NaN              NaN\n",
       "18173                           NaN              NaN\n",
       "18174                           NaN              NaN\n",
       "\n",
       "[18175 rows x 2 columns]"
      ]
     },
     "execution_count": 4,
     "metadata": {},
     "output_type": "execute_result"
    }
   ],
   "source": [
    "survey_data[['CodeEventOther','JobInterestOther']]"
   ]
  },
  {
   "cell_type": "code",
   "execution_count": 5,
   "metadata": {},
   "outputs": [
    {
     "name": "stdout",
     "output_type": "stream",
     "text": [
      "Age\n",
      "AttendedBootcamp\n",
      "BootcampFinish\n",
      "BootcampLoanYesNo\n",
      "BootcampName\n",
      "BootcampRecommend\n",
      "ChildrenNumber\n",
      "CityPopulation\n",
      "CodeEventConferences\n",
      "CodeEventDjangoGirls\n",
      "CodeEventFCC\n",
      "CodeEventGameJam\n",
      "CodeEventGirlDev\n",
      "CodeEventHackathons\n",
      "CodeEventMeetup\n",
      "CodeEventNodeSchool\n",
      "CodeEventNone\n",
      "CodeEventOther\n",
      "CodeEventRailsBridge\n",
      "CodeEventRailsGirls\n",
      "CodeEventStartUpWknd\n",
      "CodeEventWkdBootcamps\n",
      "CodeEventWomenCode\n",
      "CodeEventWorkshops\n",
      "CommuteTime\n",
      "CountryCitizen\n",
      "CountryLive\n",
      "EmploymentField\n",
      "EmploymentFieldOther\n",
      "EmploymentStatus\n",
      "EmploymentStatusOther\n",
      "ExpectedEarning\n",
      "FinanciallySupporting\n",
      "FirstDevJob\n",
      "Gender\n",
      "GenderOther\n",
      "HasChildren\n",
      "HasDebt\n",
      "HasFinancialDependents\n",
      "HasHighSpdInternet\n",
      "HasHomeMortgage\n",
      "HasServedInMilitary\n",
      "HasStudentDebt\n",
      "HomeMortgageOwe\n",
      "HoursLearning\n",
      "ID.x\n",
      "ID.y\n",
      "Income\n",
      "IsEthnicMinority\n",
      "IsReceiveDisabilitiesBenefits\n",
      "IsSoftwareDev\n",
      "IsUnderEmployed\n",
      "JobApplyWhen\n",
      "JobInterestBackEnd\n",
      "JobInterestDataEngr\n",
      "JobInterestDataSci\n",
      "JobInterestDevOps\n",
      "JobInterestFrontEnd\n",
      "JobInterestFullStack\n",
      "JobInterestGameDev\n",
      "JobInterestInfoSec\n",
      "JobInterestMobile\n",
      "JobInterestOther\n",
      "JobInterestProjMngr\n",
      "JobInterestQAEngr\n",
      "JobInterestUX\n",
      "JobPref\n",
      "JobRelocateYesNo\n",
      "JobRoleInterest\n",
      "JobWherePref\n",
      "LanguageAtHome\n",
      "MaritalStatus\n",
      "MoneyForLearning\n",
      "MonthsProgramming\n",
      "NetworkID\n",
      "Part1EndTime\n",
      "Part1StartTime\n",
      "Part2EndTime\n",
      "Part2StartTime\n",
      "PodcastChangeLog\n",
      "PodcastCodeNewbie\n",
      "PodcastCodePen\n",
      "PodcastDevTea\n",
      "PodcastDotNET\n",
      "PodcastGiantRobots\n",
      "PodcastJSAir\n",
      "PodcastJSJabber\n",
      "PodcastNone\n",
      "PodcastOther\n",
      "PodcastProgThrowdown\n",
      "PodcastRubyRogues\n",
      "PodcastSEDaily\n",
      "PodcastSERadio\n",
      "PodcastShopTalk\n",
      "PodcastTalkPython\n",
      "PodcastTheWebAhead\n",
      "ResourceCodecademy\n",
      "ResourceCodeWars\n",
      "ResourceCoursera\n",
      "ResourceCSS\n",
      "ResourceEdX\n",
      "ResourceEgghead\n",
      "ResourceFCC\n",
      "ResourceHackerRank\n",
      "ResourceKA\n",
      "ResourceLynda\n",
      "ResourceMDN\n",
      "ResourceOdinProj\n",
      "ResourceOther\n",
      "ResourcePluralSight\n",
      "ResourceSkillcrush\n",
      "ResourceSO\n",
      "ResourceTreehouse\n",
      "ResourceUdacity\n",
      "ResourceUdemy\n",
      "ResourceW3S\n",
      "SchoolDegree\n",
      "SchoolMajor\n",
      "StudentDebtOwe\n",
      "YouTubeCodeCourse\n",
      "YouTubeCodingTrain\n",
      "YouTubeCodingTut360\n",
      "YouTubeComputerphile\n",
      "YouTubeDerekBanas\n",
      "YouTubeDevTips\n",
      "YouTubeEngineeredTruth\n",
      "YouTubeFCC\n",
      "YouTubeFunFunFunction\n",
      "YouTubeGoogleDev\n",
      "YouTubeLearnCode\n",
      "YouTubeLevelUpTuts\n",
      "YouTubeMIT\n",
      "YouTubeMozillaHacks\n",
      "YouTubeOther\n",
      "YouTubeSimplilearn\n",
      "YouTubeTheNewBoston\n"
     ]
    }
   ],
   "source": [
    "columns = survey_data.columns\n",
    "for col in columns:\n",
    "    print(col)"
   ]
  },
  {
   "cell_type": "code",
   "execution_count": 6,
   "metadata": {},
   "outputs": [
    {
     "data": {
      "text/plain": [
       "'JobInterestOther'"
      ]
     },
     "execution_count": 6,
     "metadata": {},
     "output_type": "execute_result"
    }
   ],
   "source": [
    "columns[62]"
   ]
  },
  {
   "cell_type": "code",
   "execution_count": 7,
   "metadata": {},
   "outputs": [
    {
     "data": {
      "text/plain": [
       "dtype('O')"
      ]
     },
     "execution_count": 7,
     "metadata": {},
     "output_type": "execute_result"
    }
   ],
   "source": [
    "survey_data['JobInterestOther'].dtype"
   ]
  },
  {
   "cell_type": "code",
   "execution_count": 8,
   "metadata": {},
   "outputs": [
    {
     "data": {
      "text/plain": [
       "NaN                                                                        17605\n",
       "No                                                                            21\n",
       "Ladies Learning Code                                                           9\n",
       "School                                                                         8\n",
       "General Assembly                                                               8\n",
       "Bootcamp                                                                       8\n",
       "Na                                                                             6\n",
       "Codebar                                                                        5\n",
       "No One                                                                         5\n",
       "GDG                                                                            4\n",
       "Andela Bootcamp                                                                3\n",
       "Any                                                                            3\n",
       "College                                                                        3\n",
       "Local Events                                                                   3\n",
       "Code First: Girls                                                              3\n",
       "Hour Of Code                                                                   3\n",
       "PyLadies                                                                       3\n",
       "Coding Dojo                                                                    3\n",
       "Google Developer Group                                                         3\n",
       "WordCamp                                                                       3\n",
       "Coding Bootcamp                                                                3\n",
       "Youtube                                                                        2\n",
       "No Events                                                                      2\n",
       "The Iron Yard                                                                  2\n",
       "Discord                                                                        2\n",
       "Launchcode                                                                     2\n",
       "Hear Me Code                                                                   2\n",
       "Girls Who Code                                                                 2\n",
       "Codechef                                                                       2\n",
       "Udemy                                                                          2\n",
       "                                                                           ...  \n",
       "Didnt Attempt                                                                  1\n",
       "Swap Round Project                                                             1\n",
       "Library Hosted Classes And Workshops                                           1\n",
       "Py Ohio (Hosted By Local Meetup \"Python Ohio\" Every Year)                      1\n",
       "Word Camp                                                                      1\n",
       "Ieee                                                                           1\n",
       "Work Full Time                                                                 1\n",
       "Yow                                                                            1\n",
       "LaunchCode                                                                     1\n",
       "Jug Meet Up                                                                    1\n",
       "LearningFuze Development Bootcamp In Irvine, CA                                1\n",
       "Forloop                                                                        1\n",
       "Pyladies                                                                       1\n",
       "Mentor                                                                         1\n",
       "Hack Reactor                                                                   1\n",
       "Hackerspace                                                                    1\n",
       "I Meet With A Friend Weekly.                                                   1\n",
       "I Went To A Bootcamp                                                           1\n",
       "Coding Club Started With Developers At The Software Company I Work For.        1\n",
       "Saylani Mass Training Program                                                  1\n",
       "Gdg                                                                            1\n",
       "We Got Coders                                                                  1\n",
       "Techzion                                                                       1\n",
       "Institute Of Code Bali                                                         1\n",
       "Android App Building School                                                    1\n",
       "Google Developers Conference. GDG                                              1\n",
       "Just In My University.                                                         1\n",
       "Metal Toad Meetup                                                              1\n",
       "Grace Hopper Conference                                                        1\n",
       "Free Code Camp                                                                 1\n",
       "Name: CodeEventOther, Length: 464, dtype: int64"
      ]
     },
     "execution_count": 8,
     "metadata": {},
     "output_type": "execute_result"
    }
   ],
   "source": [
    "survey_data['CodeEventOther'].value_counts(dropna = False)"
   ]
  },
  {
   "cell_type": "code",
   "execution_count": 9,
   "metadata": {},
   "outputs": [
    {
     "data": {
      "text/plain": [
       "0                      Canada\n",
       "1    United States of America\n",
       "2    United States of America\n",
       "3                      Brazil\n",
       "4                    Portugal\n",
       "Name: CountryLive, dtype: object"
      ]
     },
     "execution_count": 9,
     "metadata": {},
     "output_type": "execute_result"
    }
   ],
   "source": [
    "survey_data[\"CountryLive\"].head()"
   ]
  },
  {
   "cell_type": "code",
   "execution_count": 10,
   "metadata": {},
   "outputs": [
    {
     "data": {
      "text/plain": [
       "Employed for wages                      7624\n",
       "Not working but looking for work        3147\n",
       "Self-employed freelancer                1199\n",
       "Not working and not looking for work     906\n",
       "Self-employed business owner             534\n",
       "Doing an unpaid internship               339\n",
       "Unable to work                           262\n",
       "A stay-at-home parent or homemaker       214\n",
       "Military                                  88\n",
       "Retired                                   32\n",
       "Name: EmploymentStatus, dtype: int64"
      ]
     },
     "execution_count": 10,
     "metadata": {},
     "output_type": "execute_result"
    }
   ],
   "source": [
    "survey_data[\"EmploymentStatus\"].value_counts()"
   ]
  },
  {
   "cell_type": "code",
   "execution_count": 11,
   "metadata": {},
   "outputs": [
    {
     "data": {
      "text/plain": [
       "NaN     14636\n",
       " 1.0     3539\n",
       "Name: YouTubeGoogleDev, dtype: int64"
      ]
     },
     "execution_count": 11,
     "metadata": {},
     "output_type": "execute_result"
    }
   ],
   "source": [
    "survey_data[\"YouTubeGoogleDev\"].value_counts(dropna = False)"
   ]
  },
  {
   "cell_type": "code",
   "execution_count": 12,
   "metadata": {},
   "outputs": [
    {
     "data": {
      "text/plain": [
       "Not working but looking for work        730\n",
       "Not working and not looking for work    396\n",
       "Employed for wages                      387\n",
       "Self-employed freelancer                170\n",
       "Doing an unpaid internship               92\n",
       "Unable to work                           64\n",
       "Self-employed business owner             40\n",
       "A stay-at-home parent or homemaker       27\n",
       "Military                                 12\n",
       "Name: EmploymentStatus, dtype: int64"
      ]
     },
     "execution_count": 12,
     "metadata": {},
     "output_type": "execute_result"
    }
   ],
   "source": [
    "survey_data[(survey_data[\"Age\"]<=20)&(survey_data[\"Age\"]>15)][\"EmploymentStatus\"].value_counts()"
   ]
  },
  {
   "cell_type": "code",
   "execution_count": 13,
   "metadata": {},
   "outputs": [
    {
     "data": {
      "text/plain": [
       "<matplotlib.axes._subplots.AxesSubplot at 0x7f85ecaeed68>"
      ]
     },
     "execution_count": 13,
     "metadata": {},
     "output_type": "execute_result"
    },
    {
     "data": {
      "image/png": "[encoded data removed]",
      "text/plain": [
       "<matplotlib.figure.Figure at 0x7f86406c7390>"
      ]
     },
     "metadata": {},
     "output_type": "display_data"
    }
   ],
   "source": [
    "survey_data[\"Age\"].plot.kde(xlim = (0,90))"
   ]
  },
  {
   "cell_type": "code",
   "execution_count": 14,
   "metadata": {},
   "outputs": [
    {
     "data": {
      "text/plain": [
       "count    15367.000000\n",
       "mean        27.691872\n",
       "std          8.559239\n",
       "min          0.000000\n",
       "25%         22.000000\n",
       "50%         26.000000\n",
       "75%         32.000000\n",
       "max         90.000000\n",
       "Name: Age, dtype: float64"
      ]
     },
     "execution_count": 14,
     "metadata": {},
     "output_type": "execute_result"
    }
   ],
   "source": [
    "survey_data[\"Age\"].describe()"
   ]
  },
  {
   "cell_type": "code",
   "execution_count": 15,
   "metadata": {},
   "outputs": [
    {
     "data": {
      "text/plain": [
       "Employed for wages                      6494\n",
       "Not working but looking for work        2107\n",
       "Self-employed freelancer                 865\n",
       "Not working and not looking for work     374\n",
       "Self-employed business owner             374\n",
       "Doing an unpaid internship               225\n",
       "A stay-at-home parent or homemaker       147\n",
       "Unable to work                           108\n",
       "Military                                  68\n",
       "Retired                                    3\n",
       "Name: EmploymentStatus, dtype: int64"
      ]
     },
     "execution_count": 15,
     "metadata": {},
     "output_type": "execute_result"
    }
   ],
   "source": [
    "survey_data[(survey_data[\"Age\"]<=40)&(survey_data[\"Age\"]>20)][\"EmploymentStatus\"].value_counts()"
   ]
  },
  {
   "cell_type": "markdown",
   "metadata": {},
   "source": [
    "# Our Goal is to Advertise Web and Mobile Development. We will look if our data is a representative by looking in their Job Role Interest "
   ]
  },
  {
   "cell_type": "markdown",
   "metadata": {},
   "source": [
    "## Extracting and Tallying every Jobs that Interests our population."
   ]
  },
  {
   "cell_type": "code",
   "execution_count": null,
   "metadata": {
    "collapsed": true
   },
   "outputs": [],
   "source": []
  },
  {
   "cell_type": "code",
   "execution_count": 16,
   "metadata": {
    "collapsed": true
   },
   "outputs": [],
   "source": [
    "import re"
   ]
  },
  {
   "cell_type": "code",
   "execution_count": 17,
   "metadata": {
    "collapsed": true
   },
   "outputs": [],
   "source": [
    "def get_job_count(word,dict_):\n",
    "    if type(word) != str:\n",
    "        word = \"None\"\n",
    "    regex = r\"([A-Za-z0-9-\\s]+)\"\n",
    "    wordlist = re.findall(regex,word)\n",
    "    for word in wordlist:\n",
    "        word = word.replace(\" \",\"\")\n",
    "        if word in job_count:\n",
    "            job_count[word] += 1\n",
    "        else:\n",
    "            job_count[word] = 1"
   ]
  },
  {
   "cell_type": "code",
   "execution_count": 18,
   "metadata": {},
   "outputs": [],
   "source": [
    "JobRoleInterest = survey_data[\"JobRoleInterest\"].copy()"
   ]
  },
  {
   "cell_type": "code",
   "execution_count": 19,
   "metadata": {
    "scrolled": true
   },
   "outputs": [],
   "source": [
    "job_count= {}\n",
    "x = JobRoleInterest.apply(get_job_count,args=(job_count,))"
   ]
  },
  {
   "cell_type": "markdown",
   "metadata": {},
   "source": [
    "Deleting non-sense answers"
   ]
  },
  {
   "cell_type": "code",
   "execution_count": 20,
   "metadata": {},
   "outputs": [],
   "source": [
    "to_del = ['All-whateverisrequiredtodeveloptoolstorevolutionizethemechanicalengineeringprocess','Anyofthem','Anythingthatengagesme','Ceo','Collegeprofessor','Compilers','ComputerScienceBased','Crypto','Desings','Entrepreneur','Entreprenuer','Founder','I','Idon','Idontyetknow','ajobinwhichIcanusecodingskillstocreatevaluableportalstoadvancehumanrights','improvinginmycurrentcareerasaLearningtechnologist','inwhateverformat','mjustlearningcodetoincreasemyskill-set','plc','sdreamofusingsometechinawaythatinspirescriticalamountsofpeopletoinfluencethechangesweneedtoprotect','tknowwhatthedifferenceisbetweenmostofthesesozlol','tknowyet']\n",
    "for key in to_del:\n",
    "    del job_count[key]\n",
    "col_names = [\"Job\", \"Count\"]\n",
    "df = []\n",
    "for key in job_count:\n",
    "    df.append([key,job_count[key]])\n",
    "jobs = pd.DataFrame(df, columns = col_names)"
   ]
  },
  {
   "cell_type": "code",
   "execution_count": 21,
   "metadata": {},
   "outputs": [
    {
     "data": {
      "text/html": [
       "<div>\n",
       "<style scoped>\n",
       "    .dataframe tbody tr th:only-of-type {\n",
       "        vertical-align: middle;\n",
       "    }\n",
       "\n",
       "    .dataframe tbody tr th {\n",
       "        vertical-align: top;\n",
       "    }\n",
       "\n",
       "    .dataframe thead th {\n",
       "        text-align: right;\n",
       "    }\n",
       "</style>\n",
       "<table border=\"1\" class=\"dataframe\">\n",
       "  <thead>\n",
       "    <tr style=\"text-align: right;\">\n",
       "      <th></th>\n",
       "      <th>Job</th>\n",
       "      <th>Count</th>\n",
       "    </tr>\n",
       "  </thead>\n",
       "  <tbody>\n",
       "    <tr>\n",
       "      <th>27</th>\n",
       "      <td>None</td>\n",
       "      <td>11183</td>\n",
       "    </tr>\n",
       "    <tr>\n",
       "      <th>190</th>\n",
       "      <td>Full-StackWebDeveloper</td>\n",
       "      <td>4198</td>\n",
       "    </tr>\n",
       "    <tr>\n",
       "      <th>12</th>\n",
       "      <td>Front-EndWebDeveloper</td>\n",
       "      <td>3533</td>\n",
       "    </tr>\n",
       "    <tr>\n",
       "      <th>49</th>\n",
       "      <td>Back-EndWebDeveloper</td>\n",
       "      <td>2772</td>\n",
       "    </tr>\n",
       "    <tr>\n",
       "      <th>86</th>\n",
       "      <td>MobileDeveloper</td>\n",
       "      <td>2304</td>\n",
       "    </tr>\n",
       "    <tr>\n",
       "      <th>133</th>\n",
       "      <td>DataScientist</td>\n",
       "      <td>1643</td>\n",
       "    </tr>\n",
       "    <tr>\n",
       "      <th>57</th>\n",
       "      <td>GameDeveloper</td>\n",
       "      <td>1628</td>\n",
       "    </tr>\n",
       "    <tr>\n",
       "      <th>196</th>\n",
       "      <td>UserExperienceDesigner</td>\n",
       "      <td>1469</td>\n",
       "    </tr>\n",
       "    <tr>\n",
       "      <th>152</th>\n",
       "      <td>InformationSecurity</td>\n",
       "      <td>1326</td>\n",
       "    </tr>\n",
       "    <tr>\n",
       "      <th>174</th>\n",
       "      <td>DataEngineer</td>\n",
       "      <td>1248</td>\n",
       "    </tr>\n",
       "    <tr>\n",
       "      <th>187</th>\n",
       "      <td>DevOps</td>\n",
       "      <td>927</td>\n",
       "    </tr>\n",
       "    <tr>\n",
       "      <th>116</th>\n",
       "      <td>SysAdmin</td>\n",
       "      <td>927</td>\n",
       "    </tr>\n",
       "    <tr>\n",
       "      <th>104</th>\n",
       "      <td>ProductManager</td>\n",
       "      <td>814</td>\n",
       "    </tr>\n",
       "    <tr>\n",
       "      <th>25</th>\n",
       "      <td>QualityAssuranceEngineer</td>\n",
       "      <td>498</td>\n",
       "    </tr>\n",
       "    <tr>\n",
       "      <th>119</th>\n",
       "      <td>SoftwareEngineer</td>\n",
       "      <td>12</td>\n",
       "    </tr>\n",
       "    <tr>\n",
       "      <th>89</th>\n",
       "      <td>SoftwareDeveloper</td>\n",
       "      <td>6</td>\n",
       "    </tr>\n",
       "    <tr>\n",
       "      <th>69</th>\n",
       "      <td>Softwareengineer</td>\n",
       "      <td>4</td>\n",
       "    </tr>\n",
       "    <tr>\n",
       "      <th>105</th>\n",
       "      <td>ArtificialIntelligence</td>\n",
       "      <td>4</td>\n",
       "    </tr>\n",
       "    <tr>\n",
       "      <th>84</th>\n",
       "      <td>MachineLearningEngineer</td>\n",
       "      <td>3</td>\n",
       "    </tr>\n",
       "    <tr>\n",
       "      <th>126</th>\n",
       "      <td>Bioinformatics</td>\n",
       "      <td>3</td>\n",
       "    </tr>\n",
       "    <tr>\n",
       "      <th>96</th>\n",
       "      <td>designer</td>\n",
       "      <td>3</td>\n",
       "    </tr>\n",
       "    <tr>\n",
       "      <th>145</th>\n",
       "      <td>Notsure</td>\n",
       "      <td>3</td>\n",
       "    </tr>\n",
       "    <tr>\n",
       "      <th>79</th>\n",
       "      <td>DesktopApplicationDeveloper</td>\n",
       "      <td>3</td>\n",
       "    </tr>\n",
       "    <tr>\n",
       "      <th>163</th>\n",
       "      <td>BusinessAnalyst</td>\n",
       "      <td>2</td>\n",
       "    </tr>\n",
       "    <tr>\n",
       "      <th>141</th>\n",
       "      <td>dataanalyst</td>\n",
       "      <td>2</td>\n",
       "    </tr>\n",
       "    <tr>\n",
       "      <th>127</th>\n",
       "      <td>Network</td>\n",
       "      <td>2</td>\n",
       "    </tr>\n",
       "    <tr>\n",
       "      <th>39</th>\n",
       "      <td>EthicalHacker</td>\n",
       "      <td>2</td>\n",
       "    </tr>\n",
       "    <tr>\n",
       "      <th>55</th>\n",
       "      <td>Research</td>\n",
       "      <td>2</td>\n",
       "    </tr>\n",
       "    <tr>\n",
       "      <th>110</th>\n",
       "      <td>programmer</td>\n",
       "      <td>2</td>\n",
       "    </tr>\n",
       "    <tr>\n",
       "      <th>46</th>\n",
       "      <td>Unsure</td>\n",
       "      <td>2</td>\n",
       "    </tr>\n",
       "    <tr>\n",
       "      <th>...</th>\n",
       "      <td>...</td>\n",
       "      <td>...</td>\n",
       "    </tr>\n",
       "    <tr>\n",
       "      <th>98</th>\n",
       "      <td>game</td>\n",
       "      <td>1</td>\n",
       "    </tr>\n",
       "    <tr>\n",
       "      <th>1</th>\n",
       "      <td>developer</td>\n",
       "      <td>1</td>\n",
       "    </tr>\n",
       "    <tr>\n",
       "      <th>100</th>\n",
       "      <td>Bioinformatitian</td>\n",
       "      <td>1</td>\n",
       "    </tr>\n",
       "    <tr>\n",
       "      <th>101</th>\n",
       "      <td>DigitalHumanitites</td>\n",
       "      <td>1</td>\n",
       "    </tr>\n",
       "    <tr>\n",
       "      <th>102</th>\n",
       "      <td>Front-EndWebDesigner</td>\n",
       "      <td>1</td>\n",
       "    </tr>\n",
       "    <tr>\n",
       "      <th>106</th>\n",
       "      <td>SystemEngineer</td>\n",
       "      <td>1</td>\n",
       "    </tr>\n",
       "    <tr>\n",
       "      <th>107</th>\n",
       "      <td>full-stackdeveloper</td>\n",
       "      <td>1</td>\n",
       "    </tr>\n",
       "    <tr>\n",
       "      <th>78</th>\n",
       "      <td>UrbanPlanner</td>\n",
       "      <td>1</td>\n",
       "    </tr>\n",
       "    <tr>\n",
       "      <th>77</th>\n",
       "      <td>Machinelearningengineer</td>\n",
       "      <td>1</td>\n",
       "    </tr>\n",
       "    <tr>\n",
       "      <th>76</th>\n",
       "      <td>AI</td>\n",
       "      <td>1</td>\n",
       "    </tr>\n",
       "    <tr>\n",
       "      <th>64</th>\n",
       "      <td>codedeveloper</td>\n",
       "      <td>1</td>\n",
       "    </tr>\n",
       "    <tr>\n",
       "      <th>54</th>\n",
       "      <td>datajournalist</td>\n",
       "      <td>1</td>\n",
       "    </tr>\n",
       "    <tr>\n",
       "      <th>56</th>\n",
       "      <td>TechnicalWriter</td>\n",
       "      <td>1</td>\n",
       "    </tr>\n",
       "    <tr>\n",
       "      <th>58</th>\n",
       "      <td>WebDevHustler</td>\n",
       "      <td>1</td>\n",
       "    </tr>\n",
       "    <tr>\n",
       "      <th>59</th>\n",
       "      <td>BAordeveloper</td>\n",
       "      <td>1</td>\n",
       "    </tr>\n",
       "    <tr>\n",
       "      <th>60</th>\n",
       "      <td>RoboticsandAIEngineer</td>\n",
       "      <td>1</td>\n",
       "    </tr>\n",
       "    <tr>\n",
       "      <th>61</th>\n",
       "      <td>appdevetc</td>\n",
       "      <td>1</td>\n",
       "    </tr>\n",
       "    <tr>\n",
       "      <th>62</th>\n",
       "      <td>Frontend</td>\n",
       "      <td>1</td>\n",
       "    </tr>\n",
       "    <tr>\n",
       "      <th>63</th>\n",
       "      <td>web</td>\n",
       "      <td>1</td>\n",
       "    </tr>\n",
       "    <tr>\n",
       "      <th>65</th>\n",
       "      <td>Pharmacytech</td>\n",
       "      <td>1</td>\n",
       "    </tr>\n",
       "    <tr>\n",
       "      <th>75</th>\n",
       "      <td>IoT</td>\n",
       "      <td>1</td>\n",
       "    </tr>\n",
       "    <tr>\n",
       "      <th>66</th>\n",
       "      <td>ProgramManager</td>\n",
       "      <td>1</td>\n",
       "    </tr>\n",
       "    <tr>\n",
       "      <th>67</th>\n",
       "      <td>Don</td>\n",
       "      <td>1</td>\n",
       "    </tr>\n",
       "    <tr>\n",
       "      <th>68</th>\n",
       "      <td>FullStackSoftwareEngineer</td>\n",
       "      <td>1</td>\n",
       "    </tr>\n",
       "    <tr>\n",
       "      <th>70</th>\n",
       "      <td>Education</td>\n",
       "      <td>1</td>\n",
       "    </tr>\n",
       "    <tr>\n",
       "      <th>71</th>\n",
       "      <td>SoftwareProjectsManager</td>\n",
       "      <td>1</td>\n",
       "    </tr>\n",
       "    <tr>\n",
       "      <th>72</th>\n",
       "      <td>Technology-BusinessLiaison</td>\n",
       "      <td>1</td>\n",
       "    </tr>\n",
       "    <tr>\n",
       "      <th>73</th>\n",
       "      <td>UserInterfaceDesign</td>\n",
       "      <td>1</td>\n",
       "    </tr>\n",
       "    <tr>\n",
       "      <th>74</th>\n",
       "      <td>SystemsProgrammer</td>\n",
       "      <td>1</td>\n",
       "    </tr>\n",
       "    <tr>\n",
       "      <th>198</th>\n",
       "      <td>IoTDeveloper</td>\n",
       "      <td>1</td>\n",
       "    </tr>\n",
       "  </tbody>\n",
       "</table>\n",
       "<p>199 rows × 2 columns</p>\n",
       "</div>"
      ],
      "text/plain": [
       "                             Job  Count\n",
       "27                          None  11183\n",
       "190       Full-StackWebDeveloper   4198\n",
       "12         Front-EndWebDeveloper   3533\n",
       "49          Back-EndWebDeveloper   2772\n",
       "86               MobileDeveloper   2304\n",
       "133                DataScientist   1643\n",
       "57                 GameDeveloper   1628\n",
       "196       UserExperienceDesigner   1469\n",
       "152          InformationSecurity   1326\n",
       "174                 DataEngineer   1248\n",
       "187                       DevOps    927\n",
       "116                     SysAdmin    927\n",
       "104               ProductManager    814\n",
       "25      QualityAssuranceEngineer    498\n",
       "119             SoftwareEngineer     12\n",
       "89             SoftwareDeveloper      6\n",
       "69              Softwareengineer      4\n",
       "105       ArtificialIntelligence      4\n",
       "84       MachineLearningEngineer      3\n",
       "126               Bioinformatics      3\n",
       "96                      designer      3\n",
       "145                      Notsure      3\n",
       "79   DesktopApplicationDeveloper      3\n",
       "163              BusinessAnalyst      2\n",
       "141                  dataanalyst      2\n",
       "127                      Network      2\n",
       "39                 EthicalHacker      2\n",
       "55                      Research      2\n",
       "110                   programmer      2\n",
       "46                        Unsure      2\n",
       "..                           ...    ...\n",
       "98                          game      1\n",
       "1                      developer      1\n",
       "100             Bioinformatitian      1\n",
       "101           DigitalHumanitites      1\n",
       "102         Front-EndWebDesigner      1\n",
       "106               SystemEngineer      1\n",
       "107          full-stackdeveloper      1\n",
       "78                  UrbanPlanner      1\n",
       "77       Machinelearningengineer      1\n",
       "76                            AI      1\n",
       "64                 codedeveloper      1\n",
       "54                datajournalist      1\n",
       "56               TechnicalWriter      1\n",
       "58                 WebDevHustler      1\n",
       "59                 BAordeveloper      1\n",
       "60         RoboticsandAIEngineer      1\n",
       "61                     appdevetc      1\n",
       "62                      Frontend      1\n",
       "63                           web      1\n",
       "65                  Pharmacytech      1\n",
       "75                           IoT      1\n",
       "66                ProgramManager      1\n",
       "67                           Don      1\n",
       "68     FullStackSoftwareEngineer      1\n",
       "70                     Education      1\n",
       "71       SoftwareProjectsManager      1\n",
       "72    Technology-BusinessLiaison      1\n",
       "73           UserInterfaceDesign      1\n",
       "74             SystemsProgrammer      1\n",
       "198                 IoTDeveloper      1\n",
       "\n",
       "[199 rows x 2 columns]"
      ]
     },
     "execution_count": 21,
     "metadata": {},
     "output_type": "execute_result"
    }
   ],
   "source": [
    "jobs.sort_values(\"Count\", ascending = False)"
   ]
  },
  {
   "cell_type": "markdown",
   "metadata": {},
   "source": [
    "Picking Jobs that only have counts greater than 20"
   ]
  },
  {
   "cell_type": "code",
   "execution_count": 22,
   "metadata": {},
   "outputs": [
    {
     "data": {
      "text/plain": [
       "<matplotlib.axes._subplots.AxesSubplot at 0x7f85ed3a9cc0>"
      ]
     },
     "execution_count": 22,
     "metadata": {},
     "output_type": "execute_result"
    },
    {
     "data": {
      "image/png": "[encoded data removed]",
      "text/plain": [
       "<matplotlib.figure.Figure at 0x7f85ed399588>"
      ]
     },
     "metadata": {},
     "output_type": "display_data"
    }
   ],
   "source": [
    "for_bar = jobs[jobs[\"Count\"]>20].sort_values(\"Count\")\n",
    "for_bar.plot.bar(\"Job\",\"Count\", figsize=(10,10))"
   ]
  },
  {
   "cell_type": "markdown",
   "metadata": {},
   "source": [
    "The Bar plot tells us that most participants answered None, this could mean that most of them are not sure what track they should follow or they just getting started.\n",
    "\n",
    "Ignoring the none, The top 5 Job Roles that interests our participants are:\n",
    "    1. Full-StackWebDeveloper\n",
    "    2. Fron-End Stack Web Developer\n",
    "    3. Back-End Web Developer\n",
    "    4. Mobile Developer\n",
    "    5. Data Scientist\n",
    "The Top 1-3 are related to Web Developing and the Top 4 is Mobile Developer which indicates that the population is representative for this project."
   ]
  },
  {
   "cell_type": "markdown",
   "metadata": {
    "collapsed": true
   },
   "source": [
    "# 4."
   ]
  },
  {
   "cell_type": "code",
   "execution_count": 23,
   "metadata": {},
   "outputs": [],
   "source": [
    "job_list = [\"Full-Stack Web Developer\",\"Front-End Web Developer\",\"Back-End Web Developer\",\"Mobile Developer\"]\n",
    "def get_population(element, jobs):\n",
    "    for job in jobs:\n",
    "        if type(element) != str:\n",
    "            return False\n",
    "            break\n",
    "        elif job in element:\n",
    "            return True\n",
    "            break\n",
    "        else:\n",
    "            return False\n",
    "bool_col =  survey_data[\"JobRoleInterest\"].apply(get_population, args = (job_list,))\n",
    "data = survey_data[bool_col].copy()"
   ]
  },
  {
   "cell_type": "code",
   "execution_count": 24,
   "metadata": {},
   "outputs": [
    {
     "data": {
      "text/plain": [
       "1                                 Full-Stack Web Developer\n",
       "2          Front-End Web Developer, Back-End Web Develo...\n",
       "3          Front-End Web Developer, Full-Stack Web Deve...\n",
       "4        Full-Stack Web Developer, Information Security...\n",
       "6                                 Full-Stack Web Developer\n",
       "9        Full-Stack Web Developer,   Quality Assurance ...\n",
       "13       Back-End Web Developer, Full-Stack Web Develop...\n",
       "14                                Full-Stack Web Developer\n",
       "15                                Full-Stack Web Developer\n",
       "16                                Full-Stack Web Developer\n",
       "18       Full-Stack Web Developer,   Front-End Web Deve...\n",
       "19         Front-End Web Developer,   Mobile Developer,...\n",
       "22                                Full-Stack Web Developer\n",
       "28                                Full-Stack Web Developer\n",
       "29         Front-End Web Developer,   Data Scientist, F...\n",
       "30        Back-End Web Developer, Full-Stack Web Developer\n",
       "33       Full-Stack Web Developer,   Quality Assurance ...\n",
       "34        Back-End Web Developer, Full-Stack Web Developer\n",
       "35       Back-End Web Developer, Full-Stack Web Develop...\n",
       "40         Front-End Web Developer, Back-End Web Develo...\n",
       "42                                Full-Stack Web Developer\n",
       "43       Back-End Web Developer,   Front-End Web Develo...\n",
       "52         Data Scientist, Game Developer, Full-Stack W...\n",
       "55       Full-Stack Web Developer, Back-End Web Develop...\n",
       "63       Full-Stack Web Developer,   User Experience De...\n",
       "64                                Full-Stack Web Developer\n",
       "66         DevOps / SysAdmin,   Quality Assurance Engin...\n",
       "70         Front-End Web Developer, Back-End Web Develo...\n",
       "84        Back-End Web Developer, Full-Stack Web Developer\n",
       "88                Game Developer, Full-Stack Web Developer\n",
       "                               ...                        \n",
       "18017                             Full-Stack Web Developer\n",
       "18020      Front-End Web Developer,   Quality Assurance...\n",
       "18037      Mobile Developer, Data Engineer,   Front-End...\n",
       "18039      DevOps / SysAdmin, Data Engineer,   Data Sci...\n",
       "18041                             Full-Stack Web Developer\n",
       "18043      DevOps / SysAdmin, Full-Stack Web Developer,...\n",
       "18049      Front-End Web Developer, Back-End Web Develo...\n",
       "18050           Full-Stack Web Developer,   Data Scientist\n",
       "18052      Front-End Web Developer, Back-End Web Develo...\n",
       "18054      Product Manager, Full-Stack Web Developer,  ...\n",
       "18057      User Experience Designer,   Front-End Web De...\n",
       "18069                             Full-Stack Web Developer\n",
       "18078      Front-End Web Developer, Full-Stack Web Deve...\n",
       "18081    Full-Stack Web Developer, Back-End Web Develop...\n",
       "18088                             Full-Stack Web Developer\n",
       "18090    Game Developer,   Data Scientist, Full-Stack W...\n",
       "18097    Game Developer,   Mobile Developer, Full-Stack...\n",
       "18098      Front-End Web Developer, Full-Stack Web Deve...\n",
       "18099                             Full-Stack Web Developer\n",
       "18107                             Full-Stack Web Developer\n",
       "18112      Mobile Developer, Game Developer, Full-Stack...\n",
       "18118      DevOps / SysAdmin, Full-Stack Web Developer,...\n",
       "18125      Front-End Web Developer, Full-Stack Web Deve...\n",
       "18130      Front-End Web Developer,   User Experience D...\n",
       "18153       Information Security, Full-Stack Web Developer\n",
       "18154                             Full-Stack Web Developer\n",
       "18155    Full-Stack Web Developer,   Front-End Web Deve...\n",
       "18156                             Full-Stack Web Developer\n",
       "18161                             Full-Stack Web Developer\n",
       "18171      DevOps / SysAdmin,   Mobile Developer,   Pro...\n",
       "Name: JobRoleInterest, Length: 4198, dtype: object"
      ]
     },
     "execution_count": 24,
     "metadata": {},
     "output_type": "execute_result"
    }
   ],
   "source": [
    "data[\"JobRoleInterest\"]"
   ]
  },
  {
   "cell_type": "code",
   "execution_count": 25,
   "metadata": {},
   "outputs": [
    {
     "data": {
      "text/plain": [
       "<matplotlib.axes._subplots.AxesSubplot at 0x7f85ed27a128>"
      ]
     },
     "execution_count": 25,
     "metadata": {},
     "output_type": "execute_result"
    },
    {
     "data": {
      "image/png": "[encoded data removed]",
      "text/plain": [
       "<matplotlib.figure.Figure at 0x7f85ed2d7dd8>"
      ]
     },
     "metadata": {},
     "output_type": "display_data"
    }
   ],
   "source": [
    "data[\"CountryLive\"].value_counts(normalize = True).head(10).plot.bar()"
   ]
  },
  {
   "cell_type": "code",
   "execution_count": 26,
   "metadata": {},
   "outputs": [
    {
     "name": "stdout",
     "output_type": "stream",
     "text": [
      "Age\n",
      "AttendedBootcamp\n",
      "BootcampFinish\n",
      "BootcampLoanYesNo\n",
      "BootcampName\n",
      "BootcampRecommend\n",
      "ChildrenNumber\n",
      "CityPopulation\n",
      "CodeEventConferences\n",
      "CodeEventDjangoGirls\n",
      "CodeEventFCC\n",
      "CodeEventGameJam\n",
      "CodeEventGirlDev\n",
      "CodeEventHackathons\n",
      "CodeEventMeetup\n",
      "CodeEventNodeSchool\n",
      "CodeEventNone\n",
      "CodeEventOther\n",
      "CodeEventRailsBridge\n",
      "CodeEventRailsGirls\n",
      "CodeEventStartUpWknd\n",
      "CodeEventWkdBootcamps\n",
      "CodeEventWomenCode\n",
      "CodeEventWorkshops\n",
      "CommuteTime\n",
      "CountryCitizen\n",
      "CountryLive\n",
      "EmploymentField\n",
      "EmploymentFieldOther\n",
      "EmploymentStatus\n",
      "EmploymentStatusOther\n",
      "ExpectedEarning\n",
      "FinanciallySupporting\n",
      "FirstDevJob\n",
      "Gender\n",
      "GenderOther\n",
      "HasChildren\n",
      "HasDebt\n",
      "HasFinancialDependents\n",
      "HasHighSpdInternet\n",
      "HasHomeMortgage\n",
      "HasServedInMilitary\n",
      "HasStudentDebt\n",
      "HomeMortgageOwe\n",
      "HoursLearning\n",
      "ID.x\n",
      "ID.y\n",
      "Income\n",
      "IsEthnicMinority\n",
      "IsReceiveDisabilitiesBenefits\n",
      "IsSoftwareDev\n",
      "IsUnderEmployed\n",
      "JobApplyWhen\n",
      "JobInterestBackEnd\n",
      "JobInterestDataEngr\n",
      "JobInterestDataSci\n",
      "JobInterestDevOps\n",
      "JobInterestFrontEnd\n",
      "JobInterestFullStack\n",
      "JobInterestGameDev\n",
      "JobInterestInfoSec\n",
      "JobInterestMobile\n",
      "JobInterestOther\n",
      "JobInterestProjMngr\n",
      "JobInterestQAEngr\n",
      "JobInterestUX\n",
      "JobPref\n",
      "JobRelocateYesNo\n",
      "JobRoleInterest\n",
      "JobWherePref\n",
      "LanguageAtHome\n",
      "MaritalStatus\n",
      "MoneyForLearning\n",
      "MonthsProgramming\n",
      "NetworkID\n",
      "Part1EndTime\n",
      "Part1StartTime\n",
      "Part2EndTime\n",
      "Part2StartTime\n",
      "PodcastChangeLog\n",
      "PodcastCodeNewbie\n",
      "PodcastCodePen\n",
      "PodcastDevTea\n",
      "PodcastDotNET\n",
      "PodcastGiantRobots\n",
      "PodcastJSAir\n",
      "PodcastJSJabber\n",
      "PodcastNone\n",
      "PodcastOther\n",
      "PodcastProgThrowdown\n",
      "PodcastRubyRogues\n",
      "PodcastSEDaily\n",
      "PodcastSERadio\n",
      "PodcastShopTalk\n",
      "PodcastTalkPython\n",
      "PodcastTheWebAhead\n",
      "ResourceCodecademy\n",
      "ResourceCodeWars\n",
      "ResourceCoursera\n",
      "ResourceCSS\n",
      "ResourceEdX\n",
      "ResourceEgghead\n",
      "ResourceFCC\n",
      "ResourceHackerRank\n",
      "ResourceKA\n",
      "ResourceLynda\n",
      "ResourceMDN\n",
      "ResourceOdinProj\n",
      "ResourceOther\n",
      "ResourcePluralSight\n",
      "ResourceSkillcrush\n",
      "ResourceSO\n",
      "ResourceTreehouse\n",
      "ResourceUdacity\n",
      "ResourceUdemy\n",
      "ResourceW3S\n",
      "SchoolDegree\n",
      "SchoolMajor\n",
      "StudentDebtOwe\n",
      "YouTubeCodeCourse\n",
      "YouTubeCodingTrain\n",
      "YouTubeCodingTut360\n",
      "YouTubeComputerphile\n",
      "YouTubeDerekBanas\n",
      "YouTubeDevTips\n",
      "YouTubeEngineeredTruth\n",
      "YouTubeFCC\n",
      "YouTubeFunFunFunction\n",
      "YouTubeGoogleDev\n",
      "YouTubeLearnCode\n",
      "YouTubeLevelUpTuts\n",
      "YouTubeMIT\n",
      "YouTubeMozillaHacks\n",
      "YouTubeOther\n",
      "YouTubeSimplilearn\n",
      "YouTubeTheNewBoston\n"
     ]
    }
   ],
   "source": [
    "for col in data.columns:\n",
    "    print(col)\n",
    "    "
   ]
  },
  {
   "cell_type": "markdown",
   "metadata": {},
   "source": [
    "MoneyForLearning is an interesting variable!!!!"
   ]
  },
  {
   "cell_type": "code",
   "execution_count": 27,
   "metadata": {},
   "outputs": [
    {
     "data": {
      "text/html": [
       "<div>\n",
       "<style scoped>\n",
       "    .dataframe tbody tr th:only-of-type {\n",
       "        vertical-align: middle;\n",
       "    }\n",
       "\n",
       "    .dataframe tbody tr th {\n",
       "        vertical-align: top;\n",
       "    }\n",
       "\n",
       "    .dataframe thead th {\n",
       "        text-align: right;\n",
       "    }\n",
       "</style>\n",
       "<table border=\"1\" class=\"dataframe\">\n",
       "  <thead>\n",
       "    <tr style=\"text-align: right;\">\n",
       "      <th></th>\n",
       "      <th>HasFinancialDependents</th>\n",
       "      <th>JobApplyWhen</th>\n",
       "    </tr>\n",
       "  </thead>\n",
       "  <tbody>\n",
       "    <tr>\n",
       "      <th>16650</th>\n",
       "      <td>1.0</td>\n",
       "      <td>I'm already applying</td>\n",
       "    </tr>\n",
       "  </tbody>\n",
       "</table>\n",
       "</div>"
      ],
      "text/plain": [
       "       HasFinancialDependents          JobApplyWhen\n",
       "16650                     1.0  I'm already applying"
      ]
     },
     "execution_count": 27,
     "metadata": {},
     "output_type": "execute_result"
    }
   ],
   "source": [
    "data[data[\"MoneyForLearning\"] == 200000][[\"HasFinancialDependents\",\"JobApplyWhen\"]]"
   ]
  },
  {
   "cell_type": "code",
   "execution_count": 28,
   "metadata": {},
   "outputs": [
    {
     "data": {
      "text/plain": [
       "<matplotlib.axes._subplots.AxesSubplot at 0x7f85ed2854e0>"
      ]
     },
     "execution_count": 28,
     "metadata": {},
     "output_type": "execute_result"
    },
    {
     "data": {
      "image/png": "[encoded data removed]",
      "text/plain": [
       "<matplotlib.figure.Figure at 0x7f85ed28e780>"
      ]
     },
     "metadata": {},
     "output_type": "display_data"
    }
   ],
   "source": [
    "data[\"MoneyForLearning\"].plot.kde()"
   ]
  },
  {
   "cell_type": "code",
   "execution_count": 29,
   "metadata": {},
   "outputs": [
    {
     "data": {
      "text/html": [
       "<div>\n",
       "<style scoped>\n",
       "    .dataframe tbody tr th:only-of-type {\n",
       "        vertical-align: middle;\n",
       "    }\n",
       "\n",
       "    .dataframe tbody tr th {\n",
       "        vertical-align: top;\n",
       "    }\n",
       "\n",
       "    .dataframe thead th {\n",
       "        text-align: right;\n",
       "    }\n",
       "</style>\n",
       "<table border=\"1\" class=\"dataframe\">\n",
       "  <thead>\n",
       "    <tr style=\"text-align: right;\">\n",
       "      <th></th>\n",
       "      <th>MoneyForLearning</th>\n",
       "      <th>MonthsProgramming</th>\n",
       "    </tr>\n",
       "  </thead>\n",
       "  <tbody>\n",
       "    <tr>\n",
       "      <th>1</th>\n",
       "      <td>80.0</td>\n",
       "      <td>6.0</td>\n",
       "    </tr>\n",
       "    <tr>\n",
       "      <th>2</th>\n",
       "      <td>1000.0</td>\n",
       "      <td>5.0</td>\n",
       "    </tr>\n",
       "    <tr>\n",
       "      <th>3</th>\n",
       "      <td>0.0</td>\n",
       "      <td>5.0</td>\n",
       "    </tr>\n",
       "    <tr>\n",
       "      <th>4</th>\n",
       "      <td>0.0</td>\n",
       "      <td>24.0</td>\n",
       "    </tr>\n",
       "    <tr>\n",
       "      <th>6</th>\n",
       "      <td>0.0</td>\n",
       "      <td>12.0</td>\n",
       "    </tr>\n",
       "    <tr>\n",
       "      <th>9</th>\n",
       "      <td>100.0</td>\n",
       "      <td>18.0</td>\n",
       "    </tr>\n",
       "    <tr>\n",
       "      <th>13</th>\n",
       "      <td>NaN</td>\n",
       "      <td>NaN</td>\n",
       "    </tr>\n",
       "    <tr>\n",
       "      <th>14</th>\n",
       "      <td>NaN</td>\n",
       "      <td>9.0</td>\n",
       "    </tr>\n",
       "    <tr>\n",
       "      <th>15</th>\n",
       "      <td>0.0</td>\n",
       "      <td>1.0</td>\n",
       "    </tr>\n",
       "    <tr>\n",
       "      <th>16</th>\n",
       "      <td>200.0</td>\n",
       "      <td>12.0</td>\n",
       "    </tr>\n",
       "    <tr>\n",
       "      <th>18</th>\n",
       "      <td>500.0</td>\n",
       "      <td>14.0</td>\n",
       "    </tr>\n",
       "    <tr>\n",
       "      <th>19</th>\n",
       "      <td>500.0</td>\n",
       "      <td>28.0</td>\n",
       "    </tr>\n",
       "    <tr>\n",
       "      <th>22</th>\n",
       "      <td>4000.0</td>\n",
       "      <td>14.0</td>\n",
       "    </tr>\n",
       "    <tr>\n",
       "      <th>28</th>\n",
       "      <td>29.0</td>\n",
       "      <td>12.0</td>\n",
       "    </tr>\n",
       "    <tr>\n",
       "      <th>29</th>\n",
       "      <td>300.0</td>\n",
       "      <td>NaN</td>\n",
       "    </tr>\n",
       "    <tr>\n",
       "      <th>30</th>\n",
       "      <td>200.0</td>\n",
       "      <td>3.0</td>\n",
       "    </tr>\n",
       "    <tr>\n",
       "      <th>33</th>\n",
       "      <td>500.0</td>\n",
       "      <td>6.0</td>\n",
       "    </tr>\n",
       "    <tr>\n",
       "      <th>34</th>\n",
       "      <td>NaN</td>\n",
       "      <td>NaN</td>\n",
       "    </tr>\n",
       "    <tr>\n",
       "      <th>35</th>\n",
       "      <td>0.0</td>\n",
       "      <td>25.0</td>\n",
       "    </tr>\n",
       "    <tr>\n",
       "      <th>40</th>\n",
       "      <td>200.0</td>\n",
       "      <td>8.0</td>\n",
       "    </tr>\n",
       "    <tr>\n",
       "      <th>42</th>\n",
       "      <td>100.0</td>\n",
       "      <td>2.0</td>\n",
       "    </tr>\n",
       "    <tr>\n",
       "      <th>43</th>\n",
       "      <td>0.0</td>\n",
       "      <td>5.0</td>\n",
       "    </tr>\n",
       "    <tr>\n",
       "      <th>52</th>\n",
       "      <td>0.0</td>\n",
       "      <td>12.0</td>\n",
       "    </tr>\n",
       "    <tr>\n",
       "      <th>55</th>\n",
       "      <td>0.0</td>\n",
       "      <td>3.0</td>\n",
       "    </tr>\n",
       "    <tr>\n",
       "      <th>63</th>\n",
       "      <td>100.0</td>\n",
       "      <td>6.0</td>\n",
       "    </tr>\n",
       "    <tr>\n",
       "      <th>64</th>\n",
       "      <td>100.0</td>\n",
       "      <td>2.0</td>\n",
       "    </tr>\n",
       "    <tr>\n",
       "      <th>66</th>\n",
       "      <td>50.0</td>\n",
       "      <td>18.0</td>\n",
       "    </tr>\n",
       "    <tr>\n",
       "      <th>70</th>\n",
       "      <td>150.0</td>\n",
       "      <td>3.0</td>\n",
       "    </tr>\n",
       "    <tr>\n",
       "      <th>84</th>\n",
       "      <td>200.0</td>\n",
       "      <td>12.0</td>\n",
       "    </tr>\n",
       "    <tr>\n",
       "      <th>88</th>\n",
       "      <td>9600.0</td>\n",
       "      <td>2.0</td>\n",
       "    </tr>\n",
       "    <tr>\n",
       "      <th>...</th>\n",
       "      <td>...</td>\n",
       "      <td>...</td>\n",
       "    </tr>\n",
       "    <tr>\n",
       "      <th>18017</th>\n",
       "      <td>0.0</td>\n",
       "      <td>2.0</td>\n",
       "    </tr>\n",
       "    <tr>\n",
       "      <th>18020</th>\n",
       "      <td>0.0</td>\n",
       "      <td>2.0</td>\n",
       "    </tr>\n",
       "    <tr>\n",
       "      <th>18037</th>\n",
       "      <td>2000.0</td>\n",
       "      <td>24.0</td>\n",
       "    </tr>\n",
       "    <tr>\n",
       "      <th>18039</th>\n",
       "      <td>10.0</td>\n",
       "      <td>1.0</td>\n",
       "    </tr>\n",
       "    <tr>\n",
       "      <th>18041</th>\n",
       "      <td>500.0</td>\n",
       "      <td>36.0</td>\n",
       "    </tr>\n",
       "    <tr>\n",
       "      <th>18043</th>\n",
       "      <td>0.0</td>\n",
       "      <td>1.0</td>\n",
       "    </tr>\n",
       "    <tr>\n",
       "      <th>18049</th>\n",
       "      <td>0.0</td>\n",
       "      <td>12.0</td>\n",
       "    </tr>\n",
       "    <tr>\n",
       "      <th>18050</th>\n",
       "      <td>200.0</td>\n",
       "      <td>12.0</td>\n",
       "    </tr>\n",
       "    <tr>\n",
       "      <th>18052</th>\n",
       "      <td>500.0</td>\n",
       "      <td>NaN</td>\n",
       "    </tr>\n",
       "    <tr>\n",
       "      <th>18054</th>\n",
       "      <td>300.0</td>\n",
       "      <td>2.0</td>\n",
       "    </tr>\n",
       "    <tr>\n",
       "      <th>18057</th>\n",
       "      <td>0.0</td>\n",
       "      <td>8.0</td>\n",
       "    </tr>\n",
       "    <tr>\n",
       "      <th>18069</th>\n",
       "      <td>0.0</td>\n",
       "      <td>12.0</td>\n",
       "    </tr>\n",
       "    <tr>\n",
       "      <th>18078</th>\n",
       "      <td>1500.0</td>\n",
       "      <td>3.0</td>\n",
       "    </tr>\n",
       "    <tr>\n",
       "      <th>18081</th>\n",
       "      <td>NaN</td>\n",
       "      <td>12.0</td>\n",
       "    </tr>\n",
       "    <tr>\n",
       "      <th>18088</th>\n",
       "      <td>364.0</td>\n",
       "      <td>2.0</td>\n",
       "    </tr>\n",
       "    <tr>\n",
       "      <th>18090</th>\n",
       "      <td>0.0</td>\n",
       "      <td>1.0</td>\n",
       "    </tr>\n",
       "    <tr>\n",
       "      <th>18097</th>\n",
       "      <td>0.0</td>\n",
       "      <td>1.0</td>\n",
       "    </tr>\n",
       "    <tr>\n",
       "      <th>18098</th>\n",
       "      <td>22.0</td>\n",
       "      <td>18.0</td>\n",
       "    </tr>\n",
       "    <tr>\n",
       "      <th>18099</th>\n",
       "      <td>1000.0</td>\n",
       "      <td>0.0</td>\n",
       "    </tr>\n",
       "    <tr>\n",
       "      <th>18107</th>\n",
       "      <td>550.0</td>\n",
       "      <td>2.0</td>\n",
       "    </tr>\n",
       "    <tr>\n",
       "      <th>18112</th>\n",
       "      <td>0.0</td>\n",
       "      <td>24.0</td>\n",
       "    </tr>\n",
       "    <tr>\n",
       "      <th>18118</th>\n",
       "      <td>0.0</td>\n",
       "      <td>13.0</td>\n",
       "    </tr>\n",
       "    <tr>\n",
       "      <th>18125</th>\n",
       "      <td>200.0</td>\n",
       "      <td>7.0</td>\n",
       "    </tr>\n",
       "    <tr>\n",
       "      <th>18130</th>\n",
       "      <td>0.0</td>\n",
       "      <td>8.0</td>\n",
       "    </tr>\n",
       "    <tr>\n",
       "      <th>18153</th>\n",
       "      <td>0.0</td>\n",
       "      <td>12.0</td>\n",
       "    </tr>\n",
       "    <tr>\n",
       "      <th>18154</th>\n",
       "      <td>297.0</td>\n",
       "      <td>1.0</td>\n",
       "    </tr>\n",
       "    <tr>\n",
       "      <th>18155</th>\n",
       "      <td>0.0</td>\n",
       "      <td>3.0</td>\n",
       "    </tr>\n",
       "    <tr>\n",
       "      <th>18156</th>\n",
       "      <td>1000.0</td>\n",
       "      <td>1.0</td>\n",
       "    </tr>\n",
       "    <tr>\n",
       "      <th>18161</th>\n",
       "      <td>0.0</td>\n",
       "      <td>6.0</td>\n",
       "    </tr>\n",
       "    <tr>\n",
       "      <th>18171</th>\n",
       "      <td>10000.0</td>\n",
       "      <td>1.0</td>\n",
       "    </tr>\n",
       "  </tbody>\n",
       "</table>\n",
       "<p>4198 rows × 2 columns</p>\n",
       "</div>"
      ],
      "text/plain": [
       "       MoneyForLearning  MonthsProgramming\n",
       "1                  80.0                6.0\n",
       "2                1000.0                5.0\n",
       "3                   0.0                5.0\n",
       "4                   0.0               24.0\n",
       "6                   0.0               12.0\n",
       "9                 100.0               18.0\n",
       "13                  NaN                NaN\n",
       "14                  NaN                9.0\n",
       "15                  0.0                1.0\n",
       "16                200.0               12.0\n",
       "18                500.0               14.0\n",
       "19                500.0               28.0\n",
       "22               4000.0               14.0\n",
       "28                 29.0               12.0\n",
       "29                300.0                NaN\n",
       "30                200.0                3.0\n",
       "33                500.0                6.0\n",
       "34                  NaN                NaN\n",
       "35                  0.0               25.0\n",
       "40                200.0                8.0\n",
       "42                100.0                2.0\n",
       "43                  0.0                5.0\n",
       "52                  0.0               12.0\n",
       "55                  0.0                3.0\n",
       "63                100.0                6.0\n",
       "64                100.0                2.0\n",
       "66                 50.0               18.0\n",
       "70                150.0                3.0\n",
       "84                200.0               12.0\n",
       "88               9600.0                2.0\n",
       "...                 ...                ...\n",
       "18017               0.0                2.0\n",
       "18020               0.0                2.0\n",
       "18037            2000.0               24.0\n",
       "18039              10.0                1.0\n",
       "18041             500.0               36.0\n",
       "18043               0.0                1.0\n",
       "18049               0.0               12.0\n",
       "18050             200.0               12.0\n",
       "18052             500.0                NaN\n",
       "18054             300.0                2.0\n",
       "18057               0.0                8.0\n",
       "18069               0.0               12.0\n",
       "18078            1500.0                3.0\n",
       "18081               NaN               12.0\n",
       "18088             364.0                2.0\n",
       "18090               0.0                1.0\n",
       "18097               0.0                1.0\n",
       "18098              22.0               18.0\n",
       "18099            1000.0                0.0\n",
       "18107             550.0                2.0\n",
       "18112               0.0               24.0\n",
       "18118               0.0               13.0\n",
       "18125             200.0                7.0\n",
       "18130               0.0                8.0\n",
       "18153               0.0               12.0\n",
       "18154             297.0                1.0\n",
       "18155               0.0                3.0\n",
       "18156            1000.0                1.0\n",
       "18161               0.0                6.0\n",
       "18171           10000.0                1.0\n",
       "\n",
       "[4198 rows x 2 columns]"
      ]
     },
     "execution_count": 29,
     "metadata": {},
     "output_type": "execute_result"
    }
   ],
   "source": [
    "data[[\"MoneyForLearning\",\"MonthsProgramming\"]]"
   ]
  },
  {
   "cell_type": "code",
   "execution_count": 30,
   "metadata": {},
   "outputs": [],
   "source": [
    "data[\"MonthsProgramming\"] = data[\"MonthsProgramming\"].apply(lambda x: 1 if x == 0 else x)\n",
    "data[\"MoneySpentPerMonth\"] = data[\"MoneyForLearning\"] / data[\"MonthsProgramming\"]"
   ]
  },
  {
   "cell_type": "code",
   "execution_count": 31,
   "metadata": {},
   "outputs": [],
   "source": [
    "country_list = [\"United States of America\",\"India\",\"United Kingdom\",\"Canada\"]\n",
    "\n",
    "data2 = data[[\"MoneySpentPerMonth\",\"CountryLive\"]].dropna()"
   ]
  },
  {
   "cell_type": "code",
   "execution_count": null,
   "metadata": {},
   "outputs": [],
   "source": []
  },
  {
   "cell_type": "code",
   "execution_count": 32,
   "metadata": {},
   "outputs": [],
   "source": [
    "country_group = data2.groupby(\"CountryLive\")\n",
    "country_live = country_group.agg(np.mean)"
   ]
  },
  {
   "cell_type": "code",
   "execution_count": 33,
   "metadata": {},
   "outputs": [],
   "source": [
    "country_money = country_live.sort_values(\"MoneySpentPerMonth\", ascending = False)/country_live.sum()"
   ]
  },
  {
   "cell_type": "code",
   "execution_count": 34,
   "metadata": {},
   "outputs": [],
   "source": [
    "best_country = country_money.loc[[\"United States of America\",\"India\",\"United Kingdom\", \"Canada\"]]"
   ]
  },
  {
   "cell_type": "code",
   "execution_count": 35,
   "metadata": {},
   "outputs": [
    {
     "data": {
      "image/png": "[encoded data removed]",
      "text/plain": [
       "<matplotlib.figure.Figure at 0x7f85ed1cd358>"
      ]
     },
     "metadata": {},
     "output_type": "display_data"
    }
   ],
   "source": [
    "best_country[\"MoneySpentPerMonth\"].sort_values(ascending = False).plot.bar(rot = 45)\n",
    "plt.style.use(\"fivethirtyeight\")\n"
   ]
  },
  {
   "cell_type": "code",
   "execution_count": 36,
   "metadata": {},
   "outputs": [
    {
     "data": {
      "text/plain": [
       "United States of America    0.473403\n",
       "India                       0.079427\n",
       "United Kingdom              0.045664\n",
       "Canada                      0.033277\n",
       "Name: CountryLive, dtype: float64"
      ]
     },
     "execution_count": 36,
     "metadata": {},
     "output_type": "execute_result"
    }
   ],
   "source": [
    "y = data[\"CountryLive\"].value_counts(normalize = True).head(4)\n",
    "y"
   ]
  },
  {
   "cell_type": "code",
   "execution_count": 37,
   "metadata": {},
   "outputs": [
    {
     "data": {
      "text/plain": [
       "CountryLive\n",
       "United States of America    0.017949\n",
       "India                       0.008092\n",
       "Canada                      0.007225\n",
       "United Kingdom              0.003503\n",
       "Name: MoneySpentPerMonth, dtype: float64"
      ]
     },
     "execution_count": 37,
     "metadata": {},
     "output_type": "execute_result"
    }
   ],
   "source": [
    "x = best_country[\"MoneySpentPerMonth\"].sort_values(ascending = False)\n",
    "x"
   ]
  },
  {
   "cell_type": "code",
   "execution_count": 38,
   "metadata": {},
   "outputs": [
    {
     "data": {
      "text/plain": [
       "<matplotlib.axes._subplots.AxesSubplot at 0x7f85ed1cafd0>"
      ]
     },
     "execution_count": 38,
     "metadata": {},
     "output_type": "execute_result"
    },
    {
     "data": {
      "image/png": "[encoded data removed]",
      "text/plain": [
       "<matplotlib.figure.Figure at 0x7f85ed160358>"
      ]
     },
     "metadata": {},
     "output_type": "display_data"
    }
   ],
   "source": [
    "z = pd.concat([x,y],axis = 1)\n",
    "z[\"CountryLive\"].plot.bar(ylim = (0,0.5))"
   ]
  },
  {
   "cell_type": "code",
   "execution_count": 39,
   "metadata": {},
   "outputs": [
    {
     "data": {
      "text/html": [
       "<div>\n",
       "<style scoped>\n",
       "    .dataframe tbody tr th:only-of-type {\n",
       "        vertical-align: middle;\n",
       "    }\n",
       "\n",
       "    .dataframe tbody tr th {\n",
       "        vertical-align: top;\n",
       "    }\n",
       "\n",
       "    .dataframe thead th {\n",
       "        text-align: right;\n",
       "    }\n",
       "</style>\n",
       "<table border=\"1\" class=\"dataframe\">\n",
       "  <thead>\n",
       "    <tr style=\"text-align: right;\">\n",
       "      <th></th>\n",
       "      <th>MoneySpentPerMonth</th>\n",
       "      <th>CountryLive</th>\n",
       "    </tr>\n",
       "  </thead>\n",
       "  <tbody>\n",
       "    <tr>\n",
       "      <th>Canada</th>\n",
       "      <td>0.072250</td>\n",
       "      <td>0.033277</td>\n",
       "    </tr>\n",
       "    <tr>\n",
       "      <th>India</th>\n",
       "      <td>0.080916</td>\n",
       "      <td>0.079427</td>\n",
       "    </tr>\n",
       "    <tr>\n",
       "      <th>United Kingdom</th>\n",
       "      <td>0.035026</td>\n",
       "      <td>0.045664</td>\n",
       "    </tr>\n",
       "    <tr>\n",
       "      <th>United States of America</th>\n",
       "      <td>0.179491</td>\n",
       "      <td>0.473403</td>\n",
       "    </tr>\n",
       "  </tbody>\n",
       "</table>\n",
       "</div>"
      ],
      "text/plain": [
       "                          MoneySpentPerMonth  CountryLive\n",
       "Canada                              0.072250     0.033277\n",
       "India                               0.080916     0.079427\n",
       "United Kingdom                      0.035026     0.045664\n",
       "United States of America            0.179491     0.473403"
      ]
     },
     "execution_count": 39,
     "metadata": {},
     "output_type": "execute_result"
    }
   ],
   "source": [
    "z[\"MoneySpentPerMonth\"] = z[\"MoneySpentPerMonth\"] * 10\n",
    "z"
   ]
  },
  {
   "cell_type": "markdown",
   "metadata": {},
   "source": [
    "# Creating Group Bar Plot to Compare Money Spent per month and Number of participants per country"
   ]
  },
  {
   "cell_type": "code",
   "execution_count": 40,
   "metadata": {},
   "outputs": [
    {
     "data": {
      "image/png": "[encoded data removed]",
      "text/plain": [
       "<matplotlib.figure.Figure at 0x7f85ed1cab70>"
      ]
     },
     "metadata": {},
     "output_type": "display_data"
    }
   ],
   "source": [
    "x = np.arange(4)\n",
    "width = 0.35\n",
    "fig,ax = plt.subplots(figsize = (10,10))\n",
    "mspm = ax.bar(x - width/2,z[\"MoneySpentPerMonth\"].values.tolist(),width,label = \"MoneySpent\",color = \"lightskyblue\")\n",
    "cl = ax.bar(x + width/2,z[\"CountryLive\"].values.tolist(),width,label = \"Country Live\",color = \"lightcoral\")\n",
    "ax.set_xticks(x+0.2)\n",
    "ax.set_xticklabels(z.index.tolist())\n",
    "mspm_legend = mpatches.Patch(color = \"lightskyblue\", label = \"Money Spent per Month\" )\n",
    "cl_legend = mpatches.Patch(color = \"lightcoral\", label = \"Country Live\")\n",
    "plt.legend(handles = [mspm_legend,cl_legend], loc = \"upper left\")\n",
    "plt.show()"
   ]
  },
  {
   "cell_type": "markdown",
   "metadata": {},
   "source": [
    "* United States of America ranks number 1 at number of participants and money spent for learning per month.\n",
    "* Even though Canada has the least number of participants, they still pay more for learning than UK.\n",
    "* India is the second largest paying country for learning\n",
    "\n",
    "This is very doubtful since UK and Canada are a rich country but the graph shows that India pays more, This needs to be investigated further"
   ]
  },
  {
   "cell_type": "code",
   "execution_count": 41,
   "metadata": {
    "collapsed": true
   },
   "outputs": [],
   "source": [
    "bool_ = data[\"CountryLive\"].str.contains(\"United States of America|Canada|India|United Kingdom\", na = False)\n",
    "top_4 = data[bool_]"
   ]
  },
  {
   "cell_type": "code",
   "execution_count": 42,
   "metadata": {},
   "outputs": [
    {
     "name": "stderr",
     "output_type": "stream",
     "text": [
      "/dataquest/system/env/python3/lib/python3.4/site-packages/seaborn/categorical.py:454: FutureWarning:\n",
      "\n",
      "remove_na is deprecated and is a private function. Do not use.\n",
      "\n"
     ]
    },
    {
     "data": {
      "text/plain": [
       "<matplotlib.axes._subplots.AxesSubplot at 0x7f85ed16b160>"
      ]
     },
     "execution_count": 42,
     "metadata": {},
     "output_type": "execute_result"
    },
    {
     "data": {
      "image/png": "[encoded data removed]",
      "text/plain": [
       "<matplotlib.figure.Figure at 0x7f85ed1095f8>"
      ]
     },
     "metadata": {},
     "output_type": "display_data"
    }
   ],
   "source": [
    "fig,ax = plt.subplots(figsize = (10,10))\n",
    "sns.boxplot(x = \"CountryLive\",y=\"MoneySpentPerMonth\", data = top_4)"
   ]
  },
  {
   "cell_type": "code",
   "execution_count": 43,
   "metadata": {},
   "outputs": [
    {
     "data": {
      "text/html": [
       "<div>\n",
       "<style scoped>\n",
       "    .dataframe tbody tr th:only-of-type {\n",
       "        vertical-align: middle;\n",
       "    }\n",
       "\n",
       "    .dataframe tbody tr th {\n",
       "        vertical-align: top;\n",
       "    }\n",
       "\n",
       "    .dataframe thead th {\n",
       "        text-align: right;\n",
       "    }\n",
       "</style>\n",
       "<table border=\"1\" class=\"dataframe\">\n",
       "  <thead>\n",
       "    <tr style=\"text-align: right;\">\n",
       "      <th></th>\n",
       "      <th>MoneySpentPerMonth</th>\n",
       "      <th>AttendedBootcamp</th>\n",
       "    </tr>\n",
       "  </thead>\n",
       "  <tbody>\n",
       "    <tr>\n",
       "      <th>2478</th>\n",
       "      <td>50000.0</td>\n",
       "      <td>1.0</td>\n",
       "    </tr>\n",
       "    <tr>\n",
       "      <th>14024</th>\n",
       "      <td>80000.0</td>\n",
       "      <td>0.0</td>\n",
       "    </tr>\n",
       "  </tbody>\n",
       "</table>\n",
       "</div>"
      ],
      "text/plain": [
       "       MoneySpentPerMonth  AttendedBootcamp\n",
       "2478              50000.0               1.0\n",
       "14024             80000.0               0.0"
      ]
     },
     "execution_count": 43,
     "metadata": {},
     "output_type": "execute_result"
    }
   ],
   "source": [
    "top_4[top_4[\"MoneySpentPerMonth\"]>=50000][[\"MoneySpentPerMonth\",\"AttendedBootcamp\"]]"
   ]
  },
  {
   "cell_type": "markdown",
   "metadata": {},
   "source": [
    "The two value is an outlier since because the value might seem too large for few months of learning."
   ]
  },
  {
   "cell_type": "markdown",
   "metadata": {},
   "source": [
    "Picking only values less than 20,000"
   ]
  },
  {
   "cell_type": "code",
   "execution_count": 44,
   "metadata": {},
   "outputs": [
    {
     "name": "stderr",
     "output_type": "stream",
     "text": [
      "/dataquest/system/env/python3/lib/python3.4/site-packages/seaborn/categorical.py:454: FutureWarning:\n",
      "\n",
      "remove_na is deprecated and is a private function. Do not use.\n",
      "\n"
     ]
    },
    {
     "data": {
      "text/plain": [
       "CountryLive\n",
       "Canada                      116.025514\n",
       "India                       129.943072\n",
       "United Kingdom               56.248425\n",
       "United States of America    218.435021\n",
       "Name: MoneySpentPerMonth, dtype: float64"
      ]
     },
     "execution_count": 44,
     "metadata": {},
     "output_type": "execute_result"
    },
    {
     "data": {
      "image/png": "[encoded data removed]",
      "text/plain": [
       "<matplotlib.figure.Figure at 0x7f85ed1ddeb8>"
      ]
     },
     "metadata": {},
     "output_type": "display_data"
    }
   ],
   "source": [
    "top_4 = top_4[top_4[\"MoneySpentPerMonth\"]<20000]\n",
    "fig,ax = plt.subplots(figsize = (10,10))\n",
    "plt.xlabel(\"Country\")\n",
    "plt.ylabel(\"Money Per Month(US Dollars)\")\n",
    "plt.title(\"Money Spent Per Month Per Country\")\n",
    "sns.boxplot(x = \"CountryLive\",y=\"MoneySpentPerMonth\", data = top_4)\n",
    "top_4.groupby(\"CountryLive\").agg(np.mean)[\"MoneySpentPerMonth\"]\n"
   ]
  },
  {
   "cell_type": "markdown",
   "metadata": {},
   "source": [
    "We can see 3 outliers for India which is over $2500 per month, but its not clear whether its good or bad. Let's examine the data"
   ]
  },
  {
   "cell_type": "code",
   "execution_count": 45,
   "metadata": {},
   "outputs": [],
   "source": [
    "india_outliers = top_4[(top_4[\"CountryLive\"] == \"India\")&(top_4[\"MoneySpentPerMonth\"]> 2500)]\n"
   ]
  },
  {
   "cell_type": "markdown",
   "metadata": {},
   "source": [
    "Neither of them didn't attend any bootcamp. Its really hard to determine if they really spent this much money. Maybe they spent it on Universities but the actual question on the survey is \"Aside from university tuition, about how much money have you spent on learning to code so far (in US dollars)?\". Its safe to remove these rows"
   ]
  },
  {
   "cell_type": "code",
   "execution_count": 46,
   "metadata": {
    "collapsed": true
   },
   "outputs": [],
   "source": [
    "top_4 = top_4.drop(india_outliers.index)"
   ]
  },
  {
   "cell_type": "code",
   "execution_count": 47,
   "metadata": {},
   "outputs": [
    {
     "data": {
      "text/plain": [
       "CountryLive\n",
       "Canada                      116.025514\n",
       "India                        70.363326\n",
       "United Kingdom               56.248425\n",
       "United States of America    218.435021\n",
       "Name: MoneySpentPerMonth, dtype: float64"
      ]
     },
     "execution_count": 47,
     "metadata": {},
     "output_type": "execute_result"
    }
   ],
   "source": [
    "top_4.groupby(\"CountryLive\").agg(np.mean)[\"MoneySpentPerMonth\"]"
   ]
  },
  {
   "cell_type": "code",
   "execution_count": 48,
   "metadata": {
    "scrolled": true
   },
   "outputs": [
    {
     "data": {
      "text/html": [
       "<div>\n",
       "<style scoped>\n",
       "    .dataframe tbody tr th:only-of-type {\n",
       "        vertical-align: middle;\n",
       "    }\n",
       "\n",
       "    .dataframe tbody tr th {\n",
       "        vertical-align: top;\n",
       "    }\n",
       "\n",
       "    .dataframe thead th {\n",
       "        text-align: right;\n",
       "    }\n",
       "</style>\n",
       "<table border=\"1\" class=\"dataframe\">\n",
       "  <thead>\n",
       "    <tr style=\"text-align: right;\">\n",
       "      <th></th>\n",
       "      <th>MoneySpentPerMonth</th>\n",
       "      <th>AttendedBootcamp</th>\n",
       "      <th>MonthsProgramming</th>\n",
       "    </tr>\n",
       "  </thead>\n",
       "  <tbody>\n",
       "    <tr>\n",
       "      <th>718</th>\n",
       "      <td>8000.000000</td>\n",
       "      <td>1.0</td>\n",
       "      <td>1.0</td>\n",
       "    </tr>\n",
       "    <tr>\n",
       "      <th>3930</th>\n",
       "      <td>10833.333333</td>\n",
       "      <td>0.0</td>\n",
       "      <td>6.0</td>\n",
       "    </tr>\n",
       "    <tr>\n",
       "      <th>6805</th>\n",
       "      <td>15000.000000</td>\n",
       "      <td>1.0</td>\n",
       "      <td>1.0</td>\n",
       "    </tr>\n",
       "    <tr>\n",
       "      <th>7198</th>\n",
       "      <td>14000.000000</td>\n",
       "      <td>0.0</td>\n",
       "      <td>5.0</td>\n",
       "    </tr>\n",
       "    <tr>\n",
       "      <th>7505</th>\n",
       "      <td>6666.666667</td>\n",
       "      <td>1.0</td>\n",
       "      <td>3.0</td>\n",
       "    </tr>\n",
       "    <tr>\n",
       "      <th>9778</th>\n",
       "      <td>8000.000000</td>\n",
       "      <td>1.0</td>\n",
       "      <td>1.0</td>\n",
       "    </tr>\n",
       "    <tr>\n",
       "      <th>16650</th>\n",
       "      <td>16666.666667</td>\n",
       "      <td>0.0</td>\n",
       "      <td>12.0</td>\n",
       "    </tr>\n",
       "    <tr>\n",
       "      <th>16997</th>\n",
       "      <td>12500.000000</td>\n",
       "      <td>0.0</td>\n",
       "      <td>1.0</td>\n",
       "    </tr>\n",
       "  </tbody>\n",
       "</table>\n",
       "</div>"
      ],
      "text/plain": [
       "       MoneySpentPerMonth  AttendedBootcamp  MonthsProgramming\n",
       "718           8000.000000               1.0                1.0\n",
       "3930         10833.333333               0.0                6.0\n",
       "6805         15000.000000               1.0                1.0\n",
       "7198         14000.000000               0.0                5.0\n",
       "7505          6666.666667               1.0                3.0\n",
       "9778          8000.000000               1.0                1.0\n",
       "16650        16666.666667               0.0               12.0\n",
       "16997        12500.000000               0.0                1.0"
      ]
     },
     "execution_count": 48,
     "metadata": {},
     "output_type": "execute_result"
    }
   ],
   "source": [
    "usa_outliers = top_4[(top_4[\"CountryLive\"] == \"United States of America\")&(top_4[\"MoneySpentPerMonth\"]> 6000)]\n",
    "usa_outliers[[\"MoneySpentPerMonth\",\"AttendedBootcamp\",\"MonthsProgramming\"]]\n"
   ]
  },
  {
   "cell_type": "markdown",
   "metadata": {},
   "source": [
    "We'll remove those who:\n",
    "* Didn't attend bootcamp\n",
    "* with less than 3 months of programming\n",
    "All of the outliers drop in one of these conditions, therefore, we will drop it."
   ]
  },
  {
   "cell_type": "code",
   "execution_count": 49,
   "metadata": {},
   "outputs": [],
   "source": [
    "top_4 = top_4.drop(usa_outliers.index)\n"
   ]
  },
  {
   "cell_type": "markdown",
   "metadata": {},
   "source": [
    "Using the criteria used in the previous country, We will determine if the single value that is far from the others in Canada is an outlier."
   ]
  },
  {
   "cell_type": "code",
   "execution_count": 56,
   "metadata": {},
   "outputs": [],
   "source": [
    "canada_outlier = top_4[(top_4[\"CountryLive\"] == \"Canada\")&(top_4[\"MoneySpentPerMonth\"]> 4500)]\n",
    "top_4 = top_4.drop(canada_outlier.index)\n",
    "canada_outlier"
   ]
  },
  {
   "cell_type": "markdown",
   "metadata": {},
   "source": [
    "Let's recompute the mean for each country and plot boxplot again."
   ]
  },
  {
   "cell_type": "code",
   "execution_count": 57,
   "metadata": {
    "scrolled": true
   },
   "outputs": [
    {
     "name": "stderr",
     "output_type": "stream",
     "text": [
      "/dataquest/system/env/python3/lib/python3.4/site-packages/seaborn/categorical.py:454: FutureWarning:\n",
      "\n",
      "remove_na is deprecated and is a private function. Do not use.\n",
      "\n"
     ]
    },
    {
     "data": {
      "text/plain": [
       "CountryLive\n",
       "Canada                       77.263811\n",
       "India                        70.363326\n",
       "United Kingdom               56.248425\n",
       "United States of America    169.724736\n",
       "Name: MoneySpentPerMonth, dtype: float64"
      ]
     },
     "execution_count": 57,
     "metadata": {},
     "output_type": "execute_result"
    },
    {
     "data": {
      "image/png": "[encoded data removed]",
      "text/plain": [
       "<matplotlib.figure.Figure at 0x7f85ecefacf8>"
      ]
     },
     "metadata": {},
     "output_type": "display_data"
    }
   ],
   "source": [
    "fig,ax = plt.subplots(figsize = (10,10))\n",
    "plt.xlabel(\"Country\")\n",
    "plt.ylabel(\"Money Per Month(US Dollars)\")\n",
    "plt.title(\"Money Spent Per Month Per Country\")\n",
    "sns.boxplot(x = \"CountryLive\",y=\"MoneySpentPerMonth\", data = top_4)\n",
    "top_4.groupby(\"CountryLive\").agg(np.mean)[\"MoneySpentPerMonth\"]"
   ]
  },
  {
   "cell_type": "markdown",
   "metadata": {},
   "source": [
    "## Choosing the Best Market"
   ]
  },
  {
   "cell_type": "code",
   "execution_count": 87,
   "metadata": {},
   "outputs": [
    {
     "data": {
      "text/plain": [
       "<matplotlib.axes._subplots.AxesSubplot at 0x7f85e9223828>"
      ]
     },
     "execution_count": 87,
     "metadata": {},
     "output_type": "execute_result"
    },
    {
     "data": {
      "image/png": "[encoded data removed]",
      "text/plain": [
       "<matplotlib.figure.Figure at 0x7f85e921bb70>"
      ]
     },
     "metadata": {},
     "output_type": "display_data"
    }
   ],
   "source": [
    "for_bar = jobs[jobs[\"Count\"]>20].sort_values(\"Count\")\n",
    "for_bar.plot.bar(\"Job\",\"Count\", figsize=(10,10))"
   ]
  },
  {
   "cell_type": "markdown",
   "metadata": {},
   "source": [
    "We can see the population is representative for the goal of the project because the top 4 job, besides None, is related to Web Developer and Mobile Developer.\n"
   ]
  },
  {
   "cell_type": "code",
   "execution_count": 88,
   "metadata": {},
   "outputs": [
    {
     "data": {
      "text/plain": [
       "<matplotlib.axes._subplots.AxesSubplot at 0x7f85e91a9b38>"
      ]
     },
     "execution_count": 88,
     "metadata": {},
     "output_type": "execute_result"
    },
    {
     "data": {
      "image/png": "[encoded data removed]",
      "text/plain": [
       "<matplotlib.figure.Figure at 0x7f85e92239b0>"
      ]
     },
     "metadata": {},
     "output_type": "display_data"
    }
   ],
   "source": [
    "data[\"CountryLive\"].value_counts(normalize = True).head(10).plot.bar()"
   ]
  },
  {
   "cell_type": "markdown",
   "metadata": {},
   "source": [
    "We see that the top four countries are USA, India, UK, and Canada.\n",
    "Among of these countries will be picked"
   ]
  },
  {
   "cell_type": "code",
   "execution_count": 124,
   "metadata": {
    "scrolled": false
   },
   "outputs": [],
   "source": [
    "data2 = data.copy()\n",
    "data2 = data2.drop([718, 3930, 6805, 7198, 7505, 9778, 16650, 16997,13659,1755, 7989, 8126, 15587])\n",
    "data2[(data2[\"CountryLive\"] == \"Canada\")&(data2[\"MoneySpentPerMonth\"]> 4500)]\n",
    "top_4_mean = top_4.groupby(\"CountryLive\").agg(np.mean)[\"MoneySpentPerMonth\"]\n",
    "top_4_mean = top_4_mean/data2[\"MoneySpentPerMonth\"].sum()*1000"
   ]
  },
  {
   "cell_type": "code",
   "execution_count": 125,
   "metadata": {},
   "outputs": [
    {
     "data": {
      "image/png": "[encoded data removed]",
      "text/plain": [
       "<matplotlib.figure.Figure at 0x7f85e7a99908>"
      ]
     },
     "metadata": {},
     "output_type": "display_data"
    }
   ],
   "source": [
    "x = np.arange(4)\n",
    "width = 0.35\n",
    "fig,ax = plt.subplots(figsize = (10,10))\n",
    "mspm = ax.bar(x - width/2,top_4_mean.values.tolist(),width,label = \"MoneySpent\",color = \"lightskyblue\")\n",
    "cl = ax.bar(x + width/2,z[\"CountryLive\"].values.tolist(),width,label = \"Country Live\",color = \"lightcoral\")\n",
    "ax.set_xticks(x+0.2)\n",
    "ax.set_xticklabels(z.index.tolist())\n",
    "mspm_legend = mpatches.Patch(color = \"lightskyblue\", label = \"Money Spent per Month\" )\n",
    "cl_legend = mpatches.Patch(color = \"lightcoral\", label = \"Country Live\")\n",
    "plt.legend(handles = [mspm_legend,cl_legend], loc = \"upper left\")\n",
    "plt.show()"
   ]
  },
  {
   "cell_type": "markdown",
   "metadata": {},
   "source": [
    "We c"
   ]
  }
 ],
 "metadata": {
  "kernelspec": {
   "display_name": "Python 3",
   "language": "python",
   "name": "python3"
  },
  "language_info": {
   "codemirror_mode": {
    "name": "ipython",
    "version": 3
   },
   "file_extension": ".py",
   "mimetype": "text/x-python",
   "name": "python",
   "nbconvert_exporter": "python",
   "pygments_lexer": "ipython3",
   "version": "3.7.4"
  }
 },
 "nbformat": 4,
 "nbformat_minor": 2
}
