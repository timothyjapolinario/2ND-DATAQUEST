{
 "cells": [
  {
   "cell_type": "markdown",
   "metadata": {},
   "source": [
    "# Top 2 Products to Advertise Web and Mobile Development and other Online Courses"
   ]
  },
  {
   "cell_type": "markdown",
   "metadata": {},
   "source": [
    "Online Courses with Computer Related Activities is being use alot today. There are many companies that offer them but not all of them can stand at the top, therefore advertising can give a boost of popularity to the company.\n",
    "\n",
    "The goal of the project is find out the two best markets to advertise a product in.\n"
   ]
  },
  {
   "cell_type": "code",
   "execution_count": 1,
   "metadata": {
    "collapsed": false
   },
   "outputs": [],
   "source": [
    "import pandas as pd\n",
    "import matplotlib.patches as mpatches\n",
    "import matplotlib.pyplot as plt\n",
    "import numpy as np\n",
    "import seaborn as sns\n",
    "%matplotlib inline"
   ]
  },
  {
   "cell_type": "code",
   "execution_count": 2,
   "metadata": {
    "collapsed": false
   },
   "outputs": [],
   "source": [
    "survey_data = pd.read_csv('2017-fCC-New-Coders-Survey-Data.csv',low_memory=False)"
   ]
  },
  {
   "cell_type": "code",
   "execution_count": 3,
   "metadata": {
    "collapsed": false
   },
   "outputs": [
    {
     "data": {
      "text/html": [
       "<div>\n",
       "<style scoped>\n",
       "    .dataframe tbody tr th:only-of-type {\n",
       "        vertical-align: middle;\n",
       "    }\n",
       "\n",
       "    .dataframe tbody tr th {\n",
       "        vertical-align: top;\n",
       "    }\n",
       "\n",
       "    .dataframe thead th {\n",
       "        text-align: right;\n",
       "    }\n",
       "</style>\n",
       "<table border=\"1\" class=\"dataframe\">\n",
       "  <thead>\n",
       "    <tr style=\"text-align: right;\">\n",
       "      <th></th>\n",
       "      <th>Age</th>\n",
       "      <th>AttendedBootcamp</th>\n",
       "      <th>BootcampFinish</th>\n",
       "      <th>BootcampLoanYesNo</th>\n",
       "      <th>BootcampName</th>\n",
       "      <th>BootcampRecommend</th>\n",
       "      <th>ChildrenNumber</th>\n",
       "      <th>CityPopulation</th>\n",
       "      <th>CodeEventConferences</th>\n",
       "      <th>CodeEventDjangoGirls</th>\n",
       "      <th>...</th>\n",
       "      <th>YouTubeFCC</th>\n",
       "      <th>YouTubeFunFunFunction</th>\n",
       "      <th>YouTubeGoogleDev</th>\n",
       "      <th>YouTubeLearnCode</th>\n",
       "      <th>YouTubeLevelUpTuts</th>\n",
       "      <th>YouTubeMIT</th>\n",
       "      <th>YouTubeMozillaHacks</th>\n",
       "      <th>YouTubeOther</th>\n",
       "      <th>YouTubeSimplilearn</th>\n",
       "      <th>YouTubeTheNewBoston</th>\n",
       "    </tr>\n",
       "  </thead>\n",
       "  <tbody>\n",
       "    <tr>\n",
       "      <th>0</th>\n",
       "      <td>27.0</td>\n",
       "      <td>0.0</td>\n",
       "      <td>NaN</td>\n",
       "      <td>NaN</td>\n",
       "      <td>NaN</td>\n",
       "      <td>NaN</td>\n",
       "      <td>NaN</td>\n",
       "      <td>more than 1 million</td>\n",
       "      <td>NaN</td>\n",
       "      <td>NaN</td>\n",
       "      <td>...</td>\n",
       "      <td>NaN</td>\n",
       "      <td>NaN</td>\n",
       "      <td>NaN</td>\n",
       "      <td>NaN</td>\n",
       "      <td>NaN</td>\n",
       "      <td>NaN</td>\n",
       "      <td>NaN</td>\n",
       "      <td>NaN</td>\n",
       "      <td>NaN</td>\n",
       "      <td>NaN</td>\n",
       "    </tr>\n",
       "    <tr>\n",
       "      <th>1</th>\n",
       "      <td>34.0</td>\n",
       "      <td>0.0</td>\n",
       "      <td>NaN</td>\n",
       "      <td>NaN</td>\n",
       "      <td>NaN</td>\n",
       "      <td>NaN</td>\n",
       "      <td>NaN</td>\n",
       "      <td>less than 100,000</td>\n",
       "      <td>NaN</td>\n",
       "      <td>NaN</td>\n",
       "      <td>...</td>\n",
       "      <td>1.0</td>\n",
       "      <td>NaN</td>\n",
       "      <td>NaN</td>\n",
       "      <td>NaN</td>\n",
       "      <td>NaN</td>\n",
       "      <td>NaN</td>\n",
       "      <td>NaN</td>\n",
       "      <td>NaN</td>\n",
       "      <td>NaN</td>\n",
       "      <td>NaN</td>\n",
       "    </tr>\n",
       "    <tr>\n",
       "      <th>2</th>\n",
       "      <td>21.0</td>\n",
       "      <td>0.0</td>\n",
       "      <td>NaN</td>\n",
       "      <td>NaN</td>\n",
       "      <td>NaN</td>\n",
       "      <td>NaN</td>\n",
       "      <td>NaN</td>\n",
       "      <td>more than 1 million</td>\n",
       "      <td>NaN</td>\n",
       "      <td>NaN</td>\n",
       "      <td>...</td>\n",
       "      <td>NaN</td>\n",
       "      <td>NaN</td>\n",
       "      <td>NaN</td>\n",
       "      <td>1.0</td>\n",
       "      <td>1.0</td>\n",
       "      <td>NaN</td>\n",
       "      <td>NaN</td>\n",
       "      <td>NaN</td>\n",
       "      <td>NaN</td>\n",
       "      <td>NaN</td>\n",
       "    </tr>\n",
       "    <tr>\n",
       "      <th>3</th>\n",
       "      <td>26.0</td>\n",
       "      <td>0.0</td>\n",
       "      <td>NaN</td>\n",
       "      <td>NaN</td>\n",
       "      <td>NaN</td>\n",
       "      <td>NaN</td>\n",
       "      <td>NaN</td>\n",
       "      <td>between 100,000 and 1 million</td>\n",
       "      <td>NaN</td>\n",
       "      <td>NaN</td>\n",
       "      <td>...</td>\n",
       "      <td>1.0</td>\n",
       "      <td>1.0</td>\n",
       "      <td>NaN</td>\n",
       "      <td>NaN</td>\n",
       "      <td>1.0</td>\n",
       "      <td>NaN</td>\n",
       "      <td>NaN</td>\n",
       "      <td>NaN</td>\n",
       "      <td>NaN</td>\n",
       "      <td>NaN</td>\n",
       "    </tr>\n",
       "    <tr>\n",
       "      <th>4</th>\n",
       "      <td>20.0</td>\n",
       "      <td>0.0</td>\n",
       "      <td>NaN</td>\n",
       "      <td>NaN</td>\n",
       "      <td>NaN</td>\n",
       "      <td>NaN</td>\n",
       "      <td>NaN</td>\n",
       "      <td>between 100,000 and 1 million</td>\n",
       "      <td>NaN</td>\n",
       "      <td>NaN</td>\n",
       "      <td>...</td>\n",
       "      <td>NaN</td>\n",
       "      <td>NaN</td>\n",
       "      <td>NaN</td>\n",
       "      <td>NaN</td>\n",
       "      <td>NaN</td>\n",
       "      <td>NaN</td>\n",
       "      <td>NaN</td>\n",
       "      <td>NaN</td>\n",
       "      <td>NaN</td>\n",
       "      <td>NaN</td>\n",
       "    </tr>\n",
       "  </tbody>\n",
       "</table>\n",
       "<p>5 rows × 136 columns</p>\n",
       "</div>"
      ],
      "text/plain": [
       "    Age  AttendedBootcamp  BootcampFinish  BootcampLoanYesNo BootcampName  \\\n",
       "0  27.0               0.0             NaN                NaN          NaN   \n",
       "1  34.0               0.0             NaN                NaN          NaN   \n",
       "2  21.0               0.0             NaN                NaN          NaN   \n",
       "3  26.0               0.0             NaN                NaN          NaN   \n",
       "4  20.0               0.0             NaN                NaN          NaN   \n",
       "\n",
       "   BootcampRecommend  ChildrenNumber                 CityPopulation  \\\n",
       "0                NaN             NaN            more than 1 million   \n",
       "1                NaN             NaN              less than 100,000   \n",
       "2                NaN             NaN            more than 1 million   \n",
       "3                NaN             NaN  between 100,000 and 1 million   \n",
       "4                NaN             NaN  between 100,000 and 1 million   \n",
       "\n",
       "   CodeEventConferences  CodeEventDjangoGirls         ...           \\\n",
       "0                   NaN                   NaN         ...            \n",
       "1                   NaN                   NaN         ...            \n",
       "2                   NaN                   NaN         ...            \n",
       "3                   NaN                   NaN         ...            \n",
       "4                   NaN                   NaN         ...            \n",
       "\n",
       "   YouTubeFCC  YouTubeFunFunFunction  YouTubeGoogleDev  YouTubeLearnCode  \\\n",
       "0         NaN                    NaN               NaN               NaN   \n",
       "1         1.0                    NaN               NaN               NaN   \n",
       "2         NaN                    NaN               NaN               1.0   \n",
       "3         1.0                    1.0               NaN               NaN   \n",
       "4         NaN                    NaN               NaN               NaN   \n",
       "\n",
       "   YouTubeLevelUpTuts  YouTubeMIT  YouTubeMozillaHacks YouTubeOther  \\\n",
       "0                 NaN         NaN                  NaN          NaN   \n",
       "1                 NaN         NaN                  NaN          NaN   \n",
       "2                 1.0         NaN                  NaN          NaN   \n",
       "3                 1.0         NaN                  NaN          NaN   \n",
       "4                 NaN         NaN                  NaN          NaN   \n",
       "\n",
       "   YouTubeSimplilearn  YouTubeTheNewBoston  \n",
       "0                 NaN                  NaN  \n",
       "1                 NaN                  NaN  \n",
       "2                 NaN                  NaN  \n",
       "3                 NaN                  NaN  \n",
       "4                 NaN                  NaN  \n",
       "\n",
       "[5 rows x 136 columns]"
      ]
     },
     "execution_count": 3,
     "metadata": {},
     "output_type": "execute_result"
    }
   ],
   "source": [
    "survey_data.head()"
   ]
  },
  {
   "cell_type": "code",
   "execution_count": 4,
   "metadata": {
    "collapsed": false
   },
   "outputs": [
    {
     "data": {
      "text/html": [
       "<div>\n",
       "<style scoped>\n",
       "    .dataframe tbody tr th:only-of-type {\n",
       "        vertical-align: middle;\n",
       "    }\n",
       "\n",
       "    .dataframe tbody tr th {\n",
       "        vertical-align: top;\n",
       "    }\n",
       "\n",
       "    .dataframe thead th {\n",
       "        text-align: right;\n",
       "    }\n",
       "</style>\n",
       "<table border=\"1\" class=\"dataframe\">\n",
       "  <thead>\n",
       "    <tr style=\"text-align: right;\">\n",
       "      <th></th>\n",
       "      <th>CodeEventOther</th>\n",
       "      <th>JobInterestOther</th>\n",
       "    </tr>\n",
       "  </thead>\n",
       "  <tbody>\n",
       "    <tr>\n",
       "      <th>0</th>\n",
       "      <td>NaN</td>\n",
       "      <td>NaN</td>\n",
       "    </tr>\n",
       "    <tr>\n",
       "      <th>1</th>\n",
       "      <td>NaN</td>\n",
       "      <td>NaN</td>\n",
       "    </tr>\n",
       "    <tr>\n",
       "      <th>2</th>\n",
       "      <td>NaN</td>\n",
       "      <td>NaN</td>\n",
       "    </tr>\n",
       "    <tr>\n",
       "      <th>3</th>\n",
       "      <td>NaN</td>\n",
       "      <td>NaN</td>\n",
       "    </tr>\n",
       "    <tr>\n",
       "      <th>4</th>\n",
       "      <td>NaN</td>\n",
       "      <td>NaN</td>\n",
       "    </tr>\n",
       "    <tr>\n",
       "      <th>5</th>\n",
       "      <td>NaN</td>\n",
       "      <td>NaN</td>\n",
       "    </tr>\n",
       "    <tr>\n",
       "      <th>6</th>\n",
       "      <td>NaN</td>\n",
       "      <td>NaN</td>\n",
       "    </tr>\n",
       "    <tr>\n",
       "      <th>7</th>\n",
       "      <td>NaN</td>\n",
       "      <td>NaN</td>\n",
       "    </tr>\n",
       "    <tr>\n",
       "      <th>8</th>\n",
       "      <td>NaN</td>\n",
       "      <td>NaN</td>\n",
       "    </tr>\n",
       "    <tr>\n",
       "      <th>9</th>\n",
       "      <td>NaN</td>\n",
       "      <td>NaN</td>\n",
       "    </tr>\n",
       "    <tr>\n",
       "      <th>10</th>\n",
       "      <td>NaN</td>\n",
       "      <td>NaN</td>\n",
       "    </tr>\n",
       "    <tr>\n",
       "      <th>11</th>\n",
       "      <td>NaN</td>\n",
       "      <td>NaN</td>\n",
       "    </tr>\n",
       "    <tr>\n",
       "      <th>12</th>\n",
       "      <td>NaN</td>\n",
       "      <td>NaN</td>\n",
       "    </tr>\n",
       "    <tr>\n",
       "      <th>13</th>\n",
       "      <td>NaN</td>\n",
       "      <td>NaN</td>\n",
       "    </tr>\n",
       "    <tr>\n",
       "      <th>14</th>\n",
       "      <td>NaN</td>\n",
       "      <td>NaN</td>\n",
       "    </tr>\n",
       "    <tr>\n",
       "      <th>15</th>\n",
       "      <td>NaN</td>\n",
       "      <td>NaN</td>\n",
       "    </tr>\n",
       "    <tr>\n",
       "      <th>16</th>\n",
       "      <td>NaN</td>\n",
       "      <td>NaN</td>\n",
       "    </tr>\n",
       "    <tr>\n",
       "      <th>17</th>\n",
       "      <td>NaN</td>\n",
       "      <td>NaN</td>\n",
       "    </tr>\n",
       "    <tr>\n",
       "      <th>18</th>\n",
       "      <td>NaN</td>\n",
       "      <td>NaN</td>\n",
       "    </tr>\n",
       "    <tr>\n",
       "      <th>19</th>\n",
       "      <td>NaN</td>\n",
       "      <td>NaN</td>\n",
       "    </tr>\n",
       "    <tr>\n",
       "      <th>20</th>\n",
       "      <td>NaN</td>\n",
       "      <td>NaN</td>\n",
       "    </tr>\n",
       "    <tr>\n",
       "      <th>21</th>\n",
       "      <td>NaN</td>\n",
       "      <td>NaN</td>\n",
       "    </tr>\n",
       "    <tr>\n",
       "      <th>22</th>\n",
       "      <td>NaN</td>\n",
       "      <td>NaN</td>\n",
       "    </tr>\n",
       "    <tr>\n",
       "      <th>23</th>\n",
       "      <td>NaN</td>\n",
       "      <td>NaN</td>\n",
       "    </tr>\n",
       "    <tr>\n",
       "      <th>24</th>\n",
       "      <td>NaN</td>\n",
       "      <td>NaN</td>\n",
       "    </tr>\n",
       "    <tr>\n",
       "      <th>25</th>\n",
       "      <td>NaN</td>\n",
       "      <td>NaN</td>\n",
       "    </tr>\n",
       "    <tr>\n",
       "      <th>26</th>\n",
       "      <td>NaN</td>\n",
       "      <td>NaN</td>\n",
       "    </tr>\n",
       "    <tr>\n",
       "      <th>27</th>\n",
       "      <td>NaN</td>\n",
       "      <td>NaN</td>\n",
       "    </tr>\n",
       "    <tr>\n",
       "      <th>28</th>\n",
       "      <td>NaN</td>\n",
       "      <td>NaN</td>\n",
       "    </tr>\n",
       "    <tr>\n",
       "      <th>29</th>\n",
       "      <td>NaN</td>\n",
       "      <td>NaN</td>\n",
       "    </tr>\n",
       "    <tr>\n",
       "      <th>...</th>\n",
       "      <td>...</td>\n",
       "      <td>...</td>\n",
       "    </tr>\n",
       "    <tr>\n",
       "      <th>18145</th>\n",
       "      <td>NaN</td>\n",
       "      <td>NaN</td>\n",
       "    </tr>\n",
       "    <tr>\n",
       "      <th>18146</th>\n",
       "      <td>NaN</td>\n",
       "      <td>NaN</td>\n",
       "    </tr>\n",
       "    <tr>\n",
       "      <th>18147</th>\n",
       "      <td>NaN</td>\n",
       "      <td>NaN</td>\n",
       "    </tr>\n",
       "    <tr>\n",
       "      <th>18148</th>\n",
       "      <td>NaN</td>\n",
       "      <td>NaN</td>\n",
       "    </tr>\n",
       "    <tr>\n",
       "      <th>18149</th>\n",
       "      <td>NaN</td>\n",
       "      <td>NaN</td>\n",
       "    </tr>\n",
       "    <tr>\n",
       "      <th>18150</th>\n",
       "      <td>NaN</td>\n",
       "      <td>NaN</td>\n",
       "    </tr>\n",
       "    <tr>\n",
       "      <th>18151</th>\n",
       "      <td>NaN</td>\n",
       "      <td>NaN</td>\n",
       "    </tr>\n",
       "    <tr>\n",
       "      <th>18152</th>\n",
       "      <td>NaN</td>\n",
       "      <td>NaN</td>\n",
       "    </tr>\n",
       "    <tr>\n",
       "      <th>18153</th>\n",
       "      <td>NaN</td>\n",
       "      <td>NaN</td>\n",
       "    </tr>\n",
       "    <tr>\n",
       "      <th>18154</th>\n",
       "      <td>NaN</td>\n",
       "      <td>NaN</td>\n",
       "    </tr>\n",
       "    <tr>\n",
       "      <th>18155</th>\n",
       "      <td>NaN</td>\n",
       "      <td>NaN</td>\n",
       "    </tr>\n",
       "    <tr>\n",
       "      <th>18156</th>\n",
       "      <td>NaN</td>\n",
       "      <td>NaN</td>\n",
       "    </tr>\n",
       "    <tr>\n",
       "      <th>18157</th>\n",
       "      <td>NaN</td>\n",
       "      <td>NaN</td>\n",
       "    </tr>\n",
       "    <tr>\n",
       "      <th>18158</th>\n",
       "      <td>Google Code Camp</td>\n",
       "      <td>NaN</td>\n",
       "    </tr>\n",
       "    <tr>\n",
       "      <th>18159</th>\n",
       "      <td>WSD - WebStandardsDays</td>\n",
       "      <td>NaN</td>\n",
       "    </tr>\n",
       "    <tr>\n",
       "      <th>18160</th>\n",
       "      <td>A Class At Community College</td>\n",
       "      <td>NaN</td>\n",
       "    </tr>\n",
       "    <tr>\n",
       "      <th>18161</th>\n",
       "      <td>Matf</td>\n",
       "      <td>NaN</td>\n",
       "    </tr>\n",
       "    <tr>\n",
       "      <th>18162</th>\n",
       "      <td>NaN</td>\n",
       "      <td>NaN</td>\n",
       "    </tr>\n",
       "    <tr>\n",
       "      <th>18163</th>\n",
       "      <td>NaN</td>\n",
       "      <td>NaN</td>\n",
       "    </tr>\n",
       "    <tr>\n",
       "      <th>18164</th>\n",
       "      <td>NaN</td>\n",
       "      <td>NaN</td>\n",
       "    </tr>\n",
       "    <tr>\n",
       "      <th>18165</th>\n",
       "      <td>Internet</td>\n",
       "      <td>NaN</td>\n",
       "    </tr>\n",
       "    <tr>\n",
       "      <th>18166</th>\n",
       "      <td>EPAM Trainings</td>\n",
       "      <td>NaN</td>\n",
       "    </tr>\n",
       "    <tr>\n",
       "      <th>18167</th>\n",
       "      <td>NaN</td>\n",
       "      <td>NaN</td>\n",
       "    </tr>\n",
       "    <tr>\n",
       "      <th>18168</th>\n",
       "      <td>NaN</td>\n",
       "      <td>NaN</td>\n",
       "    </tr>\n",
       "    <tr>\n",
       "      <th>18169</th>\n",
       "      <td>NaN</td>\n",
       "      <td>NaN</td>\n",
       "    </tr>\n",
       "    <tr>\n",
       "      <th>18170</th>\n",
       "      <td>NaN</td>\n",
       "      <td>NaN</td>\n",
       "    </tr>\n",
       "    <tr>\n",
       "      <th>18171</th>\n",
       "      <td>NaN</td>\n",
       "      <td>IT Specialist</td>\n",
       "    </tr>\n",
       "    <tr>\n",
       "      <th>18172</th>\n",
       "      <td>NaN</td>\n",
       "      <td>NaN</td>\n",
       "    </tr>\n",
       "    <tr>\n",
       "      <th>18173</th>\n",
       "      <td>NaN</td>\n",
       "      <td>NaN</td>\n",
       "    </tr>\n",
       "    <tr>\n",
       "      <th>18174</th>\n",
       "      <td>NaN</td>\n",
       "      <td>NaN</td>\n",
       "    </tr>\n",
       "  </tbody>\n",
       "</table>\n",
       "<p>18175 rows × 2 columns</p>\n",
       "</div>"
      ],
      "text/plain": [
       "                     CodeEventOther JobInterestOther\n",
       "0                               NaN              NaN\n",
       "1                               NaN              NaN\n",
       "2                               NaN              NaN\n",
       "3                               NaN              NaN\n",
       "4                               NaN              NaN\n",
       "5                               NaN              NaN\n",
       "6                               NaN              NaN\n",
       "7                               NaN              NaN\n",
       "8                               NaN              NaN\n",
       "9                               NaN              NaN\n",
       "10                              NaN              NaN\n",
       "11                              NaN              NaN\n",
       "12                              NaN              NaN\n",
       "13                              NaN              NaN\n",
       "14                              NaN              NaN\n",
       "15                              NaN              NaN\n",
       "16                              NaN              NaN\n",
       "17                              NaN              NaN\n",
       "18                              NaN              NaN\n",
       "19                              NaN              NaN\n",
       "20                              NaN              NaN\n",
       "21                              NaN              NaN\n",
       "22                              NaN              NaN\n",
       "23                              NaN              NaN\n",
       "24                              NaN              NaN\n",
       "25                              NaN              NaN\n",
       "26                              NaN              NaN\n",
       "27                              NaN              NaN\n",
       "28                              NaN              NaN\n",
       "29                              NaN              NaN\n",
       "...                             ...              ...\n",
       "18145                           NaN              NaN\n",
       "18146                           NaN              NaN\n",
       "18147                           NaN              NaN\n",
       "18148                           NaN              NaN\n",
       "18149                           NaN              NaN\n",
       "18150                           NaN              NaN\n",
       "18151                           NaN              NaN\n",
       "18152                           NaN              NaN\n",
       "18153                           NaN              NaN\n",
       "18154                           NaN              NaN\n",
       "18155                           NaN              NaN\n",
       "18156                           NaN              NaN\n",
       "18157                           NaN              NaN\n",
       "18158              Google Code Camp              NaN\n",
       "18159        WSD - WebStandardsDays              NaN\n",
       "18160  A Class At Community College              NaN\n",
       "18161                          Matf              NaN\n",
       "18162                           NaN              NaN\n",
       "18163                           NaN              NaN\n",
       "18164                           NaN              NaN\n",
       "18165                      Internet              NaN\n",
       "18166                EPAM Trainings              NaN\n",
       "18167                           NaN              NaN\n",
       "18168                           NaN              NaN\n",
       "18169                           NaN              NaN\n",
       "18170                           NaN              NaN\n",
       "18171                           NaN    IT Specialist\n",
       "18172                           NaN              NaN\n",
       "18173                           NaN              NaN\n",
       "18174                           NaN              NaN\n",
       "\n",
       "[18175 rows x 2 columns]"
      ]
     },
     "execution_count": 4,
     "metadata": {},
     "output_type": "execute_result"
    }
   ],
   "source": [
    "survey_data[['CodeEventOther','JobInterestOther']]"
   ]
  },
  {
   "cell_type": "code",
   "execution_count": 5,
   "metadata": {
    "collapsed": false
   },
   "outputs": [
    {
     "name": "stdout",
     "output_type": "stream",
     "text": [
      "Age\n",
      "AttendedBootcamp\n",
      "BootcampFinish\n",
      "BootcampLoanYesNo\n",
      "BootcampName\n",
      "BootcampRecommend\n",
      "ChildrenNumber\n",
      "CityPopulation\n",
      "CodeEventConferences\n",
      "CodeEventDjangoGirls\n",
      "CodeEventFCC\n",
      "CodeEventGameJam\n",
      "CodeEventGirlDev\n",
      "CodeEventHackathons\n",
      "CodeEventMeetup\n",
      "CodeEventNodeSchool\n",
      "CodeEventNone\n",
      "CodeEventOther\n",
      "CodeEventRailsBridge\n",
      "CodeEventRailsGirls\n",
      "CodeEventStartUpWknd\n",
      "CodeEventWkdBootcamps\n",
      "CodeEventWomenCode\n",
      "CodeEventWorkshops\n",
      "CommuteTime\n",
      "CountryCitizen\n",
      "CountryLive\n",
      "EmploymentField\n",
      "EmploymentFieldOther\n",
      "EmploymentStatus\n",
      "EmploymentStatusOther\n",
      "ExpectedEarning\n",
      "FinanciallySupporting\n",
      "FirstDevJob\n",
      "Gender\n",
      "GenderOther\n",
      "HasChildren\n",
      "HasDebt\n",
      "HasFinancialDependents\n",
      "HasHighSpdInternet\n",
      "HasHomeMortgage\n",
      "HasServedInMilitary\n",
      "HasStudentDebt\n",
      "HomeMortgageOwe\n",
      "HoursLearning\n",
      "ID.x\n",
      "ID.y\n",
      "Income\n",
      "IsEthnicMinority\n",
      "IsReceiveDisabilitiesBenefits\n",
      "IsSoftwareDev\n",
      "IsUnderEmployed\n",
      "JobApplyWhen\n",
      "JobInterestBackEnd\n",
      "JobInterestDataEngr\n",
      "JobInterestDataSci\n",
      "JobInterestDevOps\n",
      "JobInterestFrontEnd\n",
      "JobInterestFullStack\n",
      "JobInterestGameDev\n",
      "JobInterestInfoSec\n",
      "JobInterestMobile\n",
      "JobInterestOther\n",
      "JobInterestProjMngr\n",
      "JobInterestQAEngr\n",
      "JobInterestUX\n",
      "JobPref\n",
      "JobRelocateYesNo\n",
      "JobRoleInterest\n",
      "JobWherePref\n",
      "LanguageAtHome\n",
      "MaritalStatus\n",
      "MoneyForLearning\n",
      "MonthsProgramming\n",
      "NetworkID\n",
      "Part1EndTime\n",
      "Part1StartTime\n",
      "Part2EndTime\n",
      "Part2StartTime\n",
      "PodcastChangeLog\n",
      "PodcastCodeNewbie\n",
      "PodcastCodePen\n",
      "PodcastDevTea\n",
      "PodcastDotNET\n",
      "PodcastGiantRobots\n",
      "PodcastJSAir\n",
      "PodcastJSJabber\n",
      "PodcastNone\n",
      "PodcastOther\n",
      "PodcastProgThrowdown\n",
      "PodcastRubyRogues\n",
      "PodcastSEDaily\n",
      "PodcastSERadio\n",
      "PodcastShopTalk\n",
      "PodcastTalkPython\n",
      "PodcastTheWebAhead\n",
      "ResourceCodecademy\n",
      "ResourceCodeWars\n",
      "ResourceCoursera\n",
      "ResourceCSS\n",
      "ResourceEdX\n",
      "ResourceEgghead\n",
      "ResourceFCC\n",
      "ResourceHackerRank\n",
      "ResourceKA\n",
      "ResourceLynda\n",
      "ResourceMDN\n",
      "ResourceOdinProj\n",
      "ResourceOther\n",
      "ResourcePluralSight\n",
      "ResourceSkillcrush\n",
      "ResourceSO\n",
      "ResourceTreehouse\n",
      "ResourceUdacity\n",
      "ResourceUdemy\n",
      "ResourceW3S\n",
      "SchoolDegree\n",
      "SchoolMajor\n",
      "StudentDebtOwe\n",
      "YouTubeCodeCourse\n",
      "YouTubeCodingTrain\n",
      "YouTubeCodingTut360\n",
      "YouTubeComputerphile\n",
      "YouTubeDerekBanas\n",
      "YouTubeDevTips\n",
      "YouTubeEngineeredTruth\n",
      "YouTubeFCC\n",
      "YouTubeFunFunFunction\n",
      "YouTubeGoogleDev\n",
      "YouTubeLearnCode\n",
      "YouTubeLevelUpTuts\n",
      "YouTubeMIT\n",
      "YouTubeMozillaHacks\n",
      "YouTubeOther\n",
      "YouTubeSimplilearn\n",
      "YouTubeTheNewBoston\n"
     ]
    }
   ],
   "source": [
    "columns = survey_data.columns\n",
    "for col in columns:\n",
    "    print(col)"
   ]
  },
  {
   "cell_type": "code",
   "execution_count": 6,
   "metadata": {
    "collapsed": false
   },
   "outputs": [
    {
     "data": {
      "text/plain": [
       "'JobInterestOther'"
      ]
     },
     "execution_count": 6,
     "metadata": {},
     "output_type": "execute_result"
    }
   ],
   "source": [
    "columns[62]"
   ]
  },
  {
   "cell_type": "code",
   "execution_count": 7,
   "metadata": {
    "collapsed": false
   },
   "outputs": [
    {
     "data": {
      "text/plain": [
       "dtype('O')"
      ]
     },
     "execution_count": 7,
     "metadata": {},
     "output_type": "execute_result"
    }
   ],
   "source": [
    "survey_data['JobInterestOther'].dtype"
   ]
  },
  {
   "cell_type": "code",
   "execution_count": 8,
   "metadata": {
    "collapsed": false
   },
   "outputs": [
    {
     "data": {
      "text/plain": [
       "NaN                                              17605\n",
       "No                                                  21\n",
       "Ladies Learning Code                                 9\n",
       "Bootcamp                                             8\n",
       "General Assembly                                     8\n",
       "School                                               8\n",
       "Na                                                   6\n",
       "Codebar                                              5\n",
       "No One                                               5\n",
       "GDG                                                  4\n",
       "WordCamp                                             3\n",
       "Any                                                  3\n",
       "Local Events                                         3\n",
       "PyLadies                                             3\n",
       "Coding Dojo                                          3\n",
       "Andela Bootcamp                                      3\n",
       "Code First: Girls                                    3\n",
       "Coding Bootcamp                                      3\n",
       "Google Developer Group                               3\n",
       "College                                              3\n",
       "Hour Of Code                                         3\n",
       "Null                                                 2\n",
       "Competitive Programming                              2\n",
       "Internet                                             2\n",
       "Discord                                              2\n",
       "Class                                                2\n",
       "DroidCon                                             2\n",
       "Udemy                                                2\n",
       "Girls Who Code                                       2\n",
       "Hear Me Code                                         2\n",
       "                                                 ...  \n",
       "Learning Tree                                        1\n",
       "CoLab Kaduna                                         1\n",
       "User Groups                                          1\n",
       "Angular                                              1\n",
       "NEXT Academy (Malaysia)                              1\n",
       "Bitmaker (Toronto, ON - CA)                          1\n",
       "Peatix Events                                        1\n",
       "PuppetConf 2016                                      1\n",
       "OpenHack                                             1\n",
       "Seattle Coder Dojo                                   1\n",
       "Sir Syed                                             1\n",
       "Codingame                                            1\n",
       "Include Girls Workshop                               1\n",
       "Team Retreat :P                                      1\n",
       "A Part-time Course With Instructors And Peers        1\n",
       "Code For Greenville                                  1\n",
       "Local Coding And Dinner Event                        1\n",
       "Code For Miami                                       1\n",
       "Local Part Time Bootcamps                            1\n",
       "Exercises At The University                          1\n",
       "Inspaya Incubator In Nigeria                         1\n",
       "She Codes;                                           1\n",
       "Microsoft Dev Camps                                  1\n",
       "Local Lectures From College                          1\n",
       "Epicodus (part Time/full Time Boot Camp)             1\n",
       "GreenFox                                             1\n",
       "Talking To Other Developers At My Company            1\n",
       "Brainstation                                         1\n",
       "Cisco Live DevNet                                    1\n",
       "5 Month Private Class                                1\n",
       "Name: CodeEventOther, Length: 464, dtype: int64"
      ]
     },
     "execution_count": 8,
     "metadata": {},
     "output_type": "execute_result"
    }
   ],
   "source": [
    "survey_data['CodeEventOther'].value_counts(dropna = False)"
   ]
  },
  {
   "cell_type": "code",
   "execution_count": 9,
   "metadata": {
    "collapsed": false
   },
   "outputs": [
    {
     "data": {
      "text/plain": [
       "0                      Canada\n",
       "1    United States of America\n",
       "2    United States of America\n",
       "3                      Brazil\n",
       "4                    Portugal\n",
       "Name: CountryLive, dtype: object"
      ]
     },
     "execution_count": 9,
     "metadata": {},
     "output_type": "execute_result"
    }
   ],
   "source": [
    "survey_data[\"CountryLive\"].head()"
   ]
  },
  {
   "cell_type": "code",
   "execution_count": 10,
   "metadata": {
    "collapsed": false
   },
   "outputs": [
    {
     "data": {
      "text/plain": [
       "Employed for wages                      7624\n",
       "Not working but looking for work        3147\n",
       "Self-employed freelancer                1199\n",
       "Not working and not looking for work     906\n",
       "Self-employed business owner             534\n",
       "Doing an unpaid internship               339\n",
       "Unable to work                           262\n",
       "A stay-at-home parent or homemaker       214\n",
       "Military                                  88\n",
       "Retired                                   32\n",
       "Name: EmploymentStatus, dtype: int64"
      ]
     },
     "execution_count": 10,
     "metadata": {},
     "output_type": "execute_result"
    }
   ],
   "source": [
    "survey_data[\"EmploymentStatus\"].value_counts()"
   ]
  },
  {
   "cell_type": "code",
   "execution_count": 11,
   "metadata": {
    "collapsed": false
   },
   "outputs": [
    {
     "data": {
      "text/plain": [
       "NaN     14636\n",
       " 1.0     3539\n",
       "Name: YouTubeGoogleDev, dtype: int64"
      ]
     },
     "execution_count": 11,
     "metadata": {},
     "output_type": "execute_result"
    }
   ],
   "source": [
    "survey_data[\"YouTubeGoogleDev\"].value_counts(dropna = False)"
   ]
  },
  {
   "cell_type": "code",
   "execution_count": 12,
   "metadata": {
    "collapsed": false
   },
   "outputs": [
    {
     "data": {
      "text/plain": [
       "Not working but looking for work        730\n",
       "Not working and not looking for work    396\n",
       "Employed for wages                      387\n",
       "Self-employed freelancer                170\n",
       "Doing an unpaid internship               92\n",
       "Unable to work                           64\n",
       "Self-employed business owner             40\n",
       "A stay-at-home parent or homemaker       27\n",
       "Military                                 12\n",
       "Name: EmploymentStatus, dtype: int64"
      ]
     },
     "execution_count": 12,
     "metadata": {},
     "output_type": "execute_result"
    }
   ],
   "source": [
    "survey_data[(survey_data[\"Age\"]<=20)&(survey_data[\"Age\"]>15)][\"EmploymentStatus\"].value_counts()"
   ]
  },
  {
   "cell_type": "code",
   "execution_count": 13,
   "metadata": {
    "collapsed": false
   },
   "outputs": [
    {
     "data": {
      "text/plain": [
       "<matplotlib.axes._subplots.AxesSubplot at 0x7f745413e748>"
      ]
     },
     "execution_count": 13,
     "metadata": {},
     "output_type": "execute_result"
    },
    {
     "data": {
      "image/png": "[encoded data removed]",
      "text/plain": [
       "<matplotlib.figure.Figure at 0x7f745413e4e0>"
      ]
     },
     "metadata": {},
     "output_type": "display_data"
    }
   ],
   "source": [
    "survey_data[\"Age\"].plot.kde(xlim = (0,90))"
   ]
  },
  {
   "cell_type": "code",
   "execution_count": 14,
   "metadata": {
    "collapsed": false
   },
   "outputs": [
    {
     "data": {
      "text/plain": [
       "count    15367.000000\n",
       "mean        27.691872\n",
       "std          8.559239\n",
       "min          0.000000\n",
       "25%         22.000000\n",
       "50%         26.000000\n",
       "75%         32.000000\n",
       "max         90.000000\n",
       "Name: Age, dtype: float64"
      ]
     },
     "execution_count": 14,
     "metadata": {},
     "output_type": "execute_result"
    }
   ],
   "source": [
    "survey_data[\"Age\"].describe()"
   ]
  },
  {
   "cell_type": "code",
   "execution_count": 15,
   "metadata": {
    "collapsed": false
   },
   "outputs": [
    {
     "data": {
      "text/plain": [
       "Employed for wages                      6494\n",
       "Not working but looking for work        2107\n",
       "Self-employed freelancer                 865\n",
       "Not working and not looking for work     374\n",
       "Self-employed business owner             374\n",
       "Doing an unpaid internship               225\n",
       "A stay-at-home parent or homemaker       147\n",
       "Unable to work                           108\n",
       "Military                                  68\n",
       "Retired                                    3\n",
       "Name: EmploymentStatus, dtype: int64"
      ]
     },
     "execution_count": 15,
     "metadata": {},
     "output_type": "execute_result"
    }
   ],
   "source": [
    "survey_data[(survey_data[\"Age\"]<=40)&(survey_data[\"Age\"]>20)][\"EmploymentStatus\"].value_counts()"
   ]
  },
  {
   "cell_type": "markdown",
   "metadata": {},
   "source": [
    "# Our Goal is to Advertise Web and Mobile Development. We will look if our data is a representative by looking in their Job Role Interest "
   ]
  },
  {
   "cell_type": "markdown",
   "metadata": {},
   "source": [
    "## Extracting and Tallying every Jobs that Interests our population."
   ]
  },
  {
   "cell_type": "code",
   "execution_count": 16,
   "metadata": {
    "collapsed": true
   },
   "outputs": [],
   "source": [
    "import re"
   ]
  },
  {
   "cell_type": "code",
   "execution_count": 17,
   "metadata": {
    "collapsed": true
   },
   "outputs": [],
   "source": [
    "def get_job_count(word,dict_):\n",
    "    if type(word) != str:\n",
    "        word = \"None\"\n",
    "    regex = r\"([A-Za-z0-9-\\s]+)\"\n",
    "    wordlist = re.findall(regex,word)\n",
    "    for word in wordlist:\n",
    "        word = word.replace(\" \",\"\")\n",
    "        if word in job_count:\n",
    "            job_count[word] += 1\n",
    "        else:\n",
    "            job_count[word] = 1"
   ]
  },
  {
   "cell_type": "code",
   "execution_count": 18,
   "metadata": {
    "collapsed": false
   },
   "outputs": [],
   "source": [
    "JobRoleInterest = survey_data[\"JobRoleInterest\"].copy()"
   ]
  },
  {
   "cell_type": "code",
   "execution_count": 19,
   "metadata": {
    "collapsed": false,
    "scrolled": true
   },
   "outputs": [],
   "source": [
    "job_count= {}\n",
    "x = JobRoleInterest.apply(get_job_count,args=(job_count,))"
   ]
  },
  {
   "cell_type": "markdown",
   "metadata": {},
   "source": [
    "Deleting non-sense answers"
   ]
  },
  {
   "cell_type": "code",
   "execution_count": 20,
   "metadata": {
    "collapsed": false
   },
   "outputs": [],
   "source": [
    "to_del = ['All-whateverisrequiredtodeveloptoolstorevolutionizethemechanicalengineeringprocess','Anyofthem','Anythingthatengagesme','Ceo','Collegeprofessor','Compilers','ComputerScienceBased','Crypto','Desings','Entrepreneur','Entreprenuer','Founder','I','Idon','Idontyetknow','ajobinwhichIcanusecodingskillstocreatevaluableportalstoadvancehumanrights','improvinginmycurrentcareerasaLearningtechnologist','inwhateverformat','mjustlearningcodetoincreasemyskill-set','plc','sdreamofusingsometechinawaythatinspirescriticalamountsofpeopletoinfluencethechangesweneedtoprotect','tknowwhatthedifferenceisbetweenmostofthesesozlol','tknowyet']\n",
    "for key in to_del:\n",
    "    del job_count[key]\n",
    "col_names = [\"Job\", \"Count\"]\n",
    "df = []\n",
    "for key in job_count:\n",
    "    df.append([key,job_count[key]])\n",
    "jobs = pd.DataFrame(df, columns = col_names)"
   ]
  },
  {
   "cell_type": "code",
   "execution_count": 21,
   "metadata": {
    "collapsed": false
   },
   "outputs": [
    {
     "data": {
      "text/html": [
       "<div>\n",
       "<style scoped>\n",
       "    .dataframe tbody tr th:only-of-type {\n",
       "        vertical-align: middle;\n",
       "    }\n",
       "\n",
       "    .dataframe tbody tr th {\n",
       "        vertical-align: top;\n",
       "    }\n",
       "\n",
       "    .dataframe thead th {\n",
       "        text-align: right;\n",
       "    }\n",
       "</style>\n",
       "<table border=\"1\" class=\"dataframe\">\n",
       "  <thead>\n",
       "    <tr style=\"text-align: right;\">\n",
       "      <th></th>\n",
       "      <th>Job</th>\n",
       "      <th>Count</th>\n",
       "    </tr>\n",
       "  </thead>\n",
       "  <tbody>\n",
       "    <tr>\n",
       "      <th>3</th>\n",
       "      <td>None</td>\n",
       "      <td>11183</td>\n",
       "    </tr>\n",
       "    <tr>\n",
       "      <th>94</th>\n",
       "      <td>Full-StackWebDeveloper</td>\n",
       "      <td>4198</td>\n",
       "    </tr>\n",
       "    <tr>\n",
       "      <th>2</th>\n",
       "      <td>Front-EndWebDeveloper</td>\n",
       "      <td>3533</td>\n",
       "    </tr>\n",
       "    <tr>\n",
       "      <th>173</th>\n",
       "      <td>Back-EndWebDeveloper</td>\n",
       "      <td>2772</td>\n",
       "    </tr>\n",
       "    <tr>\n",
       "      <th>20</th>\n",
       "      <td>MobileDeveloper</td>\n",
       "      <td>2304</td>\n",
       "    </tr>\n",
       "    <tr>\n",
       "      <th>69</th>\n",
       "      <td>DataScientist</td>\n",
       "      <td>1643</td>\n",
       "    </tr>\n",
       "    <tr>\n",
       "      <th>26</th>\n",
       "      <td>GameDeveloper</td>\n",
       "      <td>1628</td>\n",
       "    </tr>\n",
       "    <tr>\n",
       "      <th>87</th>\n",
       "      <td>UserExperienceDesigner</td>\n",
       "      <td>1469</td>\n",
       "    </tr>\n",
       "    <tr>\n",
       "      <th>195</th>\n",
       "      <td>InformationSecurity</td>\n",
       "      <td>1326</td>\n",
       "    </tr>\n",
       "    <tr>\n",
       "      <th>25</th>\n",
       "      <td>DataEngineer</td>\n",
       "      <td>1248</td>\n",
       "    </tr>\n",
       "    <tr>\n",
       "      <th>142</th>\n",
       "      <td>SysAdmin</td>\n",
       "      <td>927</td>\n",
       "    </tr>\n",
       "    <tr>\n",
       "      <th>172</th>\n",
       "      <td>DevOps</td>\n",
       "      <td>927</td>\n",
       "    </tr>\n",
       "    <tr>\n",
       "      <th>74</th>\n",
       "      <td>ProductManager</td>\n",
       "      <td>814</td>\n",
       "    </tr>\n",
       "    <tr>\n",
       "      <th>28</th>\n",
       "      <td>QualityAssuranceEngineer</td>\n",
       "      <td>498</td>\n",
       "    </tr>\n",
       "    <tr>\n",
       "      <th>140</th>\n",
       "      <td>SoftwareEngineer</td>\n",
       "      <td>12</td>\n",
       "    </tr>\n",
       "    <tr>\n",
       "      <th>7</th>\n",
       "      <td>SoftwareDeveloper</td>\n",
       "      <td>6</td>\n",
       "    </tr>\n",
       "    <tr>\n",
       "      <th>41</th>\n",
       "      <td>ArtificialIntelligence</td>\n",
       "      <td>4</td>\n",
       "    </tr>\n",
       "    <tr>\n",
       "      <th>170</th>\n",
       "      <td>Softwareengineer</td>\n",
       "      <td>4</td>\n",
       "    </tr>\n",
       "    <tr>\n",
       "      <th>183</th>\n",
       "      <td>Notsure</td>\n",
       "      <td>3</td>\n",
       "    </tr>\n",
       "    <tr>\n",
       "      <th>42</th>\n",
       "      <td>designer</td>\n",
       "      <td>3</td>\n",
       "    </tr>\n",
       "    <tr>\n",
       "      <th>43</th>\n",
       "      <td>Bioinformatics</td>\n",
       "      <td>3</td>\n",
       "    </tr>\n",
       "    <tr>\n",
       "      <th>5</th>\n",
       "      <td>DesktopApplicationDeveloper</td>\n",
       "      <td>3</td>\n",
       "    </tr>\n",
       "    <tr>\n",
       "      <th>91</th>\n",
       "      <td>MachineLearningEngineer</td>\n",
       "      <td>3</td>\n",
       "    </tr>\n",
       "    <tr>\n",
       "      <th>161</th>\n",
       "      <td>BusinessAnalyst</td>\n",
       "      <td>2</td>\n",
       "    </tr>\n",
       "    <tr>\n",
       "      <th>46</th>\n",
       "      <td>EthicalHacker</td>\n",
       "      <td>2</td>\n",
       "    </tr>\n",
       "    <tr>\n",
       "      <th>167</th>\n",
       "      <td>Researcher</td>\n",
       "      <td>2</td>\n",
       "    </tr>\n",
       "    <tr>\n",
       "      <th>51</th>\n",
       "      <td>Research</td>\n",
       "      <td>2</td>\n",
       "    </tr>\n",
       "    <tr>\n",
       "      <th>55</th>\n",
       "      <td>programmer</td>\n",
       "      <td>2</td>\n",
       "    </tr>\n",
       "    <tr>\n",
       "      <th>85</th>\n",
       "      <td>Notsureyet</td>\n",
       "      <td>2</td>\n",
       "    </tr>\n",
       "    <tr>\n",
       "      <th>84</th>\n",
       "      <td>ProductDesigner</td>\n",
       "      <td>2</td>\n",
       "    </tr>\n",
       "    <tr>\n",
       "      <th>...</th>\n",
       "      <td>...</td>\n",
       "      <td>...</td>\n",
       "    </tr>\n",
       "    <tr>\n",
       "      <th>102</th>\n",
       "      <td>FullStackDeveloper</td>\n",
       "      <td>1</td>\n",
       "    </tr>\n",
       "    <tr>\n",
       "      <th>104</th>\n",
       "      <td>idk</td>\n",
       "      <td>1</td>\n",
       "    </tr>\n",
       "    <tr>\n",
       "      <th>105</th>\n",
       "      <td>datavisualist</td>\n",
       "      <td>1</td>\n",
       "    </tr>\n",
       "    <tr>\n",
       "      <th>106</th>\n",
       "      <td>non-programmer</td>\n",
       "      <td>1</td>\n",
       "    </tr>\n",
       "    <tr>\n",
       "      <th>107</th>\n",
       "      <td>RoboticsandAIEngineer</td>\n",
       "      <td>1</td>\n",
       "    </tr>\n",
       "    <tr>\n",
       "      <th>108</th>\n",
       "      <td>virtualrealitydeveloper</td>\n",
       "      <td>1</td>\n",
       "    </tr>\n",
       "    <tr>\n",
       "      <th>110</th>\n",
       "      <td>IaminterestedinGameDevelopment</td>\n",
       "      <td>1</td>\n",
       "    </tr>\n",
       "    <tr>\n",
       "      <th>111</th>\n",
       "      <td>AIandMachineLearning</td>\n",
       "      <td>1</td>\n",
       "    </tr>\n",
       "    <tr>\n",
       "      <th>89</th>\n",
       "      <td>Bioinformatitian</td>\n",
       "      <td>1</td>\n",
       "    </tr>\n",
       "    <tr>\n",
       "      <th>88</th>\n",
       "      <td>Databases</td>\n",
       "      <td>1</td>\n",
       "    </tr>\n",
       "    <tr>\n",
       "      <th>86</th>\n",
       "      <td>undeceided</td>\n",
       "      <td>1</td>\n",
       "    </tr>\n",
       "    <tr>\n",
       "      <th>83</th>\n",
       "      <td>front-end</td>\n",
       "      <td>1</td>\n",
       "    </tr>\n",
       "    <tr>\n",
       "      <th>63</th>\n",
       "      <td>FinancialServices</td>\n",
       "      <td>1</td>\n",
       "    </tr>\n",
       "    <tr>\n",
       "      <th>64</th>\n",
       "      <td>DeveloperEvangelist</td>\n",
       "      <td>1</td>\n",
       "    </tr>\n",
       "    <tr>\n",
       "      <th>65</th>\n",
       "      <td>codedeveloper</td>\n",
       "      <td>1</td>\n",
       "    </tr>\n",
       "    <tr>\n",
       "      <th>66</th>\n",
       "      <td>Pharmacytech</td>\n",
       "      <td>1</td>\n",
       "    </tr>\n",
       "    <tr>\n",
       "      <th>67</th>\n",
       "      <td>Real-timesystems</td>\n",
       "      <td>1</td>\n",
       "    </tr>\n",
       "    <tr>\n",
       "      <th>70</th>\n",
       "      <td>ScientificProgramming</td>\n",
       "      <td>1</td>\n",
       "    </tr>\n",
       "    <tr>\n",
       "      <th>71</th>\n",
       "      <td>GISDatabaseAdmin</td>\n",
       "      <td>1</td>\n",
       "    </tr>\n",
       "    <tr>\n",
       "      <th>72</th>\n",
       "      <td>WebDesign</td>\n",
       "      <td>1</td>\n",
       "    </tr>\n",
       "    <tr>\n",
       "      <th>73</th>\n",
       "      <td>Datavisualisation</td>\n",
       "      <td>1</td>\n",
       "    </tr>\n",
       "    <tr>\n",
       "      <th>75</th>\n",
       "      <td>NotSure</td>\n",
       "      <td>1</td>\n",
       "    </tr>\n",
       "    <tr>\n",
       "      <th>76</th>\n",
       "      <td>InformationTechnology</td>\n",
       "      <td>1</td>\n",
       "    </tr>\n",
       "    <tr>\n",
       "      <th>77</th>\n",
       "      <td>Data</td>\n",
       "      <td>1</td>\n",
       "    </tr>\n",
       "    <tr>\n",
       "      <th>78</th>\n",
       "      <td>creativecoder</td>\n",
       "      <td>1</td>\n",
       "    </tr>\n",
       "    <tr>\n",
       "      <th>79</th>\n",
       "      <td>AI</td>\n",
       "      <td>1</td>\n",
       "    </tr>\n",
       "    <tr>\n",
       "      <th>80</th>\n",
       "      <td>Astrophysicist</td>\n",
       "      <td>1</td>\n",
       "    </tr>\n",
       "    <tr>\n",
       "      <th>81</th>\n",
       "      <td>AIandneuroscience</td>\n",
       "      <td>1</td>\n",
       "    </tr>\n",
       "    <tr>\n",
       "      <th>82</th>\n",
       "      <td>LibraryDeveloper</td>\n",
       "      <td>1</td>\n",
       "    </tr>\n",
       "    <tr>\n",
       "      <th>198</th>\n",
       "      <td>IoT</td>\n",
       "      <td>1</td>\n",
       "    </tr>\n",
       "  </tbody>\n",
       "</table>\n",
       "<p>199 rows × 2 columns</p>\n",
       "</div>"
      ],
      "text/plain": [
       "                                Job  Count\n",
       "3                              None  11183\n",
       "94           Full-StackWebDeveloper   4198\n",
       "2             Front-EndWebDeveloper   3533\n",
       "173            Back-EndWebDeveloper   2772\n",
       "20                  MobileDeveloper   2304\n",
       "69                    DataScientist   1643\n",
       "26                    GameDeveloper   1628\n",
       "87           UserExperienceDesigner   1469\n",
       "195             InformationSecurity   1326\n",
       "25                     DataEngineer   1248\n",
       "142                        SysAdmin    927\n",
       "172                          DevOps    927\n",
       "74                   ProductManager    814\n",
       "28         QualityAssuranceEngineer    498\n",
       "140                SoftwareEngineer     12\n",
       "7                 SoftwareDeveloper      6\n",
       "41           ArtificialIntelligence      4\n",
       "170                Softwareengineer      4\n",
       "183                         Notsure      3\n",
       "42                         designer      3\n",
       "43                   Bioinformatics      3\n",
       "5       DesktopApplicationDeveloper      3\n",
       "91          MachineLearningEngineer      3\n",
       "161                 BusinessAnalyst      2\n",
       "46                    EthicalHacker      2\n",
       "167                      Researcher      2\n",
       "51                         Research      2\n",
       "55                       programmer      2\n",
       "85                       Notsureyet      2\n",
       "84                  ProductDesigner      2\n",
       "..                              ...    ...\n",
       "102              FullStackDeveloper      1\n",
       "104                             idk      1\n",
       "105                   datavisualist      1\n",
       "106                  non-programmer      1\n",
       "107           RoboticsandAIEngineer      1\n",
       "108         virtualrealitydeveloper      1\n",
       "110  IaminterestedinGameDevelopment      1\n",
       "111            AIandMachineLearning      1\n",
       "89                 Bioinformatitian      1\n",
       "88                        Databases      1\n",
       "86                       undeceided      1\n",
       "83                        front-end      1\n",
       "63                FinancialServices      1\n",
       "64              DeveloperEvangelist      1\n",
       "65                    codedeveloper      1\n",
       "66                     Pharmacytech      1\n",
       "67                 Real-timesystems      1\n",
       "70            ScientificProgramming      1\n",
       "71                 GISDatabaseAdmin      1\n",
       "72                        WebDesign      1\n",
       "73                Datavisualisation      1\n",
       "75                          NotSure      1\n",
       "76            InformationTechnology      1\n",
       "77                             Data      1\n",
       "78                    creativecoder      1\n",
       "79                               AI      1\n",
       "80                   Astrophysicist      1\n",
       "81                AIandneuroscience      1\n",
       "82                 LibraryDeveloper      1\n",
       "198                             IoT      1\n",
       "\n",
       "[199 rows x 2 columns]"
      ]
     },
     "execution_count": 21,
     "metadata": {},
     "output_type": "execute_result"
    }
   ],
   "source": [
    "jobs.sort_values(\"Count\", ascending = False)"
   ]
  },
  {
   "cell_type": "markdown",
   "metadata": {},
   "source": [
    "Picking Jobs that only have counts greater than 20"
   ]
  },
  {
   "cell_type": "code",
   "execution_count": 22,
   "metadata": {
    "collapsed": false
   },
   "outputs": [
    {
     "data": {
      "text/plain": [
       "<matplotlib.axes._subplots.AxesSubplot at 0x7f745498c080>"
      ]
     },
     "execution_count": 22,
     "metadata": {},
     "output_type": "execute_result"
    },
    {
     "data": {
      "image/png": "[encoded data removed]",
      "text/plain": [
       "<matplotlib.figure.Figure at 0x7f7454a04d30>"
      ]
     },
     "metadata": {},
     "output_type": "display_data"
    }
   ],
   "source": [
    "for_bar = jobs[jobs[\"Count\"]>20].sort_values(\"Count\")\n",
    "for_bar.plot.bar(\"Job\",\"Count\", figsize=(10,10))"
   ]
  },
  {
   "cell_type": "markdown",
   "metadata": {},
   "source": [
    "The Bar plot tells us that most participants answered None, this could mean that most of them are not sure what track they should follow or they just getting started.\n",
    "\n",
    "Ignoring the none, The top 5 Job Roles that interests our participants are:\n",
    "    1. Full-StackWebDeveloper\n",
    "    2. Fron-End Stack Web Developer\n",
    "    3. Back-End Web Developer\n",
    "    4. Mobile Developer\n",
    "    5. Data Scientist\n",
    "The Top 1-3 are related to Web Developing and the Top 4 is Mobile Developer which indicates that the population is representative for this project."
   ]
  },
  {
   "cell_type": "markdown",
   "metadata": {
    "collapsed": true
   },
   "source": [
    "# 4."
   ]
  },
  {
   "cell_type": "code",
   "execution_count": 23,
   "metadata": {
    "collapsed": false
   },
   "outputs": [],
   "source": [
    "job_list = [\"Full-Stack Web Developer\",\"Front-End Web Developer\",\"Back-End Web Developer\",\"Mobile Developer\"]\n",
    "def get_population(element, jobs):\n",
    "    for job in jobs:\n",
    "        if type(element) != str:\n",
    "            return False\n",
    "            break\n",
    "        elif job in element:\n",
    "            return True\n",
    "            break\n",
    "        else:\n",
    "            return False\n",
    "bool_col =  survey_data[\"JobRoleInterest\"].apply(get_population, args = (job_list,))\n",
    "data = survey_data[bool_col].copy()"
   ]
  },
  {
   "cell_type": "code",
   "execution_count": 24,
   "metadata": {
    "collapsed": false
   },
   "outputs": [
    {
     "data": {
      "text/plain": [
       "1                                 Full-Stack Web Developer\n",
       "2          Front-End Web Developer, Back-End Web Develo...\n",
       "3          Front-End Web Developer, Full-Stack Web Deve...\n",
       "4        Full-Stack Web Developer, Information Security...\n",
       "6                                 Full-Stack Web Developer\n",
       "9        Full-Stack Web Developer,   Quality Assurance ...\n",
       "13       Back-End Web Developer, Full-Stack Web Develop...\n",
       "14                                Full-Stack Web Developer\n",
       "15                                Full-Stack Web Developer\n",
       "16                                Full-Stack Web Developer\n",
       "18       Full-Stack Web Developer,   Front-End Web Deve...\n",
       "19         Front-End Web Developer,   Mobile Developer,...\n",
       "22                                Full-Stack Web Developer\n",
       "28                                Full-Stack Web Developer\n",
       "29         Front-End Web Developer,   Data Scientist, F...\n",
       "30        Back-End Web Developer, Full-Stack Web Developer\n",
       "33       Full-Stack Web Developer,   Quality Assurance ...\n",
       "34        Back-End Web Developer, Full-Stack Web Developer\n",
       "35       Back-End Web Developer, Full-Stack Web Develop...\n",
       "40         Front-End Web Developer, Back-End Web Develo...\n",
       "42                                Full-Stack Web Developer\n",
       "43       Back-End Web Developer,   Front-End Web Develo...\n",
       "52         Data Scientist, Game Developer, Full-Stack W...\n",
       "55       Full-Stack Web Developer, Back-End Web Develop...\n",
       "63       Full-Stack Web Developer,   User Experience De...\n",
       "64                                Full-Stack Web Developer\n",
       "66         DevOps / SysAdmin,   Quality Assurance Engin...\n",
       "70         Front-End Web Developer, Back-End Web Develo...\n",
       "84        Back-End Web Developer, Full-Stack Web Developer\n",
       "88                Game Developer, Full-Stack Web Developer\n",
       "                               ...                        \n",
       "18017                             Full-Stack Web Developer\n",
       "18020      Front-End Web Developer,   Quality Assurance...\n",
       "18037      Mobile Developer, Data Engineer,   Front-End...\n",
       "18039      DevOps / SysAdmin, Data Engineer,   Data Sci...\n",
       "18041                             Full-Stack Web Developer\n",
       "18043      DevOps / SysAdmin, Full-Stack Web Developer,...\n",
       "18049      Front-End Web Developer, Back-End Web Develo...\n",
       "18050           Full-Stack Web Developer,   Data Scientist\n",
       "18052      Front-End Web Developer, Back-End Web Develo...\n",
       "18054      Product Manager, Full-Stack Web Developer,  ...\n",
       "18057      User Experience Designer,   Front-End Web De...\n",
       "18069                             Full-Stack Web Developer\n",
       "18078      Front-End Web Developer, Full-Stack Web Deve...\n",
       "18081    Full-Stack Web Developer, Back-End Web Develop...\n",
       "18088                             Full-Stack Web Developer\n",
       "18090    Game Developer,   Data Scientist, Full-Stack W...\n",
       "18097    Game Developer,   Mobile Developer, Full-Stack...\n",
       "18098      Front-End Web Developer, Full-Stack Web Deve...\n",
       "18099                             Full-Stack Web Developer\n",
       "18107                             Full-Stack Web Developer\n",
       "18112      Mobile Developer, Game Developer, Full-Stack...\n",
       "18118      DevOps / SysAdmin, Full-Stack Web Developer,...\n",
       "18125      Front-End Web Developer, Full-Stack Web Deve...\n",
       "18130      Front-End Web Developer,   User Experience D...\n",
       "18153       Information Security, Full-Stack Web Developer\n",
       "18154                             Full-Stack Web Developer\n",
       "18155    Full-Stack Web Developer,   Front-End Web Deve...\n",
       "18156                             Full-Stack Web Developer\n",
       "18161                             Full-Stack Web Developer\n",
       "18171      DevOps / SysAdmin,   Mobile Developer,   Pro...\n",
       "Name: JobRoleInterest, Length: 4198, dtype: object"
      ]
     },
     "execution_count": 24,
     "metadata": {},
     "output_type": "execute_result"
    }
   ],
   "source": [
    "data[\"JobRoleInterest\"]"
   ]
  },
  {
   "cell_type": "code",
   "execution_count": 25,
   "metadata": {
    "collapsed": false
   },
   "outputs": [
    {
     "data": {
      "text/plain": [
       "<matplotlib.axes._subplots.AxesSubplot at 0x7f74548d3208>"
      ]
     },
     "execution_count": 25,
     "metadata": {},
     "output_type": "execute_result"
    },
    {
     "data": {
      "image/png": "[encoded data removed]",
      "text/plain": [
       "<matplotlib.figure.Figure at 0x7f745492fef0>"
      ]
     },
     "metadata": {},
     "output_type": "display_data"
    }
   ],
   "source": [
    "data[\"CountryLive\"].value_counts(normalize = True).head(10).plot.bar()"
   ]
  },
  {
   "cell_type": "code",
   "execution_count": 26,
   "metadata": {
    "collapsed": false
   },
   "outputs": [
    {
     "name": "stdout",
     "output_type": "stream",
     "text": [
      "Age\n",
      "AttendedBootcamp\n",
      "BootcampFinish\n",
      "BootcampLoanYesNo\n",
      "BootcampName\n",
      "BootcampRecommend\n",
      "ChildrenNumber\n",
      "CityPopulation\n",
      "CodeEventConferences\n",
      "CodeEventDjangoGirls\n",
      "CodeEventFCC\n",
      "CodeEventGameJam\n",
      "CodeEventGirlDev\n",
      "CodeEventHackathons\n",
      "CodeEventMeetup\n",
      "CodeEventNodeSchool\n",
      "CodeEventNone\n",
      "CodeEventOther\n",
      "CodeEventRailsBridge\n",
      "CodeEventRailsGirls\n",
      "CodeEventStartUpWknd\n",
      "CodeEventWkdBootcamps\n",
      "CodeEventWomenCode\n",
      "CodeEventWorkshops\n",
      "CommuteTime\n",
      "CountryCitizen\n",
      "CountryLive\n",
      "EmploymentField\n",
      "EmploymentFieldOther\n",
      "EmploymentStatus\n",
      "EmploymentStatusOther\n",
      "ExpectedEarning\n",
      "FinanciallySupporting\n",
      "FirstDevJob\n",
      "Gender\n",
      "GenderOther\n",
      "HasChildren\n",
      "HasDebt\n",
      "HasFinancialDependents\n",
      "HasHighSpdInternet\n",
      "HasHomeMortgage\n",
      "HasServedInMilitary\n",
      "HasStudentDebt\n",
      "HomeMortgageOwe\n",
      "HoursLearning\n",
      "ID.x\n",
      "ID.y\n",
      "Income\n",
      "IsEthnicMinority\n",
      "IsReceiveDisabilitiesBenefits\n",
      "IsSoftwareDev\n",
      "IsUnderEmployed\n",
      "JobApplyWhen\n",
      "JobInterestBackEnd\n",
      "JobInterestDataEngr\n",
      "JobInterestDataSci\n",
      "JobInterestDevOps\n",
      "JobInterestFrontEnd\n",
      "JobInterestFullStack\n",
      "JobInterestGameDev\n",
      "JobInterestInfoSec\n",
      "JobInterestMobile\n",
      "JobInterestOther\n",
      "JobInterestProjMngr\n",
      "JobInterestQAEngr\n",
      "JobInterestUX\n",
      "JobPref\n",
      "JobRelocateYesNo\n",
      "JobRoleInterest\n",
      "JobWherePref\n",
      "LanguageAtHome\n",
      "MaritalStatus\n",
      "MoneyForLearning\n",
      "MonthsProgramming\n",
      "NetworkID\n",
      "Part1EndTime\n",
      "Part1StartTime\n",
      "Part2EndTime\n",
      "Part2StartTime\n",
      "PodcastChangeLog\n",
      "PodcastCodeNewbie\n",
      "PodcastCodePen\n",
      "PodcastDevTea\n",
      "PodcastDotNET\n",
      "PodcastGiantRobots\n",
      "PodcastJSAir\n",
      "PodcastJSJabber\n",
      "PodcastNone\n",
      "PodcastOther\n",
      "PodcastProgThrowdown\n",
      "PodcastRubyRogues\n",
      "PodcastSEDaily\n",
      "PodcastSERadio\n",
      "PodcastShopTalk\n",
      "PodcastTalkPython\n",
      "PodcastTheWebAhead\n",
      "ResourceCodecademy\n",
      "ResourceCodeWars\n",
      "ResourceCoursera\n",
      "ResourceCSS\n",
      "ResourceEdX\n",
      "ResourceEgghead\n",
      "ResourceFCC\n",
      "ResourceHackerRank\n",
      "ResourceKA\n",
      "ResourceLynda\n",
      "ResourceMDN\n",
      "ResourceOdinProj\n",
      "ResourceOther\n",
      "ResourcePluralSight\n",
      "ResourceSkillcrush\n",
      "ResourceSO\n",
      "ResourceTreehouse\n",
      "ResourceUdacity\n",
      "ResourceUdemy\n",
      "ResourceW3S\n",
      "SchoolDegree\n",
      "SchoolMajor\n",
      "StudentDebtOwe\n",
      "YouTubeCodeCourse\n",
      "YouTubeCodingTrain\n",
      "YouTubeCodingTut360\n",
      "YouTubeComputerphile\n",
      "YouTubeDerekBanas\n",
      "YouTubeDevTips\n",
      "YouTubeEngineeredTruth\n",
      "YouTubeFCC\n",
      "YouTubeFunFunFunction\n",
      "YouTubeGoogleDev\n",
      "YouTubeLearnCode\n",
      "YouTubeLevelUpTuts\n",
      "YouTubeMIT\n",
      "YouTubeMozillaHacks\n",
      "YouTubeOther\n",
      "YouTubeSimplilearn\n",
      "YouTubeTheNewBoston\n"
     ]
    }
   ],
   "source": [
    "for col in data.columns:\n",
    "    print(col)\n",
    "    "
   ]
  },
  {
   "cell_type": "markdown",
   "metadata": {},
   "source": [
    "MoneyForLearning is an interesting variable!!!!"
   ]
  },
  {
   "cell_type": "code",
   "execution_count": 27,
   "metadata": {
    "collapsed": false
   },
   "outputs": [
    {
     "data": {
      "text/html": [
       "<div>\n",
       "<style scoped>\n",
       "    .dataframe tbody tr th:only-of-type {\n",
       "        vertical-align: middle;\n",
       "    }\n",
       "\n",
       "    .dataframe tbody tr th {\n",
       "        vertical-align: top;\n",
       "    }\n",
       "\n",
       "    .dataframe thead th {\n",
       "        text-align: right;\n",
       "    }\n",
       "</style>\n",
       "<table border=\"1\" class=\"dataframe\">\n",
       "  <thead>\n",
       "    <tr style=\"text-align: right;\">\n",
       "      <th></th>\n",
       "      <th>HasFinancialDependents</th>\n",
       "      <th>JobApplyWhen</th>\n",
       "    </tr>\n",
       "  </thead>\n",
       "  <tbody>\n",
       "    <tr>\n",
       "      <th>16650</th>\n",
       "      <td>1.0</td>\n",
       "      <td>I'm already applying</td>\n",
       "    </tr>\n",
       "  </tbody>\n",
       "</table>\n",
       "</div>"
      ],
      "text/plain": [
       "       HasFinancialDependents          JobApplyWhen\n",
       "16650                     1.0  I'm already applying"
      ]
     },
     "execution_count": 27,
     "metadata": {},
     "output_type": "execute_result"
    }
   ],
   "source": [
    "data[data[\"MoneyForLearning\"] == 200000][[\"HasFinancialDependents\",\"JobApplyWhen\"]]"
   ]
  },
  {
   "cell_type": "code",
   "execution_count": 28,
   "metadata": {
    "collapsed": false
   },
   "outputs": [
    {
     "data": {
      "text/plain": [
       "<matplotlib.axes._subplots.AxesSubplot at 0x7f74548dcef0>"
      ]
     },
     "execution_count": 28,
     "metadata": {},
     "output_type": "execute_result"
    },
    {
     "data": {
      "image/png": "[encoded data removed]",
      "text/plain": [
       "<matplotlib.figure.Figure at 0x7f74548df978>"
      ]
     },
     "metadata": {},
     "output_type": "display_data"
    }
   ],
   "source": [
    "data[\"MoneyForLearning\"].plot.kde()"
   ]
  },
  {
   "cell_type": "code",
   "execution_count": 29,
   "metadata": {
    "collapsed": false
   },
   "outputs": [
    {
     "data": {
      "text/html": [
       "<div>\n",
       "<style scoped>\n",
       "    .dataframe tbody tr th:only-of-type {\n",
       "        vertical-align: middle;\n",
       "    }\n",
       "\n",
       "    .dataframe tbody tr th {\n",
       "        vertical-align: top;\n",
       "    }\n",
       "\n",
       "    .dataframe thead th {\n",
       "        text-align: right;\n",
       "    }\n",
       "</style>\n",
       "<table border=\"1\" class=\"dataframe\">\n",
       "  <thead>\n",
       "    <tr style=\"text-align: right;\">\n",
       "      <th></th>\n",
       "      <th>MoneyForLearning</th>\n",
       "      <th>MonthsProgramming</th>\n",
       "    </tr>\n",
       "  </thead>\n",
       "  <tbody>\n",
       "    <tr>\n",
       "      <th>1</th>\n",
       "      <td>80.0</td>\n",
       "      <td>6.0</td>\n",
       "    </tr>\n",
       "    <tr>\n",
       "      <th>2</th>\n",
       "      <td>1000.0</td>\n",
       "      <td>5.0</td>\n",
       "    </tr>\n",
       "    <tr>\n",
       "      <th>3</th>\n",
       "      <td>0.0</td>\n",
       "      <td>5.0</td>\n",
       "    </tr>\n",
       "    <tr>\n",
       "      <th>4</th>\n",
       "      <td>0.0</td>\n",
       "      <td>24.0</td>\n",
       "    </tr>\n",
       "    <tr>\n",
       "      <th>6</th>\n",
       "      <td>0.0</td>\n",
       "      <td>12.0</td>\n",
       "    </tr>\n",
       "    <tr>\n",
       "      <th>9</th>\n",
       "      <td>100.0</td>\n",
       "      <td>18.0</td>\n",
       "    </tr>\n",
       "    <tr>\n",
       "      <th>13</th>\n",
       "      <td>NaN</td>\n",
       "      <td>NaN</td>\n",
       "    </tr>\n",
       "    <tr>\n",
       "      <th>14</th>\n",
       "      <td>NaN</td>\n",
       "      <td>9.0</td>\n",
       "    </tr>\n",
       "    <tr>\n",
       "      <th>15</th>\n",
       "      <td>0.0</td>\n",
       "      <td>1.0</td>\n",
       "    </tr>\n",
       "    <tr>\n",
       "      <th>16</th>\n",
       "      <td>200.0</td>\n",
       "      <td>12.0</td>\n",
       "    </tr>\n",
       "    <tr>\n",
       "      <th>18</th>\n",
       "      <td>500.0</td>\n",
       "      <td>14.0</td>\n",
       "    </tr>\n",
       "    <tr>\n",
       "      <th>19</th>\n",
       "      <td>500.0</td>\n",
       "      <td>28.0</td>\n",
       "    </tr>\n",
       "    <tr>\n",
       "      <th>22</th>\n",
       "      <td>4000.0</td>\n",
       "      <td>14.0</td>\n",
       "    </tr>\n",
       "    <tr>\n",
       "      <th>28</th>\n",
       "      <td>29.0</td>\n",
       "      <td>12.0</td>\n",
       "    </tr>\n",
       "    <tr>\n",
       "      <th>29</th>\n",
       "      <td>300.0</td>\n",
       "      <td>NaN</td>\n",
       "    </tr>\n",
       "    <tr>\n",
       "      <th>30</th>\n",
       "      <td>200.0</td>\n",
       "      <td>3.0</td>\n",
       "    </tr>\n",
       "    <tr>\n",
       "      <th>33</th>\n",
       "      <td>500.0</td>\n",
       "      <td>6.0</td>\n",
       "    </tr>\n",
       "    <tr>\n",
       "      <th>34</th>\n",
       "      <td>NaN</td>\n",
       "      <td>NaN</td>\n",
       "    </tr>\n",
       "    <tr>\n",
       "      <th>35</th>\n",
       "      <td>0.0</td>\n",
       "      <td>25.0</td>\n",
       "    </tr>\n",
       "    <tr>\n",
       "      <th>40</th>\n",
       "      <td>200.0</td>\n",
       "      <td>8.0</td>\n",
       "    </tr>\n",
       "    <tr>\n",
       "      <th>42</th>\n",
       "      <td>100.0</td>\n",
       "      <td>2.0</td>\n",
       "    </tr>\n",
       "    <tr>\n",
       "      <th>43</th>\n",
       "      <td>0.0</td>\n",
       "      <td>5.0</td>\n",
       "    </tr>\n",
       "    <tr>\n",
       "      <th>52</th>\n",
       "      <td>0.0</td>\n",
       "      <td>12.0</td>\n",
       "    </tr>\n",
       "    <tr>\n",
       "      <th>55</th>\n",
       "      <td>0.0</td>\n",
       "      <td>3.0</td>\n",
       "    </tr>\n",
       "    <tr>\n",
       "      <th>63</th>\n",
       "      <td>100.0</td>\n",
       "      <td>6.0</td>\n",
       "    </tr>\n",
       "    <tr>\n",
       "      <th>64</th>\n",
       "      <td>100.0</td>\n",
       "      <td>2.0</td>\n",
       "    </tr>\n",
       "    <tr>\n",
       "      <th>66</th>\n",
       "      <td>50.0</td>\n",
       "      <td>18.0</td>\n",
       "    </tr>\n",
       "    <tr>\n",
       "      <th>70</th>\n",
       "      <td>150.0</td>\n",
       "      <td>3.0</td>\n",
       "    </tr>\n",
       "    <tr>\n",
       "      <th>84</th>\n",
       "      <td>200.0</td>\n",
       "      <td>12.0</td>\n",
       "    </tr>\n",
       "    <tr>\n",
       "      <th>88</th>\n",
       "      <td>9600.0</td>\n",
       "      <td>2.0</td>\n",
       "    </tr>\n",
       "    <tr>\n",
       "      <th>...</th>\n",
       "      <td>...</td>\n",
       "      <td>...</td>\n",
       "    </tr>\n",
       "    <tr>\n",
       "      <th>18017</th>\n",
       "      <td>0.0</td>\n",
       "      <td>2.0</td>\n",
       "    </tr>\n",
       "    <tr>\n",
       "      <th>18020</th>\n",
       "      <td>0.0</td>\n",
       "      <td>2.0</td>\n",
       "    </tr>\n",
       "    <tr>\n",
       "      <th>18037</th>\n",
       "      <td>2000.0</td>\n",
       "      <td>24.0</td>\n",
       "    </tr>\n",
       "    <tr>\n",
       "      <th>18039</th>\n",
       "      <td>10.0</td>\n",
       "      <td>1.0</td>\n",
       "    </tr>\n",
       "    <tr>\n",
       "      <th>18041</th>\n",
       "      <td>500.0</td>\n",
       "      <td>36.0</td>\n",
       "    </tr>\n",
       "    <tr>\n",
       "      <th>18043</th>\n",
       "      <td>0.0</td>\n",
       "      <td>1.0</td>\n",
       "    </tr>\n",
       "    <tr>\n",
       "      <th>18049</th>\n",
       "      <td>0.0</td>\n",
       "      <td>12.0</td>\n",
       "    </tr>\n",
       "    <tr>\n",
       "      <th>18050</th>\n",
       "      <td>200.0</td>\n",
       "      <td>12.0</td>\n",
       "    </tr>\n",
       "    <tr>\n",
       "      <th>18052</th>\n",
       "      <td>500.0</td>\n",
       "      <td>NaN</td>\n",
       "    </tr>\n",
       "    <tr>\n",
       "      <th>18054</th>\n",
       "      <td>300.0</td>\n",
       "      <td>2.0</td>\n",
       "    </tr>\n",
       "    <tr>\n",
       "      <th>18057</th>\n",
       "      <td>0.0</td>\n",
       "      <td>8.0</td>\n",
       "    </tr>\n",
       "    <tr>\n",
       "      <th>18069</th>\n",
       "      <td>0.0</td>\n",
       "      <td>12.0</td>\n",
       "    </tr>\n",
       "    <tr>\n",
       "      <th>18078</th>\n",
       "      <td>1500.0</td>\n",
       "      <td>3.0</td>\n",
       "    </tr>\n",
       "    <tr>\n",
       "      <th>18081</th>\n",
       "      <td>NaN</td>\n",
       "      <td>12.0</td>\n",
       "    </tr>\n",
       "    <tr>\n",
       "      <th>18088</th>\n",
       "      <td>364.0</td>\n",
       "      <td>2.0</td>\n",
       "    </tr>\n",
       "    <tr>\n",
       "      <th>18090</th>\n",
       "      <td>0.0</td>\n",
       "      <td>1.0</td>\n",
       "    </tr>\n",
       "    <tr>\n",
       "      <th>18097</th>\n",
       "      <td>0.0</td>\n",
       "      <td>1.0</td>\n",
       "    </tr>\n",
       "    <tr>\n",
       "      <th>18098</th>\n",
       "      <td>22.0</td>\n",
       "      <td>18.0</td>\n",
       "    </tr>\n",
       "    <tr>\n",
       "      <th>18099</th>\n",
       "      <td>1000.0</td>\n",
       "      <td>0.0</td>\n",
       "    </tr>\n",
       "    <tr>\n",
       "      <th>18107</th>\n",
       "      <td>550.0</td>\n",
       "      <td>2.0</td>\n",
       "    </tr>\n",
       "    <tr>\n",
       "      <th>18112</th>\n",
       "      <td>0.0</td>\n",
       "      <td>24.0</td>\n",
       "    </tr>\n",
       "    <tr>\n",
       "      <th>18118</th>\n",
       "      <td>0.0</td>\n",
       "      <td>13.0</td>\n",
       "    </tr>\n",
       "    <tr>\n",
       "      <th>18125</th>\n",
       "      <td>200.0</td>\n",
       "      <td>7.0</td>\n",
       "    </tr>\n",
       "    <tr>\n",
       "      <th>18130</th>\n",
       "      <td>0.0</td>\n",
       "      <td>8.0</td>\n",
       "    </tr>\n",
       "    <tr>\n",
       "      <th>18153</th>\n",
       "      <td>0.0</td>\n",
       "      <td>12.0</td>\n",
       "    </tr>\n",
       "    <tr>\n",
       "      <th>18154</th>\n",
       "      <td>297.0</td>\n",
       "      <td>1.0</td>\n",
       "    </tr>\n",
       "    <tr>\n",
       "      <th>18155</th>\n",
       "      <td>0.0</td>\n",
       "      <td>3.0</td>\n",
       "    </tr>\n",
       "    <tr>\n",
       "      <th>18156</th>\n",
       "      <td>1000.0</td>\n",
       "      <td>1.0</td>\n",
       "    </tr>\n",
       "    <tr>\n",
       "      <th>18161</th>\n",
       "      <td>0.0</td>\n",
       "      <td>6.0</td>\n",
       "    </tr>\n",
       "    <tr>\n",
       "      <th>18171</th>\n",
       "      <td>10000.0</td>\n",
       "      <td>1.0</td>\n",
       "    </tr>\n",
       "  </tbody>\n",
       "</table>\n",
       "<p>4198 rows × 2 columns</p>\n",
       "</div>"
      ],
      "text/plain": [
       "       MoneyForLearning  MonthsProgramming\n",
       "1                  80.0                6.0\n",
       "2                1000.0                5.0\n",
       "3                   0.0                5.0\n",
       "4                   0.0               24.0\n",
       "6                   0.0               12.0\n",
       "9                 100.0               18.0\n",
       "13                  NaN                NaN\n",
       "14                  NaN                9.0\n",
       "15                  0.0                1.0\n",
       "16                200.0               12.0\n",
       "18                500.0               14.0\n",
       "19                500.0               28.0\n",
       "22               4000.0               14.0\n",
       "28                 29.0               12.0\n",
       "29                300.0                NaN\n",
       "30                200.0                3.0\n",
       "33                500.0                6.0\n",
       "34                  NaN                NaN\n",
       "35                  0.0               25.0\n",
       "40                200.0                8.0\n",
       "42                100.0                2.0\n",
       "43                  0.0                5.0\n",
       "52                  0.0               12.0\n",
       "55                  0.0                3.0\n",
       "63                100.0                6.0\n",
       "64                100.0                2.0\n",
       "66                 50.0               18.0\n",
       "70                150.0                3.0\n",
       "84                200.0               12.0\n",
       "88               9600.0                2.0\n",
       "...                 ...                ...\n",
       "18017               0.0                2.0\n",
       "18020               0.0                2.0\n",
       "18037            2000.0               24.0\n",
       "18039              10.0                1.0\n",
       "18041             500.0               36.0\n",
       "18043               0.0                1.0\n",
       "18049               0.0               12.0\n",
       "18050             200.0               12.0\n",
       "18052             500.0                NaN\n",
       "18054             300.0                2.0\n",
       "18057               0.0                8.0\n",
       "18069               0.0               12.0\n",
       "18078            1500.0                3.0\n",
       "18081               NaN               12.0\n",
       "18088             364.0                2.0\n",
       "18090               0.0                1.0\n",
       "18097               0.0                1.0\n",
       "18098              22.0               18.0\n",
       "18099            1000.0                0.0\n",
       "18107             550.0                2.0\n",
       "18112               0.0               24.0\n",
       "18118               0.0               13.0\n",
       "18125             200.0                7.0\n",
       "18130               0.0                8.0\n",
       "18153               0.0               12.0\n",
       "18154             297.0                1.0\n",
       "18155               0.0                3.0\n",
       "18156            1000.0                1.0\n",
       "18161               0.0                6.0\n",
       "18171           10000.0                1.0\n",
       "\n",
       "[4198 rows x 2 columns]"
      ]
     },
     "execution_count": 29,
     "metadata": {},
     "output_type": "execute_result"
    }
   ],
   "source": [
    "data[[\"MoneyForLearning\",\"MonthsProgramming\"]]"
   ]
  },
  {
   "cell_type": "code",
   "execution_count": 30,
   "metadata": {
    "collapsed": false
   },
   "outputs": [],
   "source": [
    "data[\"MonthsProgramming\"] = data[\"MonthsProgramming\"].apply(lambda x: 1 if x == 0 else x)\n",
    "data[\"MoneySpentPerMonth\"] = data[\"MoneyForLearning\"] / data[\"MonthsProgramming\"]"
   ]
  },
  {
   "cell_type": "code",
   "execution_count": 31,
   "metadata": {
    "collapsed": false
   },
   "outputs": [],
   "source": [
    "country_list = [\"United States of America\",\"India\",\"United Kingdom\",\"Canada\"]\n",
    "\n",
    "data2 = data[[\"MoneySpentPerMonth\",\"CountryLive\"]].dropna()"
   ]
  },
  {
   "cell_type": "code",
   "execution_count": 32,
   "metadata": {
    "collapsed": false
   },
   "outputs": [],
   "source": [
    "country_group = data2.groupby(\"CountryLive\")\n",
    "country_live = country_group.agg(np.mean)"
   ]
  },
  {
   "cell_type": "code",
   "execution_count": 33,
   "metadata": {
    "collapsed": false
   },
   "outputs": [],
   "source": [
    "country_money = country_live.sort_values(\"MoneySpentPerMonth\", ascending = False)/country_live.sum()"
   ]
  },
  {
   "cell_type": "code",
   "execution_count": 34,
   "metadata": {
    "collapsed": false
   },
   "outputs": [],
   "source": [
    "best_country = country_money.loc[[\"United States of America\",\"India\",\"United Kingdom\", \"Canada\"]]"
   ]
  },
  {
   "cell_type": "code",
   "execution_count": 35,
   "metadata": {
    "collapsed": false
   },
   "outputs": [
    {
     "data": {
      "image/png": "[encoded data removed]",
      "text/plain": [
       "<matplotlib.figure.Figure at 0x7f7454a15f98>"
      ]
     },
     "metadata": {},
     "output_type": "display_data"
    }
   ],
   "source": [
    "best_country[\"MoneySpentPerMonth\"].sort_values(ascending = False).plot.bar(rot = 45)\n",
    "plt.style.use(\"fivethirtyeight\")\n"
   ]
  },
  {
   "cell_type": "code",
   "execution_count": 36,
   "metadata": {
    "collapsed": false
   },
   "outputs": [
    {
     "data": {
      "text/plain": [
       "United States of America    0.473403\n",
       "India                       0.079427\n",
       "United Kingdom              0.045664\n",
       "Canada                      0.033277\n",
       "Name: CountryLive, dtype: float64"
      ]
     },
     "execution_count": 36,
     "metadata": {},
     "output_type": "execute_result"
    }
   ],
   "source": [
    "y = data[\"CountryLive\"].value_counts(normalize = True).head(4)\n",
    "y"
   ]
  },
  {
   "cell_type": "code",
   "execution_count": 37,
   "metadata": {
    "collapsed": false
   },
   "outputs": [
    {
     "data": {
      "text/plain": [
       "CountryLive\n",
       "United States of America    0.017949\n",
       "India                       0.008092\n",
       "Canada                      0.007225\n",
       "United Kingdom              0.003503\n",
       "Name: MoneySpentPerMonth, dtype: float64"
      ]
     },
     "execution_count": 37,
     "metadata": {},
     "output_type": "execute_result"
    }
   ],
   "source": [
    "x = best_country[\"MoneySpentPerMonth\"].sort_values(ascending = False)\n",
    "x"
   ]
  },
  {
   "cell_type": "code",
   "execution_count": 38,
   "metadata": {
    "collapsed": false
   },
   "outputs": [
    {
     "data": {
      "text/plain": [
       "<matplotlib.axes._subplots.AxesSubplot at 0x7f74547e9400>"
      ]
     },
     "execution_count": 38,
     "metadata": {},
     "output_type": "execute_result"
    },
    {
     "data": {
      "image/png": "[encoded data removed]",
      "text/plain": [
       "<matplotlib.figure.Figure at 0x7f74547e15f8>"
      ]
     },
     "metadata": {},
     "output_type": "display_data"
    }
   ],
   "source": [
    "z = pd.concat([x,y],axis = 1)\n",
    "z[\"CountryLive\"].plot.bar(ylim = (0,0.5))"
   ]
  },
  {
   "cell_type": "code",
   "execution_count": 39,
   "metadata": {
    "collapsed": false
   },
   "outputs": [
    {
     "data": {
      "text/html": [
       "<div>\n",
       "<style scoped>\n",
       "    .dataframe tbody tr th:only-of-type {\n",
       "        vertical-align: middle;\n",
       "    }\n",
       "\n",
       "    .dataframe tbody tr th {\n",
       "        vertical-align: top;\n",
       "    }\n",
       "\n",
       "    .dataframe thead th {\n",
       "        text-align: right;\n",
       "    }\n",
       "</style>\n",
       "<table border=\"1\" class=\"dataframe\">\n",
       "  <thead>\n",
       "    <tr style=\"text-align: right;\">\n",
       "      <th></th>\n",
       "      <th>MoneySpentPerMonth</th>\n",
       "      <th>CountryLive</th>\n",
       "    </tr>\n",
       "  </thead>\n",
       "  <tbody>\n",
       "    <tr>\n",
       "      <th>Canada</th>\n",
       "      <td>0.072250</td>\n",
       "      <td>0.033277</td>\n",
       "    </tr>\n",
       "    <tr>\n",
       "      <th>India</th>\n",
       "      <td>0.080916</td>\n",
       "      <td>0.079427</td>\n",
       "    </tr>\n",
       "    <tr>\n",
       "      <th>United Kingdom</th>\n",
       "      <td>0.035026</td>\n",
       "      <td>0.045664</td>\n",
       "    </tr>\n",
       "    <tr>\n",
       "      <th>United States of America</th>\n",
       "      <td>0.179491</td>\n",
       "      <td>0.473403</td>\n",
       "    </tr>\n",
       "  </tbody>\n",
       "</table>\n",
       "</div>"
      ],
      "text/plain": [
       "                          MoneySpentPerMonth  CountryLive\n",
       "Canada                              0.072250     0.033277\n",
       "India                               0.080916     0.079427\n",
       "United Kingdom                      0.035026     0.045664\n",
       "United States of America            0.179491     0.473403"
      ]
     },
     "execution_count": 39,
     "metadata": {},
     "output_type": "execute_result"
    }
   ],
   "source": [
    "z[\"MoneySpentPerMonth\"] = z[\"MoneySpentPerMonth\"] * 10\n",
    "z"
   ]
  },
  {
   "cell_type": "markdown",
   "metadata": {},
   "source": [
    "# Creating Group Bar Plot to Compare Money Spent per month and Number of participants per country"
   ]
  },
  {
   "cell_type": "code",
   "execution_count": 40,
   "metadata": {
    "collapsed": false
   },
   "outputs": [
    {
     "data": {
      "image/png": "[encoded data removed]",
      "text/plain": [
       "<matplotlib.figure.Figure at 0x7f7454763358>"
      ]
     },
     "metadata": {},
     "output_type": "display_data"
    }
   ],
   "source": [
    "x = np.arange(4)\n",
    "width = 0.35\n",
    "fig,ax = plt.subplots(figsize = (10,10))\n",
    "mspm = ax.bar(x - width/2,z[\"MoneySpentPerMonth\"].values.tolist(),width,label = \"MoneySpent\",color = \"lightskyblue\")\n",
    "cl = ax.bar(x + width/2,z[\"CountryLive\"].values.tolist(),width,label = \"Country Live\",color = \"lightcoral\")\n",
    "ax.set_xticks(x+0.2)\n",
    "ax.set_xticklabels(z.index.tolist())\n",
    "mspm_legend = mpatches.Patch(color = \"lightskyblue\", label = \"Money Spent per Month\" )\n",
    "cl_legend = mpatches.Patch(color = \"lightcoral\", label = \"Country Live\")\n",
    "plt.legend(handles = [mspm_legend,cl_legend], loc = \"upper left\")\n",
    "plt.show()"
   ]
  },
  {
   "cell_type": "markdown",
   "metadata": {},
   "source": [
    "* United States of America ranks number 1 at number of participants and money spent for learning per month.\n",
    "* Even though Canada has the least number of participants, they still pay more for learning than UK.\n",
    "* India is the second largest paying country for learning\n",
    "\n",
    "This is very doubtful since UK and Canada are a rich country but the graph shows that India pays more, This needs to be investigated further"
   ]
  },
  {
   "cell_type": "markdown",
   "metadata": {},
   "source": [
    "## Identifying India"
   ]
  },
  {
   "cell_type": "code",
   "execution_count": 101,
   "metadata": {
    "collapsed": false
   },
   "outputs": [
    {
     "name": "stderr",
     "output_type": "stream",
     "text": [
      "/dataquest/system/env/python3/lib/python3.4/site-packages/seaborn/categorical.py:454: FutureWarning:\n",
      "\n",
      "remove_na is deprecated and is a private function. Do not use.\n",
      "\n"
     ]
    },
    {
     "data": {
      "text/plain": [
       "count       292.000000\n",
       "mean        931.705479\n",
       "std        6726.240541\n",
       "min           0.000000\n",
       "25%           0.000000\n",
       "50%           0.000000\n",
       "75%         200.000000\n",
       "max      100000.000000\n",
       "Name: MoneyForLearning, dtype: float64"
      ]
     },
     "execution_count": 101,
     "metadata": {},
     "output_type": "execute_result"
    },
    {
     "data": {
      "image/png": "[encoded data removed]",
      "text/plain": [
       "<matplotlib.figure.Figure at 0x7f74502ea780>"
      ]
     },
     "metadata": {},
     "output_type": "display_data"
    }
   ],
   "source": [
    "India = data[(data[\"CountryLive\"] == \"India\")][\"MoneyForLearning\"]\n",
    "sns.boxplot(India)\n",
    "India.describe()\n",
    "\n"
   ]
  },
  {
   "cell_type": "code",
   "execution_count": 96,
   "metadata": {
    "collapsed": false
   },
   "outputs": [
    {
     "ename": "NameError",
     "evalue": "name 'only_4' is not defined",
     "output_type": "error",
     "traceback": [
      "\u001b[1;31m\u001b[0m",
      "\u001b[1;31mNameError\u001b[0mTraceback (most recent call last)",
      "\u001b[1;32m<ipython-input-96-7885bae867a9>\u001b[0m in \u001b[0;36m<module>\u001b[1;34m()\u001b[0m\n\u001b[1;32m----> 1\u001b[1;33m \u001b[0monly_4\u001b[0m\u001b[1;33m\u001b[0m\u001b[0m\n\u001b[0m",
      "\u001b[1;31mNameError\u001b[0m: name 'only_4' is not defined"
     ]
    }
   ],
   "source": [
    "only_4 "
   ]
  },
  {
   "cell_type": "markdown",
   "metadata": {},
   "source": [
    "The median for budget of Indians for learning is zero. Meaning the half of the population for Indians do not spend money when learning."
   ]
  },
  {
   "cell_type": "markdown",
   "metadata": {},
   "source": [
    "## Computing the upperbound and lowerbound to filter the outliers"
   ]
  },
  {
   "cell_type": "code",
   "execution_count": 86,
   "metadata": {
    "collapsed": false
   },
   "outputs": [
    {
     "name": "stdout",
     "output_type": "stream",
     "text": [
      "500.0\n",
      "-300.0\n"
     ]
    }
   ],
   "source": [
    "\n",
    "iqr = 200\n",
    "upperbound_ind = 200 +(iqr * 1.5)\n",
    "lowerbound_ind = 0 - (iqr*1.5)\n",
    "print(upperbound_ind)\n",
    "print(lowerbound_ind)"
   ]
  },
  {
   "cell_type": "markdown",
   "metadata": {
    "collapsed": false
   },
   "source": [
    "We have to filter values where values are greater than 500"
   ]
  },
  {
   "cell_type": "code",
   "execution_count": 87,
   "metadata": {
    "collapsed": false
   },
   "outputs": [],
   "source": [
    "mean_money_india = data[(data[\"CountryLive\"] == \"India\")&(data[\"MoneyForLearning\"]<= 500)][\"MoneyForLearning\"].mean()\n",
    "mean_countries.append(mean_money_india)"
   ]
  },
  {
   "cell_type": "code",
   "execution_count": 91,
   "metadata": {
    "collapsed": false
   },
   "outputs": [
    {
     "data": {
      "text/plain": [
       "65.65116279069767"
      ]
     },
     "execution_count": 91,
     "metadata": {},
     "output_type": "execute_result"
    }
   ],
   "source": [
    "mean_money_india"
   ]
  },
  {
   "cell_type": "markdown",
   "metadata": {},
   "source": [
    "## Identifying Canada"
   ]
  },
  {
   "cell_type": "code",
   "execution_count": 93,
   "metadata": {
    "collapsed": false
   },
   "outputs": [
    {
     "name": "stderr",
     "output_type": "stream",
     "text": [
      "/dataquest/system/env/python3/lib/python3.4/site-packages/seaborn/categorical.py:454: FutureWarning:\n",
      "\n",
      "remove_na is deprecated and is a private function. Do not use.\n",
      "\n"
     ]
    },
    {
     "data": {
      "text/plain": [
       "count      129.000000\n",
       "mean       712.054264\n",
       "std       2093.258488\n",
       "min          0.000000\n",
       "25%          0.000000\n",
       "50%         20.000000\n",
       "75%        150.000000\n",
       "max      10000.000000\n",
       "Name: MoneyForLearning, dtype: float64"
      ]
     },
     "execution_count": 93,
     "metadata": {},
     "output_type": "execute_result"
    },
    {
     "data": {
      "image/png": "[encoded data removed]",
      "text/plain": [
       "<matplotlib.figure.Figure at 0x7f74509f76a0>"
      ]
     },
     "metadata": {},
     "output_type": "display_data"
    }
   ],
   "source": [
    "Canada = data[(data[\"CountryLive\"] == \"Canada\")][\"MoneyForLearning\"]\n",
    "sns.boxplot(Canada)\n",
    "plt.xlim(0,500)\n",
    "Canada.describe()"
   ]
  },
  {
   "cell_type": "code",
   "execution_count": 89,
   "metadata": {
    "collapsed": false
   },
   "outputs": [
    {
     "name": "stdout",
     "output_type": "stream",
     "text": [
      "375.0\n",
      "-225.0\n"
     ]
    }
   ],
   "source": [
    "iqr = 150-0\n",
    "upperbound_cand = 150 +(iqr * 1.5)\n",
    "lowerbound_cand= 0 - (iqr*1.5)\n",
    "print(upperbound_cand)\n",
    "print(lowerbound_cand)"
   ]
  },
  {
   "cell_type": "code",
   "execution_count": 90,
   "metadata": {
    "collapsed": false
   },
   "outputs": [
    {
     "data": {
      "text/plain": [
       "46.80555555555556"
      ]
     },
     "execution_count": 90,
     "metadata": {},
     "output_type": "execute_result"
    }
   ],
   "source": [
    "mean_money_cand= data[(data[\"CountryLive\"] == \"Canada\")&(data[\"MoneyForLearning\"]<= 375.0)][\"MoneyForLearning\"].mean()\n",
    "mean_money_cand"
   ]
  },
  {
   "cell_type": "code",
   "execution_count": null,
   "metadata": {
    "collapsed": true
   },
   "outputs": [],
   "source": []
  }
 ],
 "metadata": {
  "kernelspec": {
   "display_name": "Python 3",
   "language": "python",
   "name": "python3"
  },
  "language_info": {
   "codemirror_mode": {
    "name": "ipython",
    "version": 3
   },
   "file_extension": ".py",
   "mimetype": "text/x-python",
   "name": "python",
   "nbconvert_exporter": "python",
   "pygments_lexer": "ipython3",
   "version": "3.4.3"
  }
 },
 "nbformat": 4,
 "nbformat_minor": 2
}
